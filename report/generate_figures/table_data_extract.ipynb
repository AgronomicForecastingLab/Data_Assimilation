{
 "cells": [
  {
   "cell_type": "markdown",
   "metadata": {
    "toc": true
   },
   "source": [
    "<h1>Table of Contents<span class=\"tocSkip\"></span></h1>\n",
    "<div class=\"toc\"><ul class=\"toc-item\"><li><span><a href=\"#RABs\" data-toc-modified-id=\"RABs-1\"><span class=\"toc-item-num\">1&nbsp;&nbsp;</span>RABs</a></span></li><li><span><a href=\"#All-RBs\" data-toc-modified-id=\"All-RBs-2\"><span class=\"toc-item-num\">2&nbsp;&nbsp;</span>All RBs</a></span></li></ul></div>"
   ]
  },
  {
   "cell_type": "code",
   "execution_count": 2,
   "metadata": {},
   "outputs": [
    {
     "name": "stdout",
     "output_type": "stream",
     "text": [
      "The autoreload extension is already loaded. To reload it, use:\n",
      "  %reload_ext autoreload\n",
      "C:\\Users\\julia\\Documents\\Imperial\\DA_project\n"
     ]
    }
   ],
   "source": [
    "%load_ext autoreload\n",
    "%autoreload 2\n",
    "%matplotlib inline\n",
    "%cd ../.."
   ]
  },
  {
   "cell_type": "code",
   "execution_count": 3,
   "metadata": {},
   "outputs": [],
   "source": [
    "import pickle"
   ]
  },
  {
   "cell_type": "markdown",
   "metadata": {},
   "source": [
    "### RABs"
   ]
  },
  {
   "cell_type": "code",
   "execution_count": 4,
   "metadata": {},
   "outputs": [],
   "source": [
    "fp = \"experiments/TSVD/3b/final.txt\"\n",
    "with open(fp, 'rb') as f:\n",
    "    res = pickle.load(f)"
   ]
  },
  {
   "cell_type": "code",
   "execution_count": 5,
   "metadata": {},
   "outputs": [
    {
     "data": {
      "text/plain": [
       "[(0.19166102770216262,\n",
       "  OrderedDict([('cardinality', 1),\n",
       "               ('layers', 4),\n",
       "               ('block_type', 'RNAB'),\n",
       "               ('sBlock', 'NeXt')]),\n",
       "  'experiments/DA5/03b/2'),\n",
       " (0.20050110451562383,\n",
       "  OrderedDict([('cardinality', 1),\n",
       "               ('layers', 1),\n",
       "               ('block_type', 'RAB'),\n",
       "               ('sBlock', 'NeXt'),\n",
       "               ('sigmoid', True)]),\n",
       "  'experiments/DA5/03b2/0'),\n",
       " (0.20409428797982754,\n",
       "  OrderedDict([('cardinality', 1),\n",
       "               ('layers', 1),\n",
       "               ('block_type', 'RNAB'),\n",
       "               ('sBlock', 'NeXt')]),\n",
       "  'experiments/DA5/03b/0'),\n",
       " (0.20707366521094617,\n",
       "  OrderedDict([('cardinality', 1),\n",
       "               ('layers', 8),\n",
       "               ('block_type', 'RNAB'),\n",
       "               ('sBlock', 'NeXt')]),\n",
       "  'experiments/DA5/03b/3'),\n",
       " (0.21876773375950448,\n",
       "  OrderedDict([('cardinality', 1),\n",
       "               ('layers', 2),\n",
       "               ('block_type', 'RAB'),\n",
       "               ('sBlock', 'NeXt'),\n",
       "               ('sigmoid', True)]),\n",
       "  'experiments/DA5/03b2/1'),\n",
       " (0.24535767178861329,\n",
       "  OrderedDict([('cardinality', 1),\n",
       "               ('layers', 2),\n",
       "               ('block_type', 'RNAB'),\n",
       "               ('sBlock', 'NeXt')]),\n",
       "  'experiments/DA5/03b/1')]"
      ]
     },
     "execution_count": 5,
     "metadata": {},
     "output_type": "execute_result"
    }
   ],
   "source": [
    "res"
   ]
  },
  {
   "cell_type": "markdown",
   "metadata": {},
   "source": [
    "### All RBs"
   ]
  },
  {
   "cell_type": "code",
   "execution_count": 8,
   "metadata": {},
   "outputs": [],
   "source": [
    "fp = \"experiments/DA3/final.txt\"\n",
    "with open(fp, 'rb') as f:\n",
    "    res = pickle.load(f)"
   ]
  },
  {
   "cell_type": "code",
   "execution_count": 9,
   "metadata": {},
   "outputs": [
    {
     "data": {
      "text/plain": [
       "[]"
      ]
     },
     "execution_count": 9,
     "metadata": {},
     "output_type": "execute_result"
    }
   ],
   "source": [
    "res"
   ]
  },
  {
   "cell_type": "code",
   "execution_count": null,
   "metadata": {},
   "outputs": [],
   "source": []
  }
 ],
 "metadata": {
  "kernelspec": {
   "display_name": "Python 3",
   "language": "python",
   "name": "python3"
  },
  "language_info": {
   "codemirror_mode": {
    "name": "ipython",
    "version": 3
   },
   "file_extension": ".py",
   "mimetype": "text/x-python",
   "name": "python",
   "nbconvert_exporter": "python",
   "pygments_lexer": "ipython3",
   "version": "3.6.7"
  },
  "toc": {
   "base_numbering": 1,
   "nav_menu": {},
   "number_sections": true,
   "sideBar": true,
   "skip_h1_title": false,
   "title_cell": "Table of Contents",
   "title_sidebar": "Contents",
   "toc_cell": true,
   "toc_position": {},
   "toc_section_display": true,
   "toc_window_display": true
  }
 },
 "nbformat": 4,
 "nbformat_minor": 2
}
