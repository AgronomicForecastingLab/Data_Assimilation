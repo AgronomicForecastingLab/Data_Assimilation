{
 "cells": [
  {
   "cell_type": "markdown",
   "metadata": {
    "toc": true
   },
   "source": [
    "<h1>Table of Contents<span class=\"tocSkip\"></span></h1>\n",
    "<div class=\"toc\"><ul class=\"toc-item\"></ul></div>"
   ]
  },
  {
   "cell_type": "markdown",
   "metadata": {},
   "source": [
    "Create ResNext structure graph and attenuation coefficient graph."
   ]
  },
  {
   "cell_type": "code",
   "execution_count": 1,
   "metadata": {},
   "outputs": [],
   "source": [
    "%load_ext autoreload\n",
    "%autoreload 2\n",
    "%matplotlib inline"
   ]
  },
  {
   "cell_type": "code",
   "execution_count": 2,
   "metadata": {},
   "outputs": [],
   "source": [
    "import pickle\n",
    "import matplotlib.pyplot as plt\n",
    "import seaborn as sns\n",
    "from mpl_toolkits.mplot3d import Axes3D\n",
    "import pandas as pd"
   ]
  },
  {
   "cell_type": "code",
   "execution_count": 3,
   "metadata": {},
   "outputs": [
    {
     "name": "stdout",
     "output_type": "stream",
     "text": [
      "C:\\Users\\julia\\Documents\\Imperial\\DA_project\n"
     ]
    }
   ],
   "source": [
    "%cd ../..\n"
   ]
  },
  {
   "cell_type": "code",
   "execution_count": 12,
   "metadata": {},
   "outputs": [],
   "source": [
    "fp = \"experiments/DA/01c/final.txt\"\n",
    "fp1 = \"report/figures/resNeXt_heatmap.png\"\n"
   ]
  },
  {
   "cell_type": "code",
   "execution_count": 5,
   "metadata": {},
   "outputs": [],
   "source": [
    "with open(fp, \"rb\") as f:\n",
    "    results = pickle.load(f)"
   ]
  },
  {
   "cell_type": "code",
   "execution_count": 14,
   "metadata": {},
   "outputs": [],
   "source": [
    "res = []\n",
    "for data in results:\n",
    "    da_MSE, params = data\n",
    "    x = params[\"layers\"]\n",
    "    y = params[\"cardinality\"]\n",
    "    res.append((x, y, da_MSE))"
   ]
  },
  {
   "cell_type": "code",
   "execution_count": 24,
   "metadata": {},
   "outputs": [
    {
     "data": {
      "text/plain": [
       "[(0.2021611474184685,\n",
       "  OrderedDict([('cardinality', 4),\n",
       "               ('layers', 27),\n",
       "               ('block_type', 'NeXt'),\n",
       "               ('mod', 'ResNeXt3'),\n",
       "               ('enc', 0.05982263386249542),\n",
       "               ('dec', 0.07830227166414261)])),\n",
       " (0.20428880960702483,\n",
       "  OrderedDict([('cardinality', 8),\n",
       "               ('layers', 27),\n",
       "               ('block_type', 'NeXt'),\n",
       "               ('mod', 'ResNeXt3'),\n",
       "               ('enc', 0.06473933160305023),\n",
       "               ('dec', 0.0749773383140564)])),\n",
       " (0.20597038366227857,\n",
       "  OrderedDict([('cardinality', 8),\n",
       "               ('layers', 3),\n",
       "               ('block_type', 'NeXt'),\n",
       "               ('mod', 'ResNeXt3'),\n",
       "               ('enc', 0.05901895835995674),\n",
       "               ('dec', 0.07342158257961273)])),\n",
       " (0.20600817581905412,\n",
       "  OrderedDict([('cardinality', 16),\n",
       "               ('layers', 3),\n",
       "               ('block_type', 'NeXt'),\n",
       "               ('mod', 'ResNeXt3'),\n",
       "               ('enc', 0.05932232365012169),\n",
       "               ('dec', 0.07661771029233932)])),\n",
       " (0.20730568922209397,\n",
       "  OrderedDict([('cardinality', 4),\n",
       "               ('layers', 6),\n",
       "               ('block_type', 'NeXt'),\n",
       "               ('mod', 'ResNeXt3'),\n",
       "               ('enc', 0.0529337041079998),\n",
       "               ('dec', 0.07607899606227875)])),\n",
       " (0.20782411015854946,\n",
       "  OrderedDict([('cardinality', 32),\n",
       "               ('layers', 27),\n",
       "               ('block_type', 'NeXt'),\n",
       "               ('mod', 'ResNeXt3'),\n",
       "               ('enc', 0.06560435891151428),\n",
       "               ('dec', 0.07309703528881073)])),\n",
       " (0.2087321254814941,\n",
       "  OrderedDict([('cardinality', 16),\n",
       "               ('layers', 18),\n",
       "               ('block_type', 'NeXt'),\n",
       "               ('mod', 'ResNeXt3'),\n",
       "               ('enc', 0.059730350971221924),\n",
       "               ('dec', 0.07493531703948975)])),\n",
       " (0.20877342866711196,\n",
       "  OrderedDict([('cardinality', 16),\n",
       "               ('layers', 27),\n",
       "               ('block_type', 'NeXt'),\n",
       "               ('mod', 'ResNeXt3'),\n",
       "               ('enc', 0.06350253522396088),\n",
       "               ('dec', 0.08693061023950577)])),\n",
       " (0.2098869645727697,\n",
       "  OrderedDict([('cardinality', 8),\n",
       "               ('layers', 6),\n",
       "               ('block_type', 'NeXt'),\n",
       "               ('mod', 'ResNeXt3'),\n",
       "               ('enc', 0.06252050399780273),\n",
       "               ('dec', 0.07588733732700348)])),\n",
       " (0.211172058703287,\n",
       "  OrderedDict([('cardinality', 16),\n",
       "               ('layers', 9),\n",
       "               ('block_type', 'NeXt'),\n",
       "               ('mod', 'ResNeXt3'),\n",
       "               ('enc', 0.05711138993501663),\n",
       "               ('dec', 0.07378225773572922)])),\n",
       " (0.2112259409000412,\n",
       "  OrderedDict([('cardinality', 4),\n",
       "               ('layers', 18),\n",
       "               ('block_type', 'NeXt'),\n",
       "               ('mod', 'ResNeXt3'),\n",
       "               ('enc', 0.06406039744615555),\n",
       "               ('dec', 0.07995469868183136)])),\n",
       " (0.21181092907824672,\n",
       "  OrderedDict([('cardinality', 8),\n",
       "               ('layers', 18),\n",
       "               ('block_type', 'NeXt'),\n",
       "               ('mod', 'ResNeXt3'),\n",
       "               ('enc', 0.05903919041156769),\n",
       "               ('dec', 0.08685187250375748)])),\n",
       " (0.21218821563319143,\n",
       "  OrderedDict([('cardinality', 1),\n",
       "               ('layers', 27),\n",
       "               ('block_type', 'NeXt'),\n",
       "               ('mod', 'ResNeXt3'),\n",
       "               ('enc', 0.0637841671705246),\n",
       "               ('dec', 0.08654212951660156)])),\n",
       " (0.21226945762801047,\n",
       "  OrderedDict([('cardinality', 32),\n",
       "               ('layers', 9),\n",
       "               ('block_type', 'NeXt'),\n",
       "               ('mod', 'ResNeXt3'),\n",
       "               ('enc', 0.059721000492572784),\n",
       "               ('dec', 0.07708311825990677)])),\n",
       " (0.21230778350533833,\n",
       "  OrderedDict([('cardinality', 4),\n",
       "               ('layers', 9),\n",
       "               ('block_type', 'NeXt'),\n",
       "               ('mod', 'ResNeXt3'),\n",
       "               ('enc', 0.052631013095378876),\n",
       "               ('dec', 0.08147222548723221)])),\n",
       " (0.21263407133508616,\n",
       "  OrderedDict([('cardinality', 8),\n",
       "               ('layers', 9),\n",
       "               ('block_type', 'NeXt'),\n",
       "               ('mod', 'ResNeXt3'),\n",
       "               ('enc', 0.0659986063838005),\n",
       "               ('dec', 0.10817328840494156)])),\n",
       " (0.21340632360718018,\n",
       "  OrderedDict([('cardinality', 1),\n",
       "               ('layers', 3),\n",
       "               ('block_type', 'NeXt'),\n",
       "               ('mod', 'ResNeXt3'),\n",
       "               ('enc', 0.06013321876525879),\n",
       "               ('dec', 0.08015450835227966)])),\n",
       " (0.2136767017121897,\n",
       "  OrderedDict([('cardinality', 1),\n",
       "               ('layers', 6),\n",
       "               ('block_type', 'NeXt'),\n",
       "               ('mod', 'ResNeXt3'),\n",
       "               ('enc', 0.059376735240221024),\n",
       "               ('dec', 0.07856312394142151)])),\n",
       " (0.21436803743831748,\n",
       "  OrderedDict([('cardinality', 32),\n",
       "               ('layers', 6),\n",
       "               ('block_type', 'NeXt'),\n",
       "               ('mod', 'ResNeXt3'),\n",
       "               ('enc', 0.05747411027550697),\n",
       "               ('dec', 0.07346964627504349)])),\n",
       " (0.21902932049081217,\n",
       "  OrderedDict([('cardinality', 1),\n",
       "               ('layers', 9),\n",
       "               ('block_type', 'NeXt'),\n",
       "               ('mod', 'ResNeXt3'),\n",
       "               ('enc', 0.06797093898057938),\n",
       "               ('dec', 0.07235319912433624)])),\n",
       " (0.2193850642565875,\n",
       "  OrderedDict([('cardinality', 1),\n",
       "               ('layers', 18),\n",
       "               ('block_type', 'NeXt'),\n",
       "               ('mod', 'ResNeXt3'),\n",
       "               ('enc', 0.06298085302114487),\n",
       "               ('dec', 0.08134158700704575)])),\n",
       " (0.22099242503752672,\n",
       "  OrderedDict([('cardinality', 32),\n",
       "               ('layers', 18),\n",
       "               ('block_type', 'NeXt'),\n",
       "               ('mod', 'ResNeXt3'),\n",
       "               ('enc', 0.05709845572710037),\n",
       "               ('dec', 0.07342645525932312)])),\n",
       " (0.22226674814635028,\n",
       "  OrderedDict([('cardinality', 16),\n",
       "               ('layers', 6),\n",
       "               ('block_type', 'NeXt'),\n",
       "               ('mod', 'ResNeXt3'),\n",
       "               ('enc', 0.05659136548638344),\n",
       "               ('dec', 0.07257979363203049)])),\n",
       " (0.22414002216355228,\n",
       "  OrderedDict([('cardinality', 4),\n",
       "               ('layers', 3),\n",
       "               ('block_type', 'NeXt'),\n",
       "               ('mod', 'ResNeXt3'),\n",
       "               ('enc', 0.07265530526638031),\n",
       "               ('dec', 0.09264553338289261)])),\n",
       " (0.22797475176828919,\n",
       "  OrderedDict([('cardinality', 32),\n",
       "               ('layers', 3),\n",
       "               ('block_type', 'NeXt'),\n",
       "               ('mod', 'ResNeXt3'),\n",
       "               ('enc', 0.061819519847631454),\n",
       "               ('dec', 0.07757623493671417)]))]"
      ]
     },
     "execution_count": 24,
     "metadata": {},
     "output_type": "execute_result"
    }
   ],
   "source": [
    "results"
   ]
  },
  {
   "cell_type": "code",
   "execution_count": 26,
   "metadata": {},
   "outputs": [],
   "source": [
    "res1 = pd.DataFrame(res, columns=[\"layers, L\", \"cardinality, N\", \"DA MSE\"])\n",
    "res_piv = pd.pivot_table(res1, values=\"DA MSE\", index=[\"cardinality, N\"], columns=\"layers, L\")"
   ]
  },
  {
   "cell_type": "code",
   "execution_count": 27,
   "metadata": {},
   "outputs": [],
   "source": [
    "# fig = plt.figure() \n",
    "# ax = fig.gca(projection='3d')\n",
    "# ax.plot_trisurf(res1['cardinality'], res1['layers'], res1[\"DA MSE\"], cmap=plt.cm.viridis, linewidth=0.2)\n",
    "# ax.view_init(30, 45)\n"
   ]
  },
  {
   "cell_type": "code",
   "execution_count": 28,
   "metadata": {},
   "outputs": [
    {
     "data": {
      "image/png": "[encoded data removed]",
      "text/plain": [
       "<Figure size 432x288 with 2 Axes>"
      ]
     },
     "metadata": {
      "needs_background": "light"
     },
     "output_type": "display_data"
    }
   ],
   "source": [
    "ax = sns.heatmap(res_piv, cmap=sns.cm.rocket_r, fmt=\".3f\", vmin=0.204)\n",
    "ax.invert_yaxis()\n",
    "fig = ax.get_figure()\n"
   ]
  },
  {
   "cell_type": "code",
   "execution_count": 29,
   "metadata": {},
   "outputs": [],
   "source": [
    "fig.savefig(fp1)"
   ]
  },
  {
   "cell_type": "code",
   "execution_count": null,
   "metadata": {},
   "outputs": [],
   "source": []
  }
 ],
 "metadata": {
  "kernelspec": {
   "display_name": "Python 3",
   "language": "python",
   "name": "python3"
  },
  "language_info": {
   "codemirror_mode": {
    "name": "ipython",
    "version": 3
   },
   "file_extension": ".py",
   "mimetype": "text/x-python",
   "name": "python",
   "nbconvert_exporter": "python",
   "pygments_lexer": "ipython3",
   "version": "3.6.7"
  },
  "toc": {
   "base_numbering": 1,
   "nav_menu": {},
   "number_sections": true,
   "sideBar": true,
   "skip_h1_title": false,
   "title_cell": "Table of Contents",
   "title_sidebar": "Contents",
   "toc_cell": true,
   "toc_position": {},
   "toc_section_display": true,
   "toc_window_display": true
  }
 },
 "nbformat": 4,
 "nbformat_minor": 2
}
