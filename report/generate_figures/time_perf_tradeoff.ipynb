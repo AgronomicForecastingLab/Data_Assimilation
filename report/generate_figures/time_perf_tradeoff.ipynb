{
 "cells": [
  {
   "cell_type": "markdown",
   "metadata": {
    "toc": true
   },
   "source": [
    "<h1>Table of Contents<span class=\"tocSkip\"></span></h1>\n",
    "<div class=\"toc\"><ul class=\"toc-item\"></ul></div>"
   ]
  },
  {
   "cell_type": "code",
   "execution_count": 1,
   "metadata": {},
   "outputs": [
    {
     "name": "stdout",
     "output_type": "stream",
     "text": [
      "C:\\Users\\julia\\Documents\\Imperial\\DA_project\n"
     ]
    }
   ],
   "source": [
    "%cd ../..\n",
    "%load_ext autoreload\n",
    "%autoreload 2"
   ]
  },
  {
   "cell_type": "code",
   "execution_count": 27,
   "metadata": {},
   "outputs": [],
   "source": [
    "import pandas as pd\n",
    "import numpy as np\n",
    "import os\n",
    "import matplotlib.pyplot as plt\n",
    "import pipeline\n",
    "import seaborn as sns\n",
    "sns.set()\n",
    "from matplotlib.ticker import ScalarFormatter\n",
    "\n",
    "#sns.set_palette(\"Dark2\")\n"
   ]
  },
  {
   "cell_type": "markdown",
   "metadata": {},
   "source": [
    "Use a range of AEs, and a range of TSVD Tau and M \n",
    "AND non-preconditioned VarDA. Repeat this in the introduction."
   ]
  },
  {
   "cell_type": "code",
   "execution_count": 28,
   "metadata": {},
   "outputs": [
    {
     "data": {
      "text/html": [
       "<div>\n",
       "<style scoped>\n",
       "    .dataframe tbody tr th:only-of-type {\n",
       "        vertical-align: middle;\n",
       "    }\n",
       "\n",
       "    .dataframe tbody tr th {\n",
       "        vertical-align: top;\n",
       "    }\n",
       "\n",
       "    .dataframe thead th {\n",
       "        text-align: right;\n",
       "    }\n",
       "</style>\n",
       "<table border=\"1\" class=\"dataframe\">\n",
       "  <thead>\n",
       "    <tr style=\"text-align: right;\">\n",
       "      <th></th>\n",
       "      <th>Model</th>\n",
       "      <th>da_mse</th>\n",
       "      <th>time</th>\n",
       "      <th>Formulation</th>\n",
       "    </tr>\n",
       "  </thead>\n",
       "  <tbody>\n",
       "    <tr>\n",
       "      <th>0</th>\n",
       "      <td>$\\tau = 32, M=n, \\sigma_{\\tau} = \\sqrt{\\sigma_0}$</td>\n",
       "      <td>0.200</td>\n",
       "      <td>1.50</td>\n",
       "      <td>TSVD</td>\n",
       "    </tr>\n",
       "    <tr>\n",
       "      <th>1</th>\n",
       "      <td>$\\tau = 32, M = 1400,  \\sigma_{\\tau} = \\sqrt{\\...</td>\n",
       "      <td>0.150</td>\n",
       "      <td>0.60</td>\n",
       "      <td>TSVD</td>\n",
       "    </tr>\n",
       "    <tr>\n",
       "      <th>2</th>\n",
       "      <td>$\\tau = 791, M = n$</td>\n",
       "      <td>0.090</td>\n",
       "      <td>2.50</td>\n",
       "      <td>3D-VarDA</td>\n",
       "    </tr>\n",
       "    <tr>\n",
       "      <th>3</th>\n",
       "      <td>$\\tau = 791, M = 1400$</td>\n",
       "      <td>0.120</td>\n",
       "      <td>1.60</td>\n",
       "      <td>3D-VarDA</td>\n",
       "    </tr>\n",
       "    <tr>\n",
       "      <th>4</th>\n",
       "      <td>Tucodec-vanilla</td>\n",
       "      <td>0.075</td>\n",
       "      <td>0.49</td>\n",
       "      <td>CAE</td>\n",
       "    </tr>\n",
       "    <tr>\n",
       "      <th>5</th>\n",
       "      <td>Tucodec-vanilla-GPU</td>\n",
       "      <td>0.075</td>\n",
       "      <td>0.20</td>\n",
       "      <td>CAE</td>\n",
       "    </tr>\n",
       "    <tr>\n",
       "      <th>6</th>\n",
       "      <td>Tucodec-vanilla-GDN</td>\n",
       "      <td>0.200</td>\n",
       "      <td>0.53</td>\n",
       "      <td>CAE</td>\n",
       "    </tr>\n",
       "    <tr>\n",
       "      <th>7</th>\n",
       "      <td>GRDN-NeXt</td>\n",
       "      <td>0.230</td>\n",
       "      <td>1.40</td>\n",
       "      <td>CAE</td>\n",
       "    </tr>\n",
       "    <tr>\n",
       "      <th>8</th>\n",
       "      <td>ResNeXt3-27-4</td>\n",
       "      <td>0.190</td>\n",
       "      <td>0.60</td>\n",
       "      <td>CAE</td>\n",
       "    </tr>\n",
       "    <tr>\n",
       "      <th>9</th>\n",
       "      <td>RDB3-27-1-CBAM+vanilla</td>\n",
       "      <td>0.230</td>\n",
       "      <td>0.50</td>\n",
       "      <td>CAE</td>\n",
       "    </tr>\n",
       "    <tr>\n",
       "      <th>10</th>\n",
       "      <td>Backbone</td>\n",
       "      <td>0.190</td>\n",
       "      <td>0.35</td>\n",
       "      <td>CAE</td>\n",
       "    </tr>\n",
       "  </tbody>\n",
       "</table>\n",
       "</div>"
      ],
      "text/plain": [
       "                                                Model  da_mse  time  \\\n",
       "0   $\\tau = 32, M=n, \\sigma_{\\tau} = \\sqrt{\\sigma_0}$   0.200  1.50   \n",
       "1   $\\tau = 32, M = 1400,  \\sigma_{\\tau} = \\sqrt{\\...   0.150  0.60   \n",
       "2                                 $\\tau = 791, M = n$   0.090  2.50   \n",
       "3                              $\\tau = 791, M = 1400$   0.120  1.60   \n",
       "4                                     Tucodec-vanilla   0.075  0.49   \n",
       "5                                 Tucodec-vanilla-GPU   0.075  0.20   \n",
       "6                                 Tucodec-vanilla-GDN   0.200  0.53   \n",
       "7                                           GRDN-NeXt   0.230  1.40   \n",
       "8                                       ResNeXt3-27-4   0.190  0.60   \n",
       "9                              RDB3-27-1-CBAM+vanilla   0.230  0.50   \n",
       "10                                           Backbone   0.190  0.35   \n",
       "\n",
       "   Formulation  \n",
       "0         TSVD  \n",
       "1         TSVD  \n",
       "2     3D-VarDA  \n",
       "3     3D-VarDA  \n",
       "4          CAE  \n",
       "5          CAE  \n",
       "6          CAE  \n",
       "7          CAE  \n",
       "8          CAE  \n",
       "9          CAE  \n",
       "10         CAE  "
      ]
     },
     "execution_count": 28,
     "metadata": {},
     "output_type": "execute_result"
    }
   ],
   "source": [
    "out_fp = \"report/figures/time_perf.png\"\n",
    "in_csv = \"report/data/DA_tables - final.csv\"\n",
    "\n",
    "df = pd.read_csv(in_csv)\n",
    "df"
   ]
  },
  {
   "cell_type": "code",
   "execution_count": 56,
   "metadata": {},
   "outputs": [
    {
     "data": {
      "image/png": "[encoded data removed]",
      "text/plain": [
       "<Figure size 936x504 with 1 Axes>"
      ]
     },
     "metadata": {},
     "output_type": "display_data"
    }
   ],
   "source": [
    "ax = sns.scatterplot(x=\"time\", y=\"da_mse\",\n",
    "             hue=\"Formulation\", #style=\"Subset\", \n",
    "             data=df, palette=[\"r\", \"b\", 'g',], marker=\"o\")\n",
    "\n",
    "x = df[\"time\"].copy()\n",
    "y = df[\"da_mse\"].copy()\n",
    "text = df[\"Model\"]\n",
    "ax.set_xlabel(\"Excecution Time (s)\")\n",
    "ax.set_ylabel(\"DA MSE\")\n",
    "ax.set_xlim(0, 2.9)\n",
    "ax.set_ylim(0, 0.25)\n",
    "for i in range(len(df)):\n",
    "    texi = text[i]\n",
    "    tex = r\"{}\".format(texi) #TODO - remove $ w new data\n",
    "    if \"GPU\" in tex:\n",
    "        y[i] += 0.003\n",
    "    if tex == \"Tucodec-vanilla\":\n",
    "        y[i] -= 0.006\n",
    "    ax.annotate(tex, (x[i], y[i]), fontsize=12)\n",
    "fig = ax.get_figure()\n",
    "fig.set_size_inches(13, 7)\n",
    "fig.savefig(out_fp)"
   ]
  },
  {
   "cell_type": "code",
   "execution_count": null,
   "metadata": {},
   "outputs": [],
   "source": []
  }
 ],
 "metadata": {
  "kernelspec": {
   "display_name": "Python 3",
   "language": "python",
   "name": "python3"
  },
  "language_info": {
   "codemirror_mode": {
    "name": "ipython",
    "version": 3
   },
   "file_extension": ".py",
   "mimetype": "text/x-python",
   "name": "python",
   "nbconvert_exporter": "python",
   "pygments_lexer": "ipython3",
   "version": "3.6.7"
  },
  "toc": {
   "base_numbering": 1,
   "nav_menu": {},
   "number_sections": true,
   "sideBar": true,
   "skip_h1_title": false,
   "title_cell": "Table of Contents",
   "title_sidebar": "Contents",
   "toc_cell": true,
   "toc_position": {},
   "toc_section_display": true,
   "toc_window_display": true
  }
 },
 "nbformat": 4,
 "nbformat_minor": 2
}
