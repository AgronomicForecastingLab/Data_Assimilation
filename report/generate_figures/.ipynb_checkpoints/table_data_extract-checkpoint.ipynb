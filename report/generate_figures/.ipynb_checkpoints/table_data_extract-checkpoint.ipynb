{
 "cells": [
  {
   "cell_type": "markdown",
   "metadata": {
    "toc": true
   },
   "source": [
    "<h1>Table of Contents<span class=\"tocSkip\"></span></h1>\n",
    "<div class=\"toc\"><ul class=\"toc-item\"><li><span><a href=\"#RABs\" data-toc-modified-id=\"RABs-1\"><span class=\"toc-item-num\">1&nbsp;&nbsp;</span>RABs</a></span></li><li><span><a href=\"#ResNeXt\" data-toc-modified-id=\"ResNeXt-2\"><span class=\"toc-item-num\">2&nbsp;&nbsp;</span>ResNeXt</a></span></li></ul></div>"
   ]
  },
  {
   "cell_type": "code",
   "execution_count": 2,
   "metadata": {},
   "outputs": [
    {
     "name": "stdout",
     "output_type": "stream",
     "text": [
      "C:\\Users\\julia\\Documents\\Imperial\\DA_project\n"
     ]
    }
   ],
   "source": [
    "%load_ext autoreload\n",
    "%autoreload 2\n",
    "%matplotlib inline\n",
    "%cd ../.."
   ]
  },
  {
   "cell_type": "code",
   "execution_count": 3,
   "metadata": {},
   "outputs": [],
   "source": [
    "import pickle"
   ]
  },
  {
   "cell_type": "markdown",
   "metadata": {},
   "source": [
    "### RABs"
   ]
  },
  {
   "cell_type": "code",
   "execution_count": 4,
   "metadata": {},
   "outputs": [],
   "source": [
    "fp = \"experiments/TSVD/3b/final.txt\"\n",
    "with open(fp, 'rb') as f:\n",
    "    res = pickle.load(f)"
   ]
  },
  {
   "cell_type": "code",
   "execution_count": 5,
   "metadata": {},
   "outputs": [
    {
     "data": {
      "text/plain": [
       "[(0.19166102770216262,\n",
       "  OrderedDict([('cardinality', 1),\n",
       "               ('layers', 4),\n",
       "               ('block_type', 'RNAB'),\n",
       "               ('sBlock', 'NeXt')]),\n",
       "  'experiments/DA5/03b/2'),\n",
       " (0.20050110451562383,\n",
       "  OrderedDict([('cardinality', 1),\n",
       "               ('layers', 1),\n",
       "               ('block_type', 'RAB'),\n",
       "               ('sBlock', 'NeXt'),\n",
       "               ('sigmoid', True)]),\n",
       "  'experiments/DA5/03b2/0'),\n",
       " (0.20409428797982754,\n",
       "  OrderedDict([('cardinality', 1),\n",
       "               ('layers', 1),\n",
       "               ('block_type', 'RNAB'),\n",
       "               ('sBlock', 'NeXt')]),\n",
       "  'experiments/DA5/03b/0'),\n",
       " (0.20707366521094617,\n",
       "  OrderedDict([('cardinality', 1),\n",
       "               ('layers', 8),\n",
       "               ('block_type', 'RNAB'),\n",
       "               ('sBlock', 'NeXt')]),\n",
       "  'experiments/DA5/03b/3'),\n",
       " (0.21876773375950448,\n",
       "  OrderedDict([('cardinality', 1),\n",
       "               ('layers', 2),\n",
       "               ('block_type', 'RAB'),\n",
       "               ('sBlock', 'NeXt'),\n",
       "               ('sigmoid', True)]),\n",
       "  'experiments/DA5/03b2/1'),\n",
       " (0.24535767178861329,\n",
       "  OrderedDict([('cardinality', 1),\n",
       "               ('layers', 2),\n",
       "               ('block_type', 'RNAB'),\n",
       "               ('sBlock', 'NeXt')]),\n",
       "  'experiments/DA5/03b/1')]"
      ]
     },
     "execution_count": 5,
     "metadata": {},
     "output_type": "execute_result"
    }
   ],
   "source": [
    "res"
   ]
  },
  {
   "cell_type": "markdown",
   "metadata": {},
   "source": [
    "### ResNeXt"
   ]
  },
  {
   "cell_type": "code",
   "execution_count": 13,
   "metadata": {},
   "outputs": [],
   "source": [
    "fp = \"experiments/DA/02c/final.txt\"\n",
    "with open(fp, 'rb') as f:\n",
    "    res1 = pickle.load(f)\n",
    "fp2 = \"experiments/DA/02/final.txt\"\n",
    "with open(fp2, 'rb') as f:\n",
    "    res2 = pickle.load(f)\n",
    "res = sorted(res1 + res2)"
   ]
  },
  {
   "cell_type": "code",
   "execution_count": 14,
   "metadata": {},
   "outputs": [
    {
     "data": {
      "text/plain": [
       "[(0.18934022505261067,\n",
       "  OrderedDict([('cardinality', 4),\n",
       "               ('layers', 27),\n",
       "               ('block_type', 'CBAM_vanilla'),\n",
       "               ('mod', 'RDB3'),\n",
       "               ('activation', 'prelu'),\n",
       "               ('aug_scheme', 0),\n",
       "               ('enc', 0.025172419846057892),\n",
       "               ('dec', 0.2881586253643036)]),\n",
       "  '/home/jfm1118/DA/experiments/train2/08b/4/'),\n",
       " (0.19065745201325718,\n",
       "  OrderedDict([('cardinality', 4),\n",
       "               ('layers', 27),\n",
       "               ('block_type', 'CBAM_NeXt'),\n",
       "               ('mod', 'ResNeXt3'),\n",
       "               ('activation', 'prelu'),\n",
       "               ('aug_scheme', 0),\n",
       "               ('enc', 0.051634859293699265),\n",
       "               ('dec', 0.07725891470909119)]),\n",
       "  '/home/jfm1118/DA/experiments/train2/08b/3/'),\n",
       " (0.19480844035307793,\n",
       "  OrderedDict([('cardinality', 1),\n",
       "               ('layers', 27),\n",
       "               ('block_type', 'CBAM_vanilla'),\n",
       "               ('mod', 'ResNeXt3'),\n",
       "               ('enc', 0.041205551475286484),\n",
       "               ('dec', 0.2478264421224594)]),\n",
       "  '/home/jfm1118/DA/experiments/02b/13'),\n",
       " (0.19504560386218917,\n",
       "  OrderedDict([('cardinality', 4),\n",
       "               ('layers', 27),\n",
       "               ('block_type', 'vanilla'),\n",
       "               ('mod', 'RDB3'),\n",
       "               ('activation', 'prelu'),\n",
       "               ('aug_scheme', 0),\n",
       "               ('enc', 0.040130265057086945),\n",
       "               ('dec', 0.16007675230503082)]),\n",
       "  '/home/jfm1118/DA/experiments/train2/08b/5/'),\n",
       " (0.19580044160302734,\n",
       "  OrderedDict([('cardinality', 8),\n",
       "               ('layers', 3),\n",
       "               ('block_type', 'vanilla'),\n",
       "               ('mod', 'RDB3'),\n",
       "               ('enc', -0.005224914755672216),\n",
       "               ('dec', 0.2009439319372177)]),\n",
       "  '/home/jfm1118/DA/experiments/train/02a/6'),\n",
       " (0.1964185137364426,\n",
       "  OrderedDict([('cardinality', 4),\n",
       "               ('layers', 27),\n",
       "               ('block_type', 'NeXt'),\n",
       "               ('mod', 'RDB3'),\n",
       "               ('activation', 'prelu'),\n",
       "               ('aug_scheme', 0),\n",
       "               ('enc', 0.09688178449869156),\n",
       "               ('dec', 0.17715057730674744)]),\n",
       "  '/home/jfm1118/DA/experiments/train2/08b/6/'),\n",
       " (0.19683192702489682,\n",
       "  OrderedDict([('cardinality', 1),\n",
       "               ('layers', 27),\n",
       "               ('block_type', 'NeXt'),\n",
       "               ('mod', 'RDB3'),\n",
       "               ('enc', 0.010971548035740852),\n",
       "               ('dec', 0.15283849835395813)]),\n",
       "  '/home/jfm1118/DA/experiments/train/02a/3'),\n",
       " (0.1997636936744469,\n",
       "  OrderedDict([('cardinality', 4),\n",
       "               ('layers', 27),\n",
       "               ('block_type', 'CBAM_vanilla'),\n",
       "               ('mod', 'ResNeXt3'),\n",
       "               ('activation', 'prelu'),\n",
       "               ('aug_scheme', 0),\n",
       "               ('enc', 0.0807780921459198),\n",
       "               ('dec', 0.3064901530742645)]),\n",
       "  '/home/jfm1118/DA/experiments/train2/08b/0/'),\n",
       " (0.20041641942408872,\n",
       "  OrderedDict([('cardinality', 8),\n",
       "               ('layers', 3),\n",
       "               ('block_type', 'NeXt'),\n",
       "               ('mod', 'RDB3'),\n",
       "               ('enc', 0.04057583212852478),\n",
       "               ('dec', 0.1462394893169403)]),\n",
       "  '/home/jfm1118/DA/experiments/train/02a/2'),\n",
       " (0.20046468634596426,\n",
       "  OrderedDict([('cardinality', 4),\n",
       "               ('layers', 27),\n",
       "               ('block_type', 'CBAM_NeXt'),\n",
       "               ('mod', 'RDB3'),\n",
       "               ('activation', 'prelu'),\n",
       "               ('aug_scheme', 0),\n",
       "               ('enc', 0.04915715381503105),\n",
       "               ('dec', 0.20667442679405212)]),\n",
       "  '/home/jfm1118/DA/experiments/train2/08b/7/'),\n",
       " (0.2013015611443069,\n",
       "  OrderedDict([('cardinality', 8),\n",
       "               ('layers', 3),\n",
       "               ('block_type', 'CBAM_NeXt'),\n",
       "               ('mod', 'RDB3'),\n",
       "               ('enc', 0.05712055414915085),\n",
       "               ('dec', 0.11122412979602814)]),\n",
       "  '/home/jfm1118/DA/experiments/02b/10'),\n",
       " (0.20281385860233267,\n",
       "  OrderedDict([('cardinality', 4),\n",
       "               ('layers', 27),\n",
       "               ('block_type', 'NeXt'),\n",
       "               ('mod', 'ResNeXt3'),\n",
       "               ('activation', 'prelu'),\n",
       "               ('aug_scheme', 0),\n",
       "               ('enc', 0.04861073940992355),\n",
       "               ('dec', 0.06980253756046295)]),\n",
       "  '/home/jfm1118/DA/experiments/train2/08b/2/'),\n",
       " (0.20306540884956864,\n",
       "  OrderedDict([('cardinality', 1),\n",
       "               ('layers', 27),\n",
       "               ('block_type', 'vanilla'),\n",
       "               ('mod', 'ResNeXt3'),\n",
       "               ('enc', 0.04782615602016449),\n",
       "               ('dec', 0.18362177908420563)]),\n",
       "  '/home/jfm1118/DA/experiments/train/02a/5'),\n",
       " (0.2051393971060461,\n",
       "  OrderedDict([('cardinality', 8),\n",
       "               ('layers', 3),\n",
       "               ('block_type', 'CBAM_vanilla'),\n",
       "               ('mod', 'ResNeXt3'),\n",
       "               ('enc', 0.06653837859630585),\n",
       "               ('dec', 0.2176530510187149)]),\n",
       "  '/home/jfm1118/DA/experiments/02b/12'),\n",
       " (0.2060186963115229,\n",
       "  OrderedDict([('cardinality', 1),\n",
       "               ('layers', 27),\n",
       "               ('block_type', 'CBAM_NeXt'),\n",
       "               ('mod', 'RDB3'),\n",
       "               ('enc', 0.05641555041074753),\n",
       "               ('dec', 0.2610883116722107)]),\n",
       "  '/home/jfm1118/DA/experiments/02b/11'),\n",
       " (0.20644257550761258,\n",
       "  OrderedDict([('cardinality', 1),\n",
       "               ('layers', 27),\n",
       "               ('block_type', 'vanilla'),\n",
       "               ('mod', 'RDB3'),\n",
       "               ('enc', 0.05324654281139374),\n",
       "               ('dec', 0.23672273755073547)]),\n",
       "  '/home/jfm1118/DA/experiments/train/02a/7'),\n",
       " (0.2105830117780527,\n",
       "  OrderedDict([('cardinality', 1),\n",
       "               ('layers', 27),\n",
       "               ('block_type', 'NeXt'),\n",
       "               ('mod', 'ResNeXt3'),\n",
       "               ('enc', 0.05562044307589531),\n",
       "               ('dec', 0.07189489901065826)]),\n",
       "  '/home/jfm1118/DA/experiments/train/02a/1'),\n",
       " (0.21082477795974916,\n",
       "  OrderedDict([('cardinality', 4),\n",
       "               ('layers', 27),\n",
       "               ('block_type', 'vanilla'),\n",
       "               ('mod', 'ResNeXt3'),\n",
       "               ('activation', 'prelu'),\n",
       "               ('aug_scheme', 0),\n",
       "               ('enc', 0.05099043995141983),\n",
       "               ('dec', 0.07576371729373932)]),\n",
       "  '/home/jfm1118/DA/experiments/train2/08b/1/'),\n",
       " (0.21098725730587542,\n",
       "  OrderedDict([('cardinality', 1),\n",
       "               ('layers', 27),\n",
       "               ('block_type', 'CBAM_NeXt'),\n",
       "               ('mod', 'ResNeXt3'),\n",
       "               ('enc', 0.07320580631494522),\n",
       "               ('dec', 0.0764964371919632)]),\n",
       "  '/home/jfm1118/DA/experiments/02b/9'),\n",
       " (0.21253279775957562,\n",
       "  OrderedDict([('cardinality', 8),\n",
       "               ('layers', 3),\n",
       "               ('block_type', 'CBAM_vanilla'),\n",
       "               ('mod', 'RDB3'),\n",
       "               ('enc', 0.061273008584976196),\n",
       "               ('dec', 0.16611196100711823)]),\n",
       "  '/home/jfm1118/DA/experiments/02b/14'),\n",
       " (0.2148242359092336,\n",
       "  OrderedDict([('cardinality', 8),\n",
       "               ('layers', 3),\n",
       "               ('block_type', 'CBAM_NeXt'),\n",
       "               ('mod', 'ResNeXt3'),\n",
       "               ('enc', 0.06750557571649551),\n",
       "               ('dec', 0.09417399764060974)]),\n",
       "  '/home/jfm1118/DA/experiments/02b/8'),\n",
       " (0.2167148076332788,\n",
       "  OrderedDict([('cardinality', 1),\n",
       "               ('layers', 27),\n",
       "               ('block_type', 'CBAM_vanilla'),\n",
       "               ('mod', 'RDB3'),\n",
       "               ('enc', 0.0754542201757431),\n",
       "               ('dec', 0.12393223494291306)]),\n",
       "  '/home/jfm1118/DA/experiments/02b/15'),\n",
       " (0.21744191628865947,\n",
       "  OrderedDict([('cardinality', 8),\n",
       "               ('layers', 3),\n",
       "               ('block_type', 'NeXt'),\n",
       "               ('mod', 'ResNeXt3'),\n",
       "               ('enc', 0.0520784966647625),\n",
       "               ('dec', 0.06753022968769073)]),\n",
       "  '/home/jfm1118/DA/experiments/train/02a/0'),\n",
       " (0.2195514379112015,\n",
       "  OrderedDict([('cardinality', 8),\n",
       "               ('layers', 3),\n",
       "               ('block_type', 'vanilla'),\n",
       "               ('mod', 'ResNeXt3'),\n",
       "               ('enc', 0.04764016345143318),\n",
       "               ('dec', 0.06127048283815384)]),\n",
       "  '/home/jfm1118/DA/experiments/train/02a/4')]"
      ]
     },
     "execution_count": 14,
     "metadata": {},
     "output_type": "execute_result"
    }
   ],
   "source": [
    "res"
   ]
  },
  {
   "cell_type": "code",
   "execution_count": 17,
   "metadata": {},
   "outputs": [
    {
     "name": "stdout",
     "output_type": "stream",
     "text": [
      "ResNeXt3 CBAM_vanilla 27 1 0.19480844035307793\n",
      "RDB3 vanilla 3 8 0.19580044160302734\n",
      "RDB3 NeXt 27 1 0.19683192702489682\n",
      "RDB3 NeXt 3 8 0.20041641942408872\n",
      "RDB3 CBAM_NeXt 3 8 0.2013015611443069\n",
      "ResNeXt3 vanilla 27 1 0.20306540884956864\n",
      "ResNeXt3 CBAM_vanilla 3 8 0.2051393971060461\n",
      "RDB3 CBAM_NeXt 27 1 0.2060186963115229\n",
      "RDB3 vanilla 27 1 0.20644257550761258\n",
      "ResNeXt3 NeXt 27 1 0.2105830117780527\n",
      "ResNeXt3 CBAM_NeXt 27 1 0.21098725730587542\n",
      "RDB3 CBAM_vanilla 3 8 0.21253279775957562\n",
      "ResNeXt3 CBAM_NeXt 3 8 0.2148242359092336\n",
      "RDB3 CBAM_vanilla 27 1 0.2167148076332788\n",
      "ResNeXt3 NeXt 3 8 0.21744191628865947\n",
      "ResNeXt3 vanilla 3 8 0.2195514379112015\n"
     ]
    }
   ],
   "source": [
    "for x in res2:\n",
    "    val, data, fp = x\n",
    "    mod = data.get(\"mod\")\n",
    "    block = data.get(\"block_type\")\n",
    "    layers = data.get(\"layers\")\n",
    "    card = data.get(\"cardinality\")\n",
    "    if layers == 27 and mod = \"ResNeXt3\":\n",
    "        print(mod, block, layers, card, val)"
   ]
  },
  {
   "cell_type": "code",
   "execution_count": 16,
   "metadata": {},
   "outputs": [
    {
     "data": {
      "text/plain": [
       "24"
      ]
     },
     "execution_count": 16,
     "metadata": {},
     "output_type": "execute_result"
    }
   ],
   "source": [
    "len(res)"
   ]
  },
  {
   "cell_type": "code",
   "execution_count": null,
   "metadata": {},
   "outputs": [],
   "source": []
  }
 ],
 "metadata": {
  "kernelspec": {
   "display_name": "Python 3",
   "language": "python",
   "name": "python3"
  },
  "language_info": {
   "codemirror_mode": {
    "name": "ipython",
    "version": 3
   },
   "file_extension": ".py",
   "mimetype": "text/x-python",
   "name": "python",
   "nbconvert_exporter": "python",
   "pygments_lexer": "ipython3",
   "version": "3.6.7"
  },
  "toc": {
   "base_numbering": 1,
   "nav_menu": {},
   "number_sections": true,
   "sideBar": true,
   "skip_h1_title": false,
   "title_cell": "Table of Contents",
   "title_sidebar": "Contents",
   "toc_cell": true,
   "toc_position": {},
   "toc_section_display": true,
   "toc_window_display": true
  }
 },
 "nbformat": 4,
 "nbformat_minor": 2
}
