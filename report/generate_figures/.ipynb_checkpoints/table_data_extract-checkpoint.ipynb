{
 "cells": [
  {
   "cell_type": "markdown",
   "metadata": {
    "toc": true
   },
   "source": [
    "<h1>Table of Contents<span class=\"tocSkip\"></span></h1>\n",
    "<div class=\"toc\"><ul class=\"toc-item\"><li><span><a href=\"#Backbone-Activation\" data-toc-modified-id=\"Backbone-Activation-1\"><span class=\"toc-item-num\">1&nbsp;&nbsp;</span>Backbone Activation</a></span></li><li><span><a href=\"#Tucodec-activation\" data-toc-modified-id=\"Tucodec-activation-2\"><span class=\"toc-item-num\">2&nbsp;&nbsp;</span>Tucodec activation</a></span></li><li><span><a href=\"#GRDN\" data-toc-modified-id=\"GRDN-3\"><span class=\"toc-item-num\">3&nbsp;&nbsp;</span>GRDN</a></span></li><li><span><a href=\"#RABs-+-ResNeXt\" data-toc-modified-id=\"RABs-+-ResNeXt-4\"><span class=\"toc-item-num\">4&nbsp;&nbsp;</span>RABs + ResNeXt</a></span></li><li><span><a href=\"#ResNeXt\" data-toc-modified-id=\"ResNeXt-5\"><span class=\"toc-item-num\">5&nbsp;&nbsp;</span>ResNeXt</a></span></li></ul></div>"
   ]
  },
  {
   "cell_type": "code",
   "execution_count": 2,
   "metadata": {},
   "outputs": [
    {
     "name": "stdout",
     "output_type": "stream",
     "text": [
      "C:\\Users\\julia\\Documents\\Imperial\\DA_project\n"
     ]
    }
   ],
   "source": [
    "%load_ext autoreload\n",
    "%autoreload 2\n",
    "%matplotlib inline\n",
    "%cd ../.."
   ]
  },
  {
   "cell_type": "code",
   "execution_count": 69,
   "metadata": {},
   "outputs": [],
   "source": [
    "import pickle\n",
    "from notebooks import utils\n",
    "import pandas as pd"
   ]
  },
  {
   "cell_type": "markdown",
   "metadata": {},
   "source": [
    "### Backbone Activation"
   ]
  },
  {
   "cell_type": "code",
   "execution_count": 29,
   "metadata": {},
   "outputs": [
    {
     "name": "stdout",
     "output_type": "stream",
     "text": [
      " Volume in drive C is Windows\n",
      " Volume Serial Number is 2457-55E1\n",
      "\n",
      " Directory of C:\\Users\\julia\\Documents\\Imperial\\DA_project\\experiments\\DA8\\train2\\09b\n",
      "\n",
      "30/08/2019  15:34    <DIR>          .\n",
      "30/08/2019  15:34    <DIR>          ..\n",
      "30/08/2019  15:34    <DIR>          2\n",
      "30/08/2019  15:34    <DIR>          3\n",
      "               0 File(s)              0 bytes\n",
      "               4 Dir(s)  258,217,287,680 bytes free\n"
     ]
    }
   ],
   "source": [
    "%ls \"experiments/DA8/train2/09b/\""
   ]
  },
  {
   "cell_type": "code",
   "execution_count": 87,
   "metadata": {},
   "outputs": [
    {
     "name": "stdout",
     "output_type": "stream",
     "text": [
      "3 experiments conducted\n",
      "0.985724210945026 OrderedDict([('cardinality', 2), ('mod', 'ResNeXt3'), ('activation', 'relu'), ('aug_scheme', 4)])\n",
      "0.9965337855065812 OrderedDict([('cardinality', 2), ('mod', 'ResNeXt3'), ('activation', 'relu'), ('aug_scheme', 0)])\n",
      "0.2970175281285578 OrderedDict([('cardinality', 2), ('mod', 'ResNeXt3'), ('activation', 'GDN'), ('aug_scheme', 0)])\n"
     ]
    }
   ],
   "source": [
    "fp = \"experiments/DA8/train2/09b/\"\n",
    "fp2 = \"experiments/09b2/\"\n",
    "res = utils.extract_res_from_files([fp, fp2])\n",
    "\n",
    "for result in res:\n",
    "    mean = result[\"DA_mean_DF\"][\"mean\"].mean()\n",
    "    print(mean, result[\"model_data\"])\n",
    "    "
   ]
  },
  {
   "cell_type": "markdown",
   "metadata": {},
   "source": [
    "### Tucodec activation"
   ]
  },
  {
   "cell_type": "code",
   "execution_count": 62,
   "metadata": {},
   "outputs": [],
   "source": [
    "fp = \"experiments/06a4/\"\n",
    "fp2 = \"experiments/06a5/\"\n",
    "fp3 = \"experiments/DA3/06a/1/\"\n",
    "fp4 = \"experiments/DA3/06a/3/\"\n",
    "\n",
    "res_150 = \"experiments/DA/06_150/\"\n",
    "res_300 = \"experiments/DA/06_300/\"\n",
    "res_old = \"experiments/DA3/DA/\"\n",
    "FINAL = \"final.txt\""
   ]
  },
  {
   "cell_type": "code",
   "execution_count": 95,
   "metadata": {},
   "outputs": [
    {
     "data": {
      "text/plain": [
       "[(0.07612919306950647,\n",
       "  OrderedDict([('block_type', 'vanilla'),\n",
       "               ('mod', 'Tucodec'),\n",
       "               ('sigmoid', False),\n",
       "               ('Cstd', 64),\n",
       "               ('activation', 'relu'),\n",
       "               ('aug_scheme', 0)]),\n",
       "  'experiments/06a5/12'),\n",
       " (0.07633675794501428,\n",
       "  OrderedDict([('block_type', 'NeXt'), ('mod', 'Tucodec'), ('Cstd', 64)]),\n",
       "  'experiments/DA3/06a/1/'),\n",
       " (0.07662736908911238,\n",
       "  OrderedDict([('block_type', 'vanilla'), ('mod', 'Tucodec'), ('Cstd', 64)]),\n",
       "  'experiments/DA3/06a/3/'),\n",
       " (0.08256417448968581,\n",
       "  OrderedDict([('block_type', 'vanilla'),\n",
       "               ('mod', 'Tucodec'),\n",
       "               ('sigmoid', False),\n",
       "               ('Cstd', 64),\n",
       "               ('activation', 'GDN')]),\n",
       "  'experiments/06a4/1'),\n",
       " (0.09471840082012249,\n",
       "  OrderedDict([('block_type', 'NeXt'),\n",
       "               ('mod', 'Tucodec'),\n",
       "               ('sigmoid', False),\n",
       "               ('Cstd', 64),\n",
       "               ('activation', 'relu'),\n",
       "               ('aug_scheme', 0)]),\n",
       "  'experiments/06a5/11'),\n",
       " (0.11938749490025893,\n",
       "  OrderedDict([('block_type', 'NeXt'),\n",
       "               ('mod', 'Tucodec'),\n",
       "               ('sigmoid', False),\n",
       "               ('Cstd', 64),\n",
       "               ('activation', 'GDN')]),\n",
       "  'experiments/06a4/0'),\n",
       " (0.1479747594628566,\n",
       "  OrderedDict([('block_type', 'CBAM_NeXt'),\n",
       "               ('mod', 'Tucodec'),\n",
       "               ('sigmoid', False),\n",
       "               ('Cstd', 64),\n",
       "               ('activation', 'prelu')]),\n",
       "  'experiments/06a4/7'),\n",
       " (0.16358096711103146,\n",
       "  OrderedDict([('block_type', 'CBAM_vanilla'),\n",
       "               ('mod', 'Tucodec'),\n",
       "               ('sigmoid', False),\n",
       "               ('Cstd', 64),\n",
       "               ('activation', 'GDN')]),\n",
       "  'experiments/06a4/2'),\n",
       " (0.18248659615485358,\n",
       "  OrderedDict([('block_type', 'CBAM_vanilla'),\n",
       "               ('mod', 'Tucodec'),\n",
       "               ('sigmoid', False),\n",
       "               ('Cstd', 64),\n",
       "               ('activation', 'prelu')]),\n",
       "  'experiments/06a4/6'),\n",
       " (0.19528236702227203,\n",
       "  OrderedDict([('block_type', 'CBAM_NeXt'),\n",
       "               ('mod', 'Tucodec'),\n",
       "               ('sigmoid', False),\n",
       "               ('Cstd', 64),\n",
       "               ('activation', 'relu'),\n",
       "               ('aug_scheme', 0)]),\n",
       "  'experiments/06a5/14'),\n",
       " (0.20525746659744087,\n",
       "  OrderedDict([('block_type', 'CBAM_NeXt'),\n",
       "               ('mod', 'Tucodec'),\n",
       "               ('sigmoid', False),\n",
       "               ('Cstd', 64),\n",
       "               ('activation', 'GDN')]),\n",
       "  'experiments/06a4/3'),\n",
       " (0.20536755066647194,\n",
       "  OrderedDict([('block_type', 'CBAM_vanilla'),\n",
       "               ('mod', 'Tucodec'),\n",
       "               ('sigmoid', False),\n",
       "               ('Cstd', 64),\n",
       "               ('activation', 'relu'),\n",
       "               ('aug_scheme', 0)]),\n",
       "  'experiments/06a5/13')]"
      ]
     },
     "execution_count": 95,
     "metadata": {},
     "output_type": "execute_result"
    }
   ],
   "source": [
    "with open(res_300 + FINAL, 'rb') as f:\n",
    "    results = pickle.load(f)\n",
    "results"
   ]
  },
  {
   "cell_type": "code",
   "execution_count": null,
   "metadata": {},
   "outputs": [],
   "source": [
    "tucodec_relu = 'experiments/06a5/12'\n",
    "tucodec_prelu_next = 'experiments/DA3/06a/1/\n",
    "RDB3_27_4 = 'experiments/09a/09a/0'\n",
    "ResNeXt_27_1 = 'experiments/09a/09a/2'\n"
   ]
  },
  {
   "cell_type": "code",
   "execution_count": 73,
   "metadata": {},
   "outputs": [
    {
     "name": "stdout",
     "output_type": "stream",
     "text": [
      "0.07633675794501428 experiments/DA/06_300//0/AE.csv\n",
      "0.07662736908911238 experiments/DA/06_300//1/AE.csv\n",
      "0.16358096711103146 experiments/DA/06_300//2/AE.csv\n",
      "0.20525746659744087 experiments/DA/06_300//3/AE.csv\n",
      "0.18248659615485358 experiments/DA/06_300//4/AE.csv\n",
      "0.1479747594628566 experiments/DA/06_300//5/AE.csv\n",
      "0.09471840082012249 experiments/DA/06_300//6/AE.csv\n",
      "0.07612919306950647 experiments/DA/06_300//7/AE.csv\n",
      "0.20536755066647197 experiments/DA/06_300//8/AE.csv\n",
      "0.19528236702227203 experiments/DA/06_300//9/AE.csv\n"
     ]
    },
    {
     "ename": "FileNotFoundError",
     "evalue": "File b'experiments/DA/06_300//10/AE.csv' does not exist",
     "output_type": "error",
     "traceback": [
      "\u001b[1;31m---------------------------------------------------------------------------\u001b[0m",
      "\u001b[1;31mFileNotFoundError\u001b[0m                         Traceback (most recent call last)",
      "\u001b[1;32m<ipython-input-73-c4bfad61af72>\u001b[0m in \u001b[0;36m<module>\u001b[1;34m\u001b[0m\n\u001b[0;32m      1\u001b[0m \u001b[1;32mfor\u001b[0m \u001b[0mx\u001b[0m \u001b[1;32min\u001b[0m \u001b[0mrange\u001b[0m\u001b[1;33m(\u001b[0m\u001b[1;36m0\u001b[0m\u001b[1;33m,\u001b[0m \u001b[1;36m20\u001b[0m\u001b[1;33m)\u001b[0m\u001b[1;33m:\u001b[0m\u001b[1;33m\u001b[0m\u001b[1;33m\u001b[0m\u001b[0m\n\u001b[0;32m      2\u001b[0m     \u001b[0mfp\u001b[0m \u001b[1;33m=\u001b[0m \u001b[1;34m\"{}/{}/AE.csv\"\u001b[0m\u001b[1;33m.\u001b[0m\u001b[0mformat\u001b[0m\u001b[1;33m(\u001b[0m\u001b[0mres_300\u001b[0m\u001b[1;33m,\u001b[0m \u001b[0mx\u001b[0m\u001b[1;33m)\u001b[0m\u001b[1;33m\u001b[0m\u001b[1;33m\u001b[0m\u001b[0m\n\u001b[1;32m----> 3\u001b[1;33m     \u001b[0mdf\u001b[0m \u001b[1;33m=\u001b[0m \u001b[0mpd\u001b[0m\u001b[1;33m.\u001b[0m\u001b[0mread_csv\u001b[0m\u001b[1;33m(\u001b[0m\u001b[0mfp\u001b[0m\u001b[1;33m)\u001b[0m\u001b[1;33m\u001b[0m\u001b[1;33m\u001b[0m\u001b[0m\n\u001b[0m\u001b[0;32m      4\u001b[0m     \u001b[0mmse\u001b[0m \u001b[1;33m=\u001b[0m \u001b[0mdf\u001b[0m\u001b[1;33m[\u001b[0m\u001b[1;34m\"mse_DA\"\u001b[0m\u001b[1;33m]\u001b[0m\u001b[1;33m.\u001b[0m\u001b[0mmean\u001b[0m\u001b[1;33m(\u001b[0m\u001b[1;33m)\u001b[0m\u001b[1;33m\u001b[0m\u001b[1;33m\u001b[0m\u001b[0m\n\u001b[0;32m      5\u001b[0m     \u001b[0mprint\u001b[0m\u001b[1;33m(\u001b[0m\u001b[0mmse\u001b[0m\u001b[1;33m,\u001b[0m \u001b[0mfp\u001b[0m\u001b[1;33m)\u001b[0m\u001b[1;33m\u001b[0m\u001b[1;33m\u001b[0m\u001b[0m\n",
      "\u001b[1;32mc:\\users\\julia\\appdata\\local\\programs\\python\\python36\\lib\\site-packages\\pandas\\io\\parsers.py\u001b[0m in \u001b[0;36mparser_f\u001b[1;34m(filepath_or_buffer, sep, delimiter, header, names, index_col, usecols, squeeze, prefix, mangle_dupe_cols, dtype, engine, converters, true_values, false_values, skipinitialspace, skiprows, nrows, na_values, keep_default_na, na_filter, verbose, skip_blank_lines, parse_dates, infer_datetime_format, keep_date_col, date_parser, dayfirst, iterator, chunksize, compression, thousands, decimal, lineterminator, quotechar, quoting, escapechar, comment, encoding, dialect, tupleize_cols, error_bad_lines, warn_bad_lines, skipfooter, doublequote, delim_whitespace, low_memory, memory_map, float_precision)\u001b[0m\n\u001b[0;32m    676\u001b[0m                     skip_blank_lines=skip_blank_lines)\n\u001b[0;32m    677\u001b[0m \u001b[1;33m\u001b[0m\u001b[0m\n\u001b[1;32m--> 678\u001b[1;33m         \u001b[1;32mreturn\u001b[0m \u001b[0m_read\u001b[0m\u001b[1;33m(\u001b[0m\u001b[0mfilepath_or_buffer\u001b[0m\u001b[1;33m,\u001b[0m \u001b[0mkwds\u001b[0m\u001b[1;33m)\u001b[0m\u001b[1;33m\u001b[0m\u001b[1;33m\u001b[0m\u001b[0m\n\u001b[0m\u001b[0;32m    679\u001b[0m \u001b[1;33m\u001b[0m\u001b[0m\n\u001b[0;32m    680\u001b[0m     \u001b[0mparser_f\u001b[0m\u001b[1;33m.\u001b[0m\u001b[0m__name__\u001b[0m \u001b[1;33m=\u001b[0m \u001b[0mname\u001b[0m\u001b[1;33m\u001b[0m\u001b[1;33m\u001b[0m\u001b[0m\n",
      "\u001b[1;32mc:\\users\\julia\\appdata\\local\\programs\\python\\python36\\lib\\site-packages\\pandas\\io\\parsers.py\u001b[0m in \u001b[0;36m_read\u001b[1;34m(filepath_or_buffer, kwds)\u001b[0m\n\u001b[0;32m    438\u001b[0m \u001b[1;33m\u001b[0m\u001b[0m\n\u001b[0;32m    439\u001b[0m     \u001b[1;31m# Create the parser.\u001b[0m\u001b[1;33m\u001b[0m\u001b[1;33m\u001b[0m\u001b[1;33m\u001b[0m\u001b[0m\n\u001b[1;32m--> 440\u001b[1;33m     \u001b[0mparser\u001b[0m \u001b[1;33m=\u001b[0m \u001b[0mTextFileReader\u001b[0m\u001b[1;33m(\u001b[0m\u001b[0mfilepath_or_buffer\u001b[0m\u001b[1;33m,\u001b[0m \u001b[1;33m**\u001b[0m\u001b[0mkwds\u001b[0m\u001b[1;33m)\u001b[0m\u001b[1;33m\u001b[0m\u001b[1;33m\u001b[0m\u001b[0m\n\u001b[0m\u001b[0;32m    441\u001b[0m \u001b[1;33m\u001b[0m\u001b[0m\n\u001b[0;32m    442\u001b[0m     \u001b[1;32mif\u001b[0m \u001b[0mchunksize\u001b[0m \u001b[1;32mor\u001b[0m \u001b[0miterator\u001b[0m\u001b[1;33m:\u001b[0m\u001b[1;33m\u001b[0m\u001b[1;33m\u001b[0m\u001b[0m\n",
      "\u001b[1;32mc:\\users\\julia\\appdata\\local\\programs\\python\\python36\\lib\\site-packages\\pandas\\io\\parsers.py\u001b[0m in \u001b[0;36m__init__\u001b[1;34m(self, f, engine, **kwds)\u001b[0m\n\u001b[0;32m    785\u001b[0m             \u001b[0mself\u001b[0m\u001b[1;33m.\u001b[0m\u001b[0moptions\u001b[0m\u001b[1;33m[\u001b[0m\u001b[1;34m'has_index_names'\u001b[0m\u001b[1;33m]\u001b[0m \u001b[1;33m=\u001b[0m \u001b[0mkwds\u001b[0m\u001b[1;33m[\u001b[0m\u001b[1;34m'has_index_names'\u001b[0m\u001b[1;33m]\u001b[0m\u001b[1;33m\u001b[0m\u001b[1;33m\u001b[0m\u001b[0m\n\u001b[0;32m    786\u001b[0m \u001b[1;33m\u001b[0m\u001b[0m\n\u001b[1;32m--> 787\u001b[1;33m         \u001b[0mself\u001b[0m\u001b[1;33m.\u001b[0m\u001b[0m_make_engine\u001b[0m\u001b[1;33m(\u001b[0m\u001b[0mself\u001b[0m\u001b[1;33m.\u001b[0m\u001b[0mengine\u001b[0m\u001b[1;33m)\u001b[0m\u001b[1;33m\u001b[0m\u001b[1;33m\u001b[0m\u001b[0m\n\u001b[0m\u001b[0;32m    788\u001b[0m \u001b[1;33m\u001b[0m\u001b[0m\n\u001b[0;32m    789\u001b[0m     \u001b[1;32mdef\u001b[0m \u001b[0mclose\u001b[0m\u001b[1;33m(\u001b[0m\u001b[0mself\u001b[0m\u001b[1;33m)\u001b[0m\u001b[1;33m:\u001b[0m\u001b[1;33m\u001b[0m\u001b[1;33m\u001b[0m\u001b[0m\n",
      "\u001b[1;32mc:\\users\\julia\\appdata\\local\\programs\\python\\python36\\lib\\site-packages\\pandas\\io\\parsers.py\u001b[0m in \u001b[0;36m_make_engine\u001b[1;34m(self, engine)\u001b[0m\n\u001b[0;32m   1012\u001b[0m     \u001b[1;32mdef\u001b[0m \u001b[0m_make_engine\u001b[0m\u001b[1;33m(\u001b[0m\u001b[0mself\u001b[0m\u001b[1;33m,\u001b[0m \u001b[0mengine\u001b[0m\u001b[1;33m=\u001b[0m\u001b[1;34m'c'\u001b[0m\u001b[1;33m)\u001b[0m\u001b[1;33m:\u001b[0m\u001b[1;33m\u001b[0m\u001b[1;33m\u001b[0m\u001b[0m\n\u001b[0;32m   1013\u001b[0m         \u001b[1;32mif\u001b[0m \u001b[0mengine\u001b[0m \u001b[1;33m==\u001b[0m \u001b[1;34m'c'\u001b[0m\u001b[1;33m:\u001b[0m\u001b[1;33m\u001b[0m\u001b[1;33m\u001b[0m\u001b[0m\n\u001b[1;32m-> 1014\u001b[1;33m             \u001b[0mself\u001b[0m\u001b[1;33m.\u001b[0m\u001b[0m_engine\u001b[0m \u001b[1;33m=\u001b[0m \u001b[0mCParserWrapper\u001b[0m\u001b[1;33m(\u001b[0m\u001b[0mself\u001b[0m\u001b[1;33m.\u001b[0m\u001b[0mf\u001b[0m\u001b[1;33m,\u001b[0m \u001b[1;33m**\u001b[0m\u001b[0mself\u001b[0m\u001b[1;33m.\u001b[0m\u001b[0moptions\u001b[0m\u001b[1;33m)\u001b[0m\u001b[1;33m\u001b[0m\u001b[1;33m\u001b[0m\u001b[0m\n\u001b[0m\u001b[0;32m   1015\u001b[0m         \u001b[1;32melse\u001b[0m\u001b[1;33m:\u001b[0m\u001b[1;33m\u001b[0m\u001b[1;33m\u001b[0m\u001b[0m\n\u001b[0;32m   1016\u001b[0m             \u001b[1;32mif\u001b[0m \u001b[0mengine\u001b[0m \u001b[1;33m==\u001b[0m \u001b[1;34m'python'\u001b[0m\u001b[1;33m:\u001b[0m\u001b[1;33m\u001b[0m\u001b[1;33m\u001b[0m\u001b[0m\n",
      "\u001b[1;32mc:\\users\\julia\\appdata\\local\\programs\\python\\python36\\lib\\site-packages\\pandas\\io\\parsers.py\u001b[0m in \u001b[0;36m__init__\u001b[1;34m(self, src, **kwds)\u001b[0m\n\u001b[0;32m   1706\u001b[0m         \u001b[0mkwds\u001b[0m\u001b[1;33m[\u001b[0m\u001b[1;34m'usecols'\u001b[0m\u001b[1;33m]\u001b[0m \u001b[1;33m=\u001b[0m \u001b[0mself\u001b[0m\u001b[1;33m.\u001b[0m\u001b[0musecols\u001b[0m\u001b[1;33m\u001b[0m\u001b[1;33m\u001b[0m\u001b[0m\n\u001b[0;32m   1707\u001b[0m \u001b[1;33m\u001b[0m\u001b[0m\n\u001b[1;32m-> 1708\u001b[1;33m         \u001b[0mself\u001b[0m\u001b[1;33m.\u001b[0m\u001b[0m_reader\u001b[0m \u001b[1;33m=\u001b[0m \u001b[0mparsers\u001b[0m\u001b[1;33m.\u001b[0m\u001b[0mTextReader\u001b[0m\u001b[1;33m(\u001b[0m\u001b[0msrc\u001b[0m\u001b[1;33m,\u001b[0m \u001b[1;33m**\u001b[0m\u001b[0mkwds\u001b[0m\u001b[1;33m)\u001b[0m\u001b[1;33m\u001b[0m\u001b[1;33m\u001b[0m\u001b[0m\n\u001b[0m\u001b[0;32m   1709\u001b[0m \u001b[1;33m\u001b[0m\u001b[0m\n\u001b[0;32m   1710\u001b[0m         \u001b[0mpassed_names\u001b[0m \u001b[1;33m=\u001b[0m \u001b[0mself\u001b[0m\u001b[1;33m.\u001b[0m\u001b[0mnames\u001b[0m \u001b[1;32mis\u001b[0m \u001b[1;32mNone\u001b[0m\u001b[1;33m\u001b[0m\u001b[1;33m\u001b[0m\u001b[0m\n",
      "\u001b[1;32mpandas\\_libs\\parsers.pyx\u001b[0m in \u001b[0;36mpandas._libs.parsers.TextReader.__cinit__\u001b[1;34m()\u001b[0m\n",
      "\u001b[1;32mpandas\\_libs\\parsers.pyx\u001b[0m in \u001b[0;36mpandas._libs.parsers.TextReader._setup_parser_source\u001b[1;34m()\u001b[0m\n",
      "\u001b[1;31mFileNotFoundError\u001b[0m: File b'experiments/DA/06_300//10/AE.csv' does not exist"
     ]
    }
   ],
   "source": [
    "for x in range(0, 20):\n",
    "    fp = \"{}/{}/AE.csv\".format(res_300, x)\n",
    "    df = pd.read_csv(fp)\n",
    "    mse = df[\"mse_DA\"].mean()\n",
    "    print(mse, fp)"
   ]
  },
  {
   "cell_type": "markdown",
   "metadata": {},
   "source": [
    "### GRDN"
   ]
  },
  {
   "cell_type": "code",
   "execution_count": 97,
   "metadata": {},
   "outputs": [
    {
     "name": "stdout",
     "output_type": "stream",
     "text": [
      "4 experiments conducted\n",
      "2 experiments conducted\n",
      "OrderedDict([('block_type', 'NeXt'), ('mod', 'GRDN'), ('Cstd', 32), ('activation', 'prelu'), ('aug_scheme', 0)]) 0.31521161710101797\n",
      "OrderedDict([('block_type', 'vanilla'), ('mod', 'GRDN'), ('Cstd', 32), ('activation', 'prelu'), ('aug_scheme', 0)]) 0.2818958251788354\n",
      "OrderedDict([('block_type', 'CBAM_vanilla'), ('mod', 'GRDN'), ('Cstd', 32), ('activation', 'prelu'), ('aug_scheme', 0)]) 0.3320329039709592\n",
      "OrderedDict([('block_type', 'CBAM_NeXt'), ('mod', 'GRDN'), ('Cstd', 32), ('activation', 'prelu'), ('aug_scheme', 0)]) 0.27791073554202467\n",
      "OrderedDict([('block_type', 'CBAM_NeXt'), ('mod', 'GRDN'), ('Cstd', 32), ('activation', 'GDN'), ('aug_scheme', 0)]) 0.27352934651404304\n",
      "OrderedDict([('block_type', 'CBAM_NeXt'), ('mod', 'GRDN'), ('Cstd', 32), ('activation', 'relu'), ('aug_scheme', 0)]) 1.0001064776924506\n"
     ]
    }
   ],
   "source": [
    "fp = \"experiments/06b2\"\n",
    "fp2 = \"experiments/09c/\"\n",
    "fpres = \"experiments/DA/06b/\"\n",
    "\n",
    "res = utils.extract_res_from_files(fp)\n",
    "res2 = utils.extract_res_from_files(fp2)\n",
    "# for result in res + res2:\n",
    "#     mae = result[\"DA_mean_DF\"][\"mean\"].mean()\n",
    "#     print(result[\"model_data\"], mae)\n",
    "with open(fpres + FINAL, 'rb') as f:\n",
    "    results = pickle.load(f)\n",
    "results"
   ]
  },
  {
   "cell_type": "markdown",
   "metadata": {},
   "source": [
    "### RABs + ResNeXt"
   ]
  },
  {
   "cell_type": "code",
   "execution_count": null,
   "metadata": {},
   "outputs": [],
   "source": [
    "fp = \"experiments/09a/09a/\"\n",
    "fp = \"experiments/09a2/\"\n"
   ]
  },
  {
   "cell_type": "code",
   "execution_count": 94,
   "metadata": {},
   "outputs": [
    {
     "data": {
      "text/plain": [
       "0"
      ]
     },
     "execution_count": 94,
     "metadata": {},
     "output_type": "execute_result"
    }
   ],
   "source": [
    "fp = 'experiments/DA/09a/[-1]_2/AE.csv'\n",
    "'experiments/DA/09a/[-1]_2'\n",
    "df = pd.read_csv(fp)\n",
    "df[\"mse_DA\"].isna().sum()"
   ]
  },
  {
   "cell_type": "code",
   "execution_count": 89,
   "metadata": {},
   "outputs": [],
   "source": [
    "fp = \"experiments/DA/09a/final.txt\"\n",
    "\n",
    "with open(fp, 'rb') as f:\n",
    "    res = pickle.load(f)"
   ]
  },
  {
   "cell_type": "code",
   "execution_count": 90,
   "metadata": {},
   "outputs": [
    {
     "data": {
      "text/plain": [
       "[(0.18654098819919715,\n",
       "  OrderedDict([('cardinality', 4),\n",
       "               ('layers', 27),\n",
       "               ('block_type', 'CBAM_vanilla'),\n",
       "               ('mod', 'RDB3'),\n",
       "               ('activation', 'GDN'),\n",
       "               ('aug_scheme', 0),\n",
       "               ('enc', 0.08394599705934525),\n",
       "               ('dec', 0.1067737564444542)]),\n",
       "  'experiments/09a/09a/0',\n",
       "  'experiments/DA/09a/[-1]_0'),\n",
       " (0.19000243917138634,\n",
       "  OrderedDict([('cardinality', 1),\n",
       "               ('layers', 27),\n",
       "               ('block_type', 'CBAM_vanilla'),\n",
       "               ('mod', 'ResNeXt3'),\n",
       "               ('activation', 'GDN'),\n",
       "               ('aug_scheme', 0),\n",
       "               ('enc', 0.0832032561302185),\n",
       "               ('dec', 0.10657424479722977)]),\n",
       "  'experiments/09a/09a/2',\n",
       "  'experiments/DA/09a/[-1]_2'),\n",
       " (0.20270104484498205,\n",
       "  OrderedDict([('cardinality', 8),\n",
       "               ('layers', 3),\n",
       "               ('block_type', 'vanilla'),\n",
       "               ('mod', 'RDB3'),\n",
       "               ('activation', 'GDN'),\n",
       "               ('aug_scheme', 0),\n",
       "               ('enc', 0.07542861998081207),\n",
       "               ('dec', 0.08883904665708542)]),\n",
       "  'experiments/09a2/0',\n",
       "  'experiments/DA/09a/[-1]_4'),\n",
       " (0.21456053984618362,\n",
       "  OrderedDict([('cardinality', 1),\n",
       "               ('layers', 4),\n",
       "               ('block_type', 'RAB'),\n",
       "               ('sBlock', 'NeXt'),\n",
       "               ('sigmoid', True),\n",
       "               ('activation', 'GDN'),\n",
       "               ('aug_scheme', 0),\n",
       "               ('enc', 0.07506205141544342),\n",
       "               ('dec', 0.027191340923309326)]),\n",
       "  'experiments/09a2/2',\n",
       "  'experiments/DA/09a/[-1]_6'),\n",
       " (0.9887299769684096,\n",
       "  OrderedDict([('cardinality', 8),\n",
       "               ('layers', 3),\n",
       "               ('block_type', 'vanilla'),\n",
       "               ('mod', 'RDB3'),\n",
       "               ('activation', 'relu'),\n",
       "               ('aug_scheme', 0),\n",
       "               ('enc', 0.05000000074505806),\n",
       "               ('dec', 0.05000000074505806)]),\n",
       "  'experiments/09a2/1',\n",
       "  'experiments/DA/09a/[-1]_5'),\n",
       " (0.9991841576013332,\n",
       "  OrderedDict([('cardinality', 1),\n",
       "               ('layers', 4),\n",
       "               ('block_type', 'RAB'),\n",
       "               ('sBlock', 'NeXt'),\n",
       "               ('sigmoid', True),\n",
       "               ('activation', 'relu'),\n",
       "               ('aug_scheme', 0),\n",
       "               ('enc', 0.05000000074505806),\n",
       "               ('dec', 0.05000000074505806)]),\n",
       "  'experiments/09a2/3',\n",
       "  'experiments/DA/09a/[-1]_7'),\n",
       " (1.0058133271662748,\n",
       "  OrderedDict([('cardinality', 1),\n",
       "               ('layers', 27),\n",
       "               ('block_type', 'CBAM_vanilla'),\n",
       "               ('mod', 'ResNeXt3'),\n",
       "               ('activation', 'relu'),\n",
       "               ('aug_scheme', 4),\n",
       "               ('enc', 0.05000000074505806),\n",
       "               ('dec', 0.05000000074505806)]),\n",
       "  'experiments/09a/09a/3',\n",
       "  'experiments/DA/09a/[-1]_3'),\n",
       " (486437.2123807431,\n",
       "  OrderedDict([('cardinality', 4),\n",
       "               ('layers', 27),\n",
       "               ('block_type', 'CBAM_vanilla'),\n",
       "               ('mod', 'RDB3'),\n",
       "               ('activation', 'relu'),\n",
       "               ('aug_scheme', 4),\n",
       "               ('enc', 0.06274962425231934),\n",
       "               ('dec', 0.08500175178050995)]),\n",
       "  'experiments/09a/09a/1',\n",
       "  'experiments/DA/09a/[-1]_1')]"
      ]
     },
     "execution_count": 90,
     "metadata": {},
     "output_type": "execute_result"
    }
   ],
   "source": [
    "res\n"
   ]
  },
  {
   "cell_type": "markdown",
   "metadata": {},
   "source": [
    "### ResNeXt"
   ]
  },
  {
   "cell_type": "code",
   "execution_count": 13,
   "metadata": {},
   "outputs": [],
   "source": [
    "fp = \"experiments/DA/02c/final.txt\"\n",
    "with open(fp, 'rb') as f:\n",
    "    res1 = pickle.load(f)\n",
    "fp2 = \"experiments/DA/02/final.txt\"\n",
    "with open(fp2, 'rb') as f:\n",
    "    res2 = pickle.load(f)\n",
    "res = sorted(res1 + res2)"
   ]
  },
  {
   "cell_type": "code",
   "execution_count": 14,
   "metadata": {},
   "outputs": [
    {
     "data": {
      "text/plain": [
       "[(0.18934022505261067,\n",
       "  OrderedDict([('cardinality', 4),\n",
       "               ('layers', 27),\n",
       "               ('block_type', 'CBAM_vanilla'),\n",
       "               ('mod', 'RDB3'),\n",
       "               ('activation', 'prelu'),\n",
       "               ('aug_scheme', 0),\n",
       "               ('enc', 0.025172419846057892),\n",
       "               ('dec', 0.2881586253643036)]),\n",
       "  '/home/jfm1118/DA/experiments/train2/08b/4/'),\n",
       " (0.19065745201325718,\n",
       "  OrderedDict([('cardinality', 4),\n",
       "               ('layers', 27),\n",
       "               ('block_type', 'CBAM_NeXt'),\n",
       "               ('mod', 'ResNeXt3'),\n",
       "               ('activation', 'prelu'),\n",
       "               ('aug_scheme', 0),\n",
       "               ('enc', 0.051634859293699265),\n",
       "               ('dec', 0.07725891470909119)]),\n",
       "  '/home/jfm1118/DA/experiments/train2/08b/3/'),\n",
       " (0.19480844035307793,\n",
       "  OrderedDict([('cardinality', 1),\n",
       "               ('layers', 27),\n",
       "               ('block_type', 'CBAM_vanilla'),\n",
       "               ('mod', 'ResNeXt3'),\n",
       "               ('enc', 0.041205551475286484),\n",
       "               ('dec', 0.2478264421224594)]),\n",
       "  '/home/jfm1118/DA/experiments/02b/13'),\n",
       " (0.19504560386218917,\n",
       "  OrderedDict([('cardinality', 4),\n",
       "               ('layers', 27),\n",
       "               ('block_type', 'vanilla'),\n",
       "               ('mod', 'RDB3'),\n",
       "               ('activation', 'prelu'),\n",
       "               ('aug_scheme', 0),\n",
       "               ('enc', 0.040130265057086945),\n",
       "               ('dec', 0.16007675230503082)]),\n",
       "  '/home/jfm1118/DA/experiments/train2/08b/5/'),\n",
       " (0.19580044160302734,\n",
       "  OrderedDict([('cardinality', 8),\n",
       "               ('layers', 3),\n",
       "               ('block_type', 'vanilla'),\n",
       "               ('mod', 'RDB3'),\n",
       "               ('enc', -0.005224914755672216),\n",
       "               ('dec', 0.2009439319372177)]),\n",
       "  '/home/jfm1118/DA/experiments/train/02a/6'),\n",
       " (0.1964185137364426,\n",
       "  OrderedDict([('cardinality', 4),\n",
       "               ('layers', 27),\n",
       "               ('block_type', 'NeXt'),\n",
       "               ('mod', 'RDB3'),\n",
       "               ('activation', 'prelu'),\n",
       "               ('aug_scheme', 0),\n",
       "               ('enc', 0.09688178449869156),\n",
       "               ('dec', 0.17715057730674744)]),\n",
       "  '/home/jfm1118/DA/experiments/train2/08b/6/'),\n",
       " (0.19683192702489682,\n",
       "  OrderedDict([('cardinality', 1),\n",
       "               ('layers', 27),\n",
       "               ('block_type', 'NeXt'),\n",
       "               ('mod', 'RDB3'),\n",
       "               ('enc', 0.010971548035740852),\n",
       "               ('dec', 0.15283849835395813)]),\n",
       "  '/home/jfm1118/DA/experiments/train/02a/3'),\n",
       " (0.1997636936744469,\n",
       "  OrderedDict([('cardinality', 4),\n",
       "               ('layers', 27),\n",
       "               ('block_type', 'CBAM_vanilla'),\n",
       "               ('mod', 'ResNeXt3'),\n",
       "               ('activation', 'prelu'),\n",
       "               ('aug_scheme', 0),\n",
       "               ('enc', 0.0807780921459198),\n",
       "               ('dec', 0.3064901530742645)]),\n",
       "  '/home/jfm1118/DA/experiments/train2/08b/0/'),\n",
       " (0.20041641942408872,\n",
       "  OrderedDict([('cardinality', 8),\n",
       "               ('layers', 3),\n",
       "               ('block_type', 'NeXt'),\n",
       "               ('mod', 'RDB3'),\n",
       "               ('enc', 0.04057583212852478),\n",
       "               ('dec', 0.1462394893169403)]),\n",
       "  '/home/jfm1118/DA/experiments/train/02a/2'),\n",
       " (0.20046468634596426,\n",
       "  OrderedDict([('cardinality', 4),\n",
       "               ('layers', 27),\n",
       "               ('block_type', 'CBAM_NeXt'),\n",
       "               ('mod', 'RDB3'),\n",
       "               ('activation', 'prelu'),\n",
       "               ('aug_scheme', 0),\n",
       "               ('enc', 0.04915715381503105),\n",
       "               ('dec', 0.20667442679405212)]),\n",
       "  '/home/jfm1118/DA/experiments/train2/08b/7/'),\n",
       " (0.2013015611443069,\n",
       "  OrderedDict([('cardinality', 8),\n",
       "               ('layers', 3),\n",
       "               ('block_type', 'CBAM_NeXt'),\n",
       "               ('mod', 'RDB3'),\n",
       "               ('enc', 0.05712055414915085),\n",
       "               ('dec', 0.11122412979602814)]),\n",
       "  '/home/jfm1118/DA/experiments/02b/10'),\n",
       " (0.20281385860233267,\n",
       "  OrderedDict([('cardinality', 4),\n",
       "               ('layers', 27),\n",
       "               ('block_type', 'NeXt'),\n",
       "               ('mod', 'ResNeXt3'),\n",
       "               ('activation', 'prelu'),\n",
       "               ('aug_scheme', 0),\n",
       "               ('enc', 0.04861073940992355),\n",
       "               ('dec', 0.06980253756046295)]),\n",
       "  '/home/jfm1118/DA/experiments/train2/08b/2/'),\n",
       " (0.20306540884956864,\n",
       "  OrderedDict([('cardinality', 1),\n",
       "               ('layers', 27),\n",
       "               ('block_type', 'vanilla'),\n",
       "               ('mod', 'ResNeXt3'),\n",
       "               ('enc', 0.04782615602016449),\n",
       "               ('dec', 0.18362177908420563)]),\n",
       "  '/home/jfm1118/DA/experiments/train/02a/5'),\n",
       " (0.2051393971060461,\n",
       "  OrderedDict([('cardinality', 8),\n",
       "               ('layers', 3),\n",
       "               ('block_type', 'CBAM_vanilla'),\n",
       "               ('mod', 'ResNeXt3'),\n",
       "               ('enc', 0.06653837859630585),\n",
       "               ('dec', 0.2176530510187149)]),\n",
       "  '/home/jfm1118/DA/experiments/02b/12'),\n",
       " (0.2060186963115229,\n",
       "  OrderedDict([('cardinality', 1),\n",
       "               ('layers', 27),\n",
       "               ('block_type', 'CBAM_NeXt'),\n",
       "               ('mod', 'RDB3'),\n",
       "               ('enc', 0.05641555041074753),\n",
       "               ('dec', 0.2610883116722107)]),\n",
       "  '/home/jfm1118/DA/experiments/02b/11'),\n",
       " (0.20644257550761258,\n",
       "  OrderedDict([('cardinality', 1),\n",
       "               ('layers', 27),\n",
       "               ('block_type', 'vanilla'),\n",
       "               ('mod', 'RDB3'),\n",
       "               ('enc', 0.05324654281139374),\n",
       "               ('dec', 0.23672273755073547)]),\n",
       "  '/home/jfm1118/DA/experiments/train/02a/7'),\n",
       " (0.2105830117780527,\n",
       "  OrderedDict([('cardinality', 1),\n",
       "               ('layers', 27),\n",
       "               ('block_type', 'NeXt'),\n",
       "               ('mod', 'ResNeXt3'),\n",
       "               ('enc', 0.05562044307589531),\n",
       "               ('dec', 0.07189489901065826)]),\n",
       "  '/home/jfm1118/DA/experiments/train/02a/1'),\n",
       " (0.21082477795974916,\n",
       "  OrderedDict([('cardinality', 4),\n",
       "               ('layers', 27),\n",
       "               ('block_type', 'vanilla'),\n",
       "               ('mod', 'ResNeXt3'),\n",
       "               ('activation', 'prelu'),\n",
       "               ('aug_scheme', 0),\n",
       "               ('enc', 0.05099043995141983),\n",
       "               ('dec', 0.07576371729373932)]),\n",
       "  '/home/jfm1118/DA/experiments/train2/08b/1/'),\n",
       " (0.21098725730587542,\n",
       "  OrderedDict([('cardinality', 1),\n",
       "               ('layers', 27),\n",
       "               ('block_type', 'CBAM_NeXt'),\n",
       "               ('mod', 'ResNeXt3'),\n",
       "               ('enc', 0.07320580631494522),\n",
       "               ('dec', 0.0764964371919632)]),\n",
       "  '/home/jfm1118/DA/experiments/02b/9'),\n",
       " (0.21253279775957562,\n",
       "  OrderedDict([('cardinality', 8),\n",
       "               ('layers', 3),\n",
       "               ('block_type', 'CBAM_vanilla'),\n",
       "               ('mod', 'RDB3'),\n",
       "               ('enc', 0.061273008584976196),\n",
       "               ('dec', 0.16611196100711823)]),\n",
       "  '/home/jfm1118/DA/experiments/02b/14'),\n",
       " (0.2148242359092336,\n",
       "  OrderedDict([('cardinality', 8),\n",
       "               ('layers', 3),\n",
       "               ('block_type', 'CBAM_NeXt'),\n",
       "               ('mod', 'ResNeXt3'),\n",
       "               ('enc', 0.06750557571649551),\n",
       "               ('dec', 0.09417399764060974)]),\n",
       "  '/home/jfm1118/DA/experiments/02b/8'),\n",
       " (0.2167148076332788,\n",
       "  OrderedDict([('cardinality', 1),\n",
       "               ('layers', 27),\n",
       "               ('block_type', 'CBAM_vanilla'),\n",
       "               ('mod', 'RDB3'),\n",
       "               ('enc', 0.0754542201757431),\n",
       "               ('dec', 0.12393223494291306)]),\n",
       "  '/home/jfm1118/DA/experiments/02b/15'),\n",
       " (0.21744191628865947,\n",
       "  OrderedDict([('cardinality', 8),\n",
       "               ('layers', 3),\n",
       "               ('block_type', 'NeXt'),\n",
       "               ('mod', 'ResNeXt3'),\n",
       "               ('enc', 0.0520784966647625),\n",
       "               ('dec', 0.06753022968769073)]),\n",
       "  '/home/jfm1118/DA/experiments/train/02a/0'),\n",
       " (0.2195514379112015,\n",
       "  OrderedDict([('cardinality', 8),\n",
       "               ('layers', 3),\n",
       "               ('block_type', 'vanilla'),\n",
       "               ('mod', 'ResNeXt3'),\n",
       "               ('enc', 0.04764016345143318),\n",
       "               ('dec', 0.06127048283815384)]),\n",
       "  '/home/jfm1118/DA/experiments/train/02a/4')]"
      ]
     },
     "execution_count": 14,
     "metadata": {},
     "output_type": "execute_result"
    }
   ],
   "source": [
    "res"
   ]
  },
  {
   "cell_type": "code",
   "execution_count": 22,
   "metadata": {},
   "outputs": [
    {
     "name": "stdout",
     "output_type": "stream",
     "text": [
      "ResNeXt3 CBAM_vanilla 3 8 0.2051393971060461\n",
      "ResNeXt3 CBAM_NeXt 3 8 0.2148242359092336\n",
      "ResNeXt3 NeXt 3 8 0.21744191628865947\n",
      "ResNeXt3 vanilla 3 8 0.2195514379112015\n"
     ]
    }
   ],
   "source": [
    "for x in res2:\n",
    "    val, data, fp = x\n",
    "    mod = data.get(\"mod\")\n",
    "    block = data.get(\"block_type\")\n",
    "    layers = data.get(\"layers\")\n",
    "    card = data.get(\"cardinality\")\n",
    "    if layers == 3 and mod == \"ResNeXt3\":\n",
    "        print(mod, block, layers, card, val)"
   ]
  },
  {
   "cell_type": "code",
   "execution_count": 16,
   "metadata": {},
   "outputs": [
    {
     "data": {
      "text/plain": [
       "24"
      ]
     },
     "execution_count": 16,
     "metadata": {},
     "output_type": "execute_result"
    }
   ],
   "source": [
    "len(res)"
   ]
  },
  {
   "cell_type": "code",
   "execution_count": null,
   "metadata": {},
   "outputs": [],
   "source": []
  }
 ],
 "metadata": {
  "kernelspec": {
   "display_name": "Python 3",
   "language": "python",
   "name": "python3"
  },
  "language_info": {
   "codemirror_mode": {
    "name": "ipython",
    "version": 3
   },
   "file_extension": ".py",
   "mimetype": "text/x-python",
   "name": "python",
   "nbconvert_exporter": "python",
   "pygments_lexer": "ipython3",
   "version": "3.6.7"
  },
  "toc": {
   "base_numbering": 1,
   "nav_menu": {},
   "number_sections": true,
   "sideBar": true,
   "skip_h1_title": false,
   "title_cell": "Table of Contents",
   "title_sidebar": "Contents",
   "toc_cell": true,
   "toc_position": {},
   "toc_section_display": true,
   "toc_window_display": true
  }
 },
 "nbformat": 4,
 "nbformat_minor": 2
}
