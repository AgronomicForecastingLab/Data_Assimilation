{
 "cells": [
  {
   "cell_type": "markdown",
   "metadata": {
    "toc": true
   },
   "source": [
    "<h1>Table of Contents<span class=\"tocSkip\"></span></h1>\n",
    "<div class=\"toc\"><ul class=\"toc-item\"><li><span><a href=\"#Plot-Validation-and-Train-loss\" data-toc-modified-id=\"Plot-Validation-and-Train-loss-1\"><span class=\"toc-item-num\">1&nbsp;&nbsp;</span>Plot Validation and Train loss</a></span></li><li><span><a href=\"#Extract-relevant-Data-to-df\" data-toc-modified-id=\"Extract-relevant-Data-to-df-2\"><span class=\"toc-item-num\">2&nbsp;&nbsp;</span>Extract relevant Data to df</a></span><ul class=\"toc-item\"><li><span><a href=\"#Consider-Outliers\" data-toc-modified-id=\"Consider-Outliers-2.1\"><span class=\"toc-item-num\">2.1&nbsp;&nbsp;</span>Consider Outliers</a></span></li></ul></li><li><span><a href=\"#Results-by-model\" data-toc-modified-id=\"Results-by-model-3\"><span class=\"toc-item-num\">3&nbsp;&nbsp;</span>Results by model</a></span><ul class=\"toc-item\"><li><span><a href=\"#Remove-Duplicates\" data-toc-modified-id=\"Remove-Duplicates-3.1\"><span class=\"toc-item-num\">3.1&nbsp;&nbsp;</span>Remove Duplicates</a></span></li></ul></li><li><span><a href=\"#Each-variable-plotted-against-loss:\" data-toc-modified-id=\"Each-variable-plotted-against-loss:-4\"><span class=\"toc-item-num\">4&nbsp;&nbsp;</span>Each variable plotted against loss:</a></span></li><li><span><a href=\"#Investigate-&quot;band&quot;-in-loss-model-plot\" data-toc-modified-id=\"Investigate-&quot;band&quot;-in-loss-model-plot-5\"><span class=\"toc-item-num\">5&nbsp;&nbsp;</span>Investigate \"band\" in loss-model plot</a></span><ul class=\"toc-item\"><li><span><a href=\"#Extract-the-different-bands-and-inpsect\" data-toc-modified-id=\"Extract-the-different-bands-and-inpsect-5.1\"><span class=\"toc-item-num\">5.1&nbsp;&nbsp;</span>Extract the different bands and inpsect</a></span></li></ul></li><li><span><a href=\"#Investigate-Duplicates\" data-toc-modified-id=\"Investigate-Duplicates-6\"><span class=\"toc-item-num\">6&nbsp;&nbsp;</span>Investigate Duplicates</a></span></li><li><span><a href=\"#Investigate-Best\" data-toc-modified-id=\"Investigate-Best-7\"><span class=\"toc-item-num\">7&nbsp;&nbsp;</span>Investigate Best</a></span></li></ul></div>"
   ]
  },
  {
   "cell_type": "code",
   "execution_count": 1,
   "metadata": {},
   "outputs": [],
   "source": [
    "import os\n",
    "import sys\n",
    "import utils\n",
    "\n",
    "\n",
    "#import pipeline\n",
    "parent_dir = os.path.abspath(os.path.join(os.getcwd(), os.pardir))\n",
    "sys.path.append(parent_dir) #to import pipeline\n",
    "import pipeline\n",
    "\n",
    "\n",
    "%matplotlib inline"
   ]
  },
  {
   "cell_type": "markdown",
   "metadata": {},
   "source": [
    "## Plot Validation and Train loss"
   ]
  },
  {
   "cell_type": "code",
   "execution_count": 2,
   "metadata": {
    "scrolled": false
   },
   "outputs": [
    {
     "name": "stdout",
     "output_type": "stream",
     "text": [
      "1 experiments conducted\n",
      "(3,)\n"
     ]
    },
    {
     "data": {
      "image/png": "[encoded data removed]",
      "text/plain": [
       "<Figure size 1080x288 with 3 Axes>"
      ]
     },
     "metadata": {},
     "output_type": "display_data"
    }
   ],
   "source": [
    "###CHANGE THIS FILE TO THE SUBDIRECTORY OF INTEREST:\n",
    "exp_dir_base = \"/data/home/jfm1118/DA/experiments/CAE_zooBN\"\n",
    "##############\n",
    "\n",
    "\n",
    "results = utils.extract_res_from_files(exp_dir_base)\n",
    "utils.plot_results_loss_epochs(results)\n"
   ]
  },
  {
   "cell_type": "markdown",
   "metadata": {},
   "source": [
    "## Extract relevant Data to df\n",
    "Use minimum validation loss as criterion.  \n",
    "\n",
    "In theory (if we had it) it would be better to use DA MAE\n"
   ]
  },
  {
   "cell_type": "code",
   "execution_count": 6,
   "metadata": {},
   "outputs": [
    {
     "data": {
      "text/html": [
       "<div>\n",
       "<style scoped>\n",
       "    .dataframe tbody tr th:only-of-type {\n",
       "        vertical-align: middle;\n",
       "    }\n",
       "\n",
       "    .dataframe tbody tr th {\n",
       "        vertical-align: top;\n",
       "    }\n",
       "\n",
       "    .dataframe thead th {\n",
       "        text-align: right;\n",
       "    }\n",
       "</style>\n",
       "<table border=\"1\" class=\"dataframe\">\n",
       "  <thead>\n",
       "    <tr style=\"text-align: right;\">\n",
       "      <th></th>\n",
       "      <th>model</th>\n",
       "      <th>valid_loss</th>\n",
       "      <th>activation</th>\n",
       "      <th>latent_dims</th>\n",
       "      <th>num_layers</th>\n",
       "      <th>total_channels</th>\n",
       "      <th>channels/layer</th>\n",
       "    </tr>\n",
       "  </thead>\n",
       "  <tbody>\n",
       "  </tbody>\n",
       "</table>\n",
       "</div>"
      ],
      "text/plain": [
       "Empty DataFrame\n",
       "Columns: [model, valid_loss, activation, latent_dims, num_layers, total_channels, channels/layer]\n",
       "Index: []"
      ]
     },
     "execution_count": 6,
     "metadata": {},
     "output_type": "execute_result"
    }
   ],
   "source": [
    "df_res = utils.create_res_df(results)\n",
    "df_res_original = df_res.copy() #save original (in case you substitute out)\n",
    "df_res.tail()"
   ]
  },
  {
   "cell_type": "markdown",
   "metadata": {},
   "source": [
    "### Consider Outliers"
   ]
  },
  {
   "cell_type": "code",
   "execution_count": 191,
   "metadata": {},
   "outputs": [
    {
     "data": {
      "text/html": [
       "<div>\n",
       "<style scoped>\n",
       "    .dataframe tbody tr th:only-of-type {\n",
       "        vertical-align: middle;\n",
       "    }\n",
       "\n",
       "    .dataframe tbody tr th {\n",
       "        vertical-align: top;\n",
       "    }\n",
       "\n",
       "    .dataframe thead th {\n",
       "        text-align: right;\n",
       "    }\n",
       "</style>\n",
       "<table border=\"1\" class=\"dataframe\">\n",
       "  <thead>\n",
       "    <tr style=\"text-align: right;\">\n",
       "      <th></th>\n",
       "      <th>model</th>\n",
       "      <th>valid_loss</th>\n",
       "      <th>activation</th>\n",
       "      <th>latent_dims</th>\n",
       "      <th>num_layers</th>\n",
       "      <th>total_channels</th>\n",
       "      <th>channels/layer</th>\n",
       "      <th>batch_norm</th>\n",
       "      <th>conv_changeover</th>\n",
       "      <th>first_channel</th>\n",
       "      <th>path</th>\n",
       "    </tr>\n",
       "  </thead>\n",
       "  <tbody>\n",
       "    <tr>\n",
       "      <th>0</th>\n",
       "      <td>CAE1</td>\n",
       "      <td>192042.603426</td>\n",
       "      <td>lrelu</td>\n",
       "      <td>54</td>\n",
       "      <td>11</td>\n",
       "      <td>72</td>\n",
       "      <td>6.545455</td>\n",
       "      <td>0.0</td>\n",
       "      <td>10.0</td>\n",
       "      <td>2.0</td>\n",
       "      <td>/data/home/jfm1118/DA/experiments/CAE_zoo3/5</td>\n",
       "    </tr>\n",
       "    <tr>\n",
       "      <th>2</th>\n",
       "      <td>CAE1</td>\n",
       "      <td>192162.269670</td>\n",
       "      <td>relu</td>\n",
       "      <td>27</td>\n",
       "      <td>6</td>\n",
       "      <td>24</td>\n",
       "      <td>4.000000</td>\n",
       "      <td>0.0</td>\n",
       "      <td>0.0</td>\n",
       "      <td>2.0</td>\n",
       "      <td>/data/home/jfm1118/DA/experiments/CAE_zoo3/3</td>\n",
       "    </tr>\n",
       "    <tr>\n",
       "      <th>3</th>\n",
       "      <td>CAE1</td>\n",
       "      <td>192116.399112</td>\n",
       "      <td>lrelu</td>\n",
       "      <td>108</td>\n",
       "      <td>11</td>\n",
       "      <td>78</td>\n",
       "      <td>7.090909</td>\n",
       "      <td>0.0</td>\n",
       "      <td>10.0</td>\n",
       "      <td>2.0</td>\n",
       "      <td>/data/home/jfm1118/DA/experiments/CAE_zoo3/4</td>\n",
       "    </tr>\n",
       "    <tr>\n",
       "      <th>11</th>\n",
       "      <td>CAE1A</td>\n",
       "      <td>192156.166561</td>\n",
       "      <td>lrelu</td>\n",
       "      <td>36</td>\n",
       "      <td>8</td>\n",
       "      <td>61</td>\n",
       "      <td>7.625000</td>\n",
       "      <td>0.0</td>\n",
       "      <td>5.0</td>\n",
       "      <td>8.0</td>\n",
       "      <td>/data/home/jfm1118/DA/experiments/CAE_zoo2/37</td>\n",
       "    </tr>\n",
       "  </tbody>\n",
       "</table>\n",
       "</div>"
      ],
      "text/plain": [
       "    model     valid_loss activation latent_dims num_layers total_channels  \\\n",
       "0    CAE1  192042.603426      lrelu          54         11             72   \n",
       "2    CAE1  192162.269670       relu          27          6             24   \n",
       "3    CAE1  192116.399112      lrelu         108         11             78   \n",
       "11  CAE1A  192156.166561      lrelu          36          8             61   \n",
       "\n",
       "    channels/layer  batch_norm  conv_changeover  first_channel  \\\n",
       "0         6.545455         0.0             10.0            2.0   \n",
       "2         4.000000         0.0              0.0            2.0   \n",
       "3         7.090909         0.0             10.0            2.0   \n",
       "11        7.625000         0.0              5.0            8.0   \n",
       "\n",
       "                                             path  \n",
       "0    /data/home/jfm1118/DA/experiments/CAE_zoo3/5  \n",
       "2    /data/home/jfm1118/DA/experiments/CAE_zoo3/3  \n",
       "3    /data/home/jfm1118/DA/experiments/CAE_zoo3/4  \n",
       "11  /data/home/jfm1118/DA/experiments/CAE_zoo2/37  "
      ]
     },
     "execution_count": 191,
     "metadata": {},
     "output_type": "execute_result"
    }
   ],
   "source": [
    "#consider third experiment run (lots of outliers)\n",
    "df3 = df_res[df_res[\"path\"].str.contains(\"CAE_zoo3\")]\n",
    "\n",
    "df_outlier =  df_res[df_res[\"valid_loss\"] > 150000]\n",
    "\n",
    "df_outlier"
   ]
  },
  {
   "cell_type": "markdown",
   "metadata": {},
   "source": [
    "## Results by model"
   ]
  },
  {
   "cell_type": "code",
   "execution_count": 156,
   "metadata": {},
   "outputs": [
    {
     "data": {
      "image/png": "[encoded data removed]",
      "text/plain": [
       "<Figure size 432x288 with 1 Axes>"
      ]
     },
     "metadata": {},
     "output_type": "display_data"
    }
   ],
   "source": [
    "relu = df_res[df_res.activation == \"relu\"]\n",
    "lrelu = df_res[df_res.activation == \"lrelu\"]\n",
    "\n",
    "plt.scatter('model', \"valid_loss\", data=relu,  marker=\"+\", color='r')\n",
    "plt.scatter('model', \"valid_loss\", data=lrelu,  marker=\"+\", color='g')\n",
    "\n",
    "plt.ylabel(\"Loss\")\n",
    "plt.xlabel(\"Model\")\n",
    "plt.ylim(16000, 32000)\n",
    "plt.legend(labels=[\"relu\", \"lrelu\"])\n",
    "plt.show()"
   ]
  },
  {
   "cell_type": "code",
   "execution_count": 157,
   "metadata": {
    "scrolled": true
   },
   "outputs": [
    {
     "data": {
      "image/png": "[encoded data removed]",
      "text/plain": [
       "<Figure size 432x288 with 1 Axes>"
      ]
     },
     "metadata": {},
     "output_type": "display_data"
    }
   ],
   "source": [
    "#investigate number of layers\n",
    "relu6 = df_res[(df_res.activation == \"relu\") & (df_res.num_layers == 6)]\n",
    "relu11 = df_res[(df_res.activation == \"relu\") & (df_res.num_layers == 11)]\n",
    "lrelu6 = df_res[(df_res.activation == \"lrelu\") & (df_res.num_layers == 6)]\n",
    "lrelu11 = df_res[(df_res.activation == \"lrelu\") & (df_res.num_layers == 11)]\n",
    "\n",
    "\n",
    "plt.scatter('model', \"valid_loss\", data=relu6,  marker=\"+\", color='r')\n",
    "plt.scatter('model', \"valid_loss\", data=lrelu6,  marker=\"+\", color='g')\n",
    "plt.scatter('model', \"valid_loss\", data=relu11,  marker=\"o\", color='r')\n",
    "plt.scatter('model', \"valid_loss\", data=lrelu11,  marker=\"o\", color='g')\n",
    "\n",
    "plt.ylabel(\"Loss\")\n",
    "plt.xlabel(\"Model\")\n",
    "plt.ylim(16000, 32000)\n",
    "plt.legend(labels=[\"relu, 6\", \"lrelu, 6\", \"relu, 11\", \"lrelu, 11\"])\n",
    "plt.show()"
   ]
  },
  {
   "cell_type": "markdown",
   "metadata": {},
   "source": [
    "It turns out that there are lots of duplicates in the above data (as a result of a bug in my code that was giving all models the same number of channels). So remove duplicates and go again: "
   ]
  },
  {
   "cell_type": "markdown",
   "metadata": {},
   "source": [
    "### Remove Duplicates"
   ]
  },
  {
   "cell_type": "code",
   "execution_count": 158,
   "metadata": {},
   "outputs": [
    {
     "data": {
      "text/plain": [
       "(19, 10)"
      ]
     },
     "execution_count": 158,
     "metadata": {},
     "output_type": "execute_result"
    }
   ],
   "source": [
    "#remove duplicates\n",
    "columns = list(df_res_save.columns)\n",
    "columns.remove(\"model\")\n",
    "columns.remove(\"path\")\n",
    "df_res_new = df_res_save.drop_duplicates(subset=columns, keep=\"last\")\n",
    "df_res_new.shape\n",
    "df_res = df_res_new\n",
    "df_res.shape"
   ]
  },
  {
   "cell_type": "markdown",
   "metadata": {},
   "source": [
    "## Each variable plotted against loss:"
   ]
  },
  {
   "cell_type": "code",
   "execution_count": 163,
   "metadata": {},
   "outputs": [
    {
     "data": {
      "text/plain": [
       "Text(0.5,0,'latent dimensions')"
      ]
     },
     "execution_count": 163,
     "metadata": {},
     "output_type": "execute_result"
    },
    {
     "data": {
      "image/png": "[encoded data removed]",
      "text/plain": [
       "<Figure size 432x288 with 1 Axes>"
      ]
     },
     "metadata": {},
     "output_type": "display_data"
    }
   ],
   "source": [
    "plt.scatter('latent_dims', \"valid_loss\", data=df_res, marker=\"+\", color='r')\n",
    "plt.ylabel(\"Loss\")\n",
    "plt.xlabel(\"latent dimensions\")\n"
   ]
  },
  {
   "cell_type": "code",
   "execution_count": 160,
   "metadata": {},
   "outputs": [
    {
     "data": {
      "text/plain": [
       "Text(0.5,0,'First channel')"
      ]
     },
     "execution_count": 160,
     "metadata": {},
     "output_type": "execute_result"
    },
    {
     "data": {
      "image/png": "[encoded data removed]",
      "text/plain": [
       "<Figure size 432x288 with 1 Axes>"
      ]
     },
     "metadata": {},
     "output_type": "display_data"
    }
   ],
   "source": [
    "plt.scatter('first_channel', \"valid_loss\", data=df_res, marker=\"+\", color='r')\n",
    "plt.ylabel(\"Loss\")\n",
    "plt.xlabel(\"First channel\")\n"
   ]
  },
  {
   "cell_type": "code",
   "execution_count": 182,
   "metadata": {},
   "outputs": [
    {
     "data": {
      "text/plain": [
       "(-0.1, 1.1)"
      ]
     },
     "execution_count": 182,
     "metadata": {},
     "output_type": "execute_result"
    },
    {
     "data": {
      "image/png": "[encoded data removed]",
      "text/plain": [
       "<Figure size 432x288 with 1 Axes>"
      ]
     },
     "metadata": {},
     "output_type": "display_data"
    }
   ],
   "source": [
    "plt.scatter('batch_norm', \"valid_loss\", data=df_res,  marker=\"+\", color='r')\n",
    "plt.ylabel(\"Loss\")\n",
    "plt.xlabel(\"Batch Norm\")\n",
    "plt.xlim(-0.1, 1.1)"
   ]
  },
  {
   "cell_type": "code",
   "execution_count": 103,
   "metadata": {},
   "outputs": [
    {
     "data": {
      "text/plain": [
       "(16000, 30000)"
      ]
     },
     "execution_count": 103,
     "metadata": {},
     "output_type": "execute_result"
    },
    {
     "data": {
      "image/png": "[encoded data removed]",
      "text/plain": [
       "<Figure size 432x288 with 1 Axes>"
      ]
     },
     "metadata": {},
     "output_type": "display_data"
    }
   ],
   "source": [
    "plt.scatter('activation', \"valid_loss\", data=df_res,  marker=\"+\", color='r')\n",
    "plt.ylabel(\"Loss\")\n",
    "plt.xlabel(\"Activation\")\n",
    "plt.ylim(16000, 30000)"
   ]
  },
  {
   "cell_type": "code",
   "execution_count": 164,
   "metadata": {},
   "outputs": [
    {
     "data": {
      "text/plain": [
       "Text(0.5,0,'Model')"
      ]
     },
     "execution_count": 164,
     "metadata": {},
     "output_type": "execute_result"
    },
    {
     "data": {
      "image/png": "[encoded data removed]",
      "text/plain": [
       "<Figure size 432x288 with 1 Axes>"
      ]
     },
     "metadata": {},
     "output_type": "display_data"
    }
   ],
   "source": [
    "plt.scatter('model', \"valid_loss\", data=df_res,  marker=\"+\", color='r')\n",
    "plt.ylabel(\"Loss\")\n",
    "plt.xlabel(\"Model\")\n"
   ]
  },
  {
   "cell_type": "code",
   "execution_count": 105,
   "metadata": {},
   "outputs": [
    {
     "data": {
      "text/plain": [
       "Text(0.5,0,'Number of layers in Decoder/Encoder')"
      ]
     },
     "execution_count": 105,
     "metadata": {},
     "output_type": "execute_result"
    },
    {
     "data": {
      "image/png": "[encoded data removed]",
      "text/plain": [
       "<Figure size 432x288 with 1 Axes>"
      ]
     },
     "metadata": {},
     "output_type": "display_data"
    }
   ],
   "source": [
    "plt.scatter('num_layers', \"valid_loss\", data=df_res,  marker=\"+\", color='r')\n",
    "plt.ylabel(\"Loss\")\n",
    "plt.xlabel(\"Number of layers in Decoder/Encoder\")\n"
   ]
  },
  {
   "cell_type": "code",
   "execution_count": 106,
   "metadata": {},
   "outputs": [
    {
     "data": {
      "text/plain": [
       "Text(0.5,0,'Total Channels')"
      ]
     },
     "execution_count": 106,
     "metadata": {},
     "output_type": "execute_result"
    },
    {
     "data": {
      "image/png": "[encoded data removed]",
      "text/plain": [
       "<Figure size 432x288 with 1 Axes>"
      ]
     },
     "metadata": {},
     "output_type": "display_data"
    }
   ],
   "source": [
    "plt.scatter('total_channels', \"valid_loss\", data=df_res,  marker=\"+\", color='r')\n",
    "plt.ylabel(\"Loss\")\n",
    "plt.xlabel(\"Total Channels\")\n"
   ]
  },
  {
   "cell_type": "code",
   "execution_count": 109,
   "metadata": {},
   "outputs": [
    {
     "data": {
      "text/plain": [
       "(16000, 32000)"
      ]
     },
     "execution_count": 109,
     "metadata": {},
     "output_type": "execute_result"
    },
    {
     "data": {
      "image/png": "[encoded data removed]",
      "text/plain": [
       "<Figure size 432x288 with 1 Axes>"
      ]
     },
     "metadata": {},
     "output_type": "display_data"
    }
   ],
   "source": [
    "plt.scatter('channels/layer', \"valid_loss\", data=df_res,  marker=\"+\", color='r')\n",
    "plt.ylabel(\"Loss\")\n",
    "plt.xlabel(\"Channels/Layer\")\n",
    "plt.ylim(16000, 32000)\n"
   ]
  },
  {
   "cell_type": "code",
   "execution_count": 110,
   "metadata": {},
   "outputs": [
    {
     "data": {
      "text/plain": [
       "Text(0.5,0,'Input size decrease at which to change to start downsampling (via transposed convolution)')"
      ]
     },
     "execution_count": 110,
     "metadata": {},
     "output_type": "execute_result"
    },
    {
     "data": {
      "image/png": "[encoded data removed]",
      "text/plain": [
       "<Figure size 432x288 with 1 Axes>"
      ]
     },
     "metadata": {},
     "output_type": "display_data"
    }
   ],
   "source": [
    "plt.scatter('conv_changeover', \"valid_loss\", data=df_res,  marker=\"+\", color='r')\n",
    "plt.ylabel(\"Loss\")\n",
    "plt.xlabel(\"Input size decrease at which to change to start downsampling (via transposed convolution)\")\n"
   ]
  },
  {
   "cell_type": "markdown",
   "metadata": {},
   "source": [
    "## Investigate \"band\" in loss-model plot"
   ]
  },
  {
   "cell_type": "markdown",
   "metadata": {},
   "source": [
    "### Extract the different bands and inpsect"
   ]
  },
  {
   "cell_type": "code",
   "execution_count": 78,
   "metadata": {},
   "outputs": [
    {
     "data": {
      "text/html": [
       "<div>\n",
       "<style scoped>\n",
       "    .dataframe tbody tr th:only-of-type {\n",
       "        vertical-align: middle;\n",
       "    }\n",
       "\n",
       "    .dataframe tbody tr th {\n",
       "        vertical-align: top;\n",
       "    }\n",
       "\n",
       "    .dataframe thead th {\n",
       "        text-align: right;\n",
       "    }\n",
       "</style>\n",
       "<table border=\"1\" class=\"dataframe\">\n",
       "  <thead>\n",
       "    <tr style=\"text-align: right;\">\n",
       "      <th></th>\n",
       "      <th>model</th>\n",
       "      <th>valid_loss</th>\n",
       "      <th>activation</th>\n",
       "      <th>latent_dims</th>\n",
       "      <th>num_layers</th>\n",
       "      <th>total_channels</th>\n",
       "      <th>channels/layer</th>\n",
       "      <th>conv_changeover</th>\n",
       "      <th>path</th>\n",
       "    </tr>\n",
       "  </thead>\n",
       "  <tbody>\n",
       "    <tr>\n",
       "      <th>4</th>\n",
       "      <td>CAE1B</td>\n",
       "      <td>18792.643163</td>\n",
       "      <td>lrelu</td>\n",
       "      <td>36</td>\n",
       "      <td>6</td>\n",
       "      <td>45</td>\n",
       "      <td>7.500000</td>\n",
       "      <td>1.0</td>\n",
       "      <td>/data/home/jfm1118/DA/experiments/CAE_zoo2/5</td>\n",
       "    </tr>\n",
       "    <tr>\n",
       "      <th>5</th>\n",
       "      <td>CAE3</td>\n",
       "      <td>18792.643163</td>\n",
       "      <td>lrelu</td>\n",
       "      <td>36</td>\n",
       "      <td>6</td>\n",
       "      <td>45</td>\n",
       "      <td>7.500000</td>\n",
       "      <td>1.0</td>\n",
       "      <td>/data/home/jfm1118/DA/experiments/CAE_zoo2/25</td>\n",
       "    </tr>\n",
       "    <tr>\n",
       "      <th>7</th>\n",
       "      <td>CAE3</td>\n",
       "      <td>18846.080346</td>\n",
       "      <td>lrelu</td>\n",
       "      <td>72</td>\n",
       "      <td>6</td>\n",
       "      <td>49</td>\n",
       "      <td>8.166667</td>\n",
       "      <td>1.0</td>\n",
       "      <td>/data/home/jfm1118/DA/experiments/CAE_zoo2/24</td>\n",
       "    </tr>\n",
       "    <tr>\n",
       "      <th>9</th>\n",
       "      <td>CAE2</td>\n",
       "      <td>18846.080346</td>\n",
       "      <td>lrelu</td>\n",
       "      <td>72</td>\n",
       "      <td>6</td>\n",
       "      <td>49</td>\n",
       "      <td>8.166667</td>\n",
       "      <td>1.0</td>\n",
       "      <td>/data/home/jfm1118/DA/experiments/CAE_zoo2/28</td>\n",
       "    </tr>\n",
       "    <tr>\n",
       "      <th>11</th>\n",
       "      <td>CAE1</td>\n",
       "      <td>18792.643163</td>\n",
       "      <td>lrelu</td>\n",
       "      <td>36</td>\n",
       "      <td>6</td>\n",
       "      <td>45</td>\n",
       "      <td>7.500000</td>\n",
       "      <td>1.0</td>\n",
       "      <td>/data/home/jfm1118/DA/experiments/CAE_zoo2/33</td>\n",
       "    </tr>\n",
       "  </tbody>\n",
       "</table>\n",
       "</div>"
      ],
      "text/plain": [
       "    model    valid_loss activation latent_dims num_layers total_channels  \\\n",
       "4   CAE1B  18792.643163      lrelu          36          6             45   \n",
       "5    CAE3  18792.643163      lrelu          36          6             45   \n",
       "7    CAE3  18846.080346      lrelu          72          6             49   \n",
       "9    CAE2  18846.080346      lrelu          72          6             49   \n",
       "11   CAE1  18792.643163      lrelu          36          6             45   \n",
       "\n",
       "    channels/layer  conv_changeover  \\\n",
       "4         7.500000              1.0   \n",
       "5         7.500000              1.0   \n",
       "7         8.166667              1.0   \n",
       "9         8.166667              1.0   \n",
       "11        7.500000              1.0   \n",
       "\n",
       "                                             path  \n",
       "4    /data/home/jfm1118/DA/experiments/CAE_zoo2/5  \n",
       "5   /data/home/jfm1118/DA/experiments/CAE_zoo2/25  \n",
       "7   /data/home/jfm1118/DA/experiments/CAE_zoo2/24  \n",
       "9   /data/home/jfm1118/DA/experiments/CAE_zoo2/28  \n",
       "11  /data/home/jfm1118/DA/experiments/CAE_zoo2/33  "
      ]
     },
     "execution_count": 78,
     "metadata": {},
     "output_type": "execute_result"
    }
   ],
   "source": [
    "band1 = df_res[df_res.valid_loss <  20000]\n",
    "band2 = df_res[(df_res.valid_loss >  20000) & (df_res.valid_loss < 23000)]\n",
    "band3 = df_res[(df_res.valid_loss >  23000) & (df_res.valid_loss < 26000)]\n",
    "band1.head()"
   ]
  },
  {
   "cell_type": "code",
   "execution_count": 65,
   "metadata": {
    "scrolled": false
   },
   "outputs": [
    {
     "data": {
      "text/html": [
       "<div>\n",
       "<style scoped>\n",
       "    .dataframe tbody tr th:only-of-type {\n",
       "        vertical-align: middle;\n",
       "    }\n",
       "\n",
       "    .dataframe tbody tr th {\n",
       "        vertical-align: top;\n",
       "    }\n",
       "\n",
       "    .dataframe thead th {\n",
       "        text-align: right;\n",
       "    }\n",
       "</style>\n",
       "<table border=\"1\" class=\"dataframe\">\n",
       "  <thead>\n",
       "    <tr style=\"text-align: right;\">\n",
       "      <th></th>\n",
       "      <th>model</th>\n",
       "      <th>valid_loss</th>\n",
       "      <th>activation</th>\n",
       "      <th>latent_dims</th>\n",
       "      <th>num_layers</th>\n",
       "      <th>total_channels</th>\n",
       "      <th>channels/layer</th>\n",
       "      <th>conv_changeover</th>\n",
       "      <th>path</th>\n",
       "    </tr>\n",
       "  </thead>\n",
       "  <tbody>\n",
       "    <tr>\n",
       "      <th>1</th>\n",
       "      <td>CAE1</td>\n",
       "      <td>24912.661643</td>\n",
       "      <td>relu</td>\n",
       "      <td>54</td>\n",
       "      <td>11</td>\n",
       "      <td>72</td>\n",
       "      <td>6.545455</td>\n",
       "      <td>10.0</td>\n",
       "      <td>/data/home/jfm1118/DA/experiments/CAE_zoo/3</td>\n",
       "    </tr>\n",
       "    <tr>\n",
       "      <th>3</th>\n",
       "      <td>CAE1</td>\n",
       "      <td>24307.036286</td>\n",
       "      <td>lrelu</td>\n",
       "      <td>108</td>\n",
       "      <td>11</td>\n",
       "      <td>78</td>\n",
       "      <td>7.090909</td>\n",
       "      <td>10.0</td>\n",
       "      <td>/data/home/jfm1118/DA/experiments/CAE_zoo/0</td>\n",
       "    </tr>\n",
       "    <tr>\n",
       "      <th>10</th>\n",
       "      <td>CAE3</td>\n",
       "      <td>25226.951578</td>\n",
       "      <td>relu</td>\n",
       "      <td>72</td>\n",
       "      <td>6</td>\n",
       "      <td>49</td>\n",
       "      <td>8.166667</td>\n",
       "      <td>1.0</td>\n",
       "      <td>/data/home/jfm1118/DA/experiments/CAE_zoo2/26</td>\n",
       "    </tr>\n",
       "    <tr>\n",
       "      <th>32</th>\n",
       "      <td>CAE1</td>\n",
       "      <td>24041.000436</td>\n",
       "      <td>relu</td>\n",
       "      <td>72</td>\n",
       "      <td>6</td>\n",
       "      <td>49</td>\n",
       "      <td>8.166667</td>\n",
       "      <td>1.0</td>\n",
       "      <td>/data/home/jfm1118/DA/experiments/CAE_zoo2/34</td>\n",
       "    </tr>\n",
       "  </tbody>\n",
       "</table>\n",
       "</div>"
      ],
      "text/plain": [
       "   model    valid_loss activation latent_dims num_layers total_channels  \\\n",
       "1   CAE1  24912.661643       relu          54         11             72   \n",
       "3   CAE1  24307.036286      lrelu         108         11             78   \n",
       "10  CAE3  25226.951578       relu          72          6             49   \n",
       "32  CAE1  24041.000436       relu          72          6             49   \n",
       "\n",
       "    channels/layer  conv_changeover  \\\n",
       "1         6.545455             10.0   \n",
       "3         7.090909             10.0   \n",
       "10        8.166667              1.0   \n",
       "32        8.166667              1.0   \n",
       "\n",
       "                                             path  \n",
       "1     /data/home/jfm1118/DA/experiments/CAE_zoo/3  \n",
       "3     /data/home/jfm1118/DA/experiments/CAE_zoo/0  \n",
       "10  /data/home/jfm1118/DA/experiments/CAE_zoo2/26  \n",
       "32  /data/home/jfm1118/DA/experiments/CAE_zoo2/34  "
      ]
     },
     "execution_count": 65,
     "metadata": {},
     "output_type": "execute_result"
    }
   ],
   "source": [
    "band3.head()"
   ]
  },
  {
   "cell_type": "code",
   "execution_count": null,
   "metadata": {},
   "outputs": [],
   "source": []
  },
  {
   "cell_type": "markdown",
   "metadata": {},
   "source": [
    "## Investigate Duplicates\n"
   ]
  },
  {
   "cell_type": "code",
   "execution_count": 59,
   "metadata": {
    "scrolled": true
   },
   "outputs": [
    {
     "name": "stdout",
     "output_type": "stream",
     "text": [
      "CAE1\n",
      "ModuleList(\n",
      "  (0): Conv3d(1, 8, kernel_size=(3, 3, 3), stride=(1, 1, 1))\n",
      "  (1): Conv3d(8, 8, kernel_size=(3, 3, 2), stride=(2, 2, 2), padding=(1, 0, 0))\n",
      "  (2): Conv3d(8, 8, kernel_size=(3, 3, 3), stride=(2, 2, 2), padding=(1, 1, 0))\n",
      "  (3): Conv3d(8, 8, kernel_size=(3, 3, 3), stride=(2, 2, 2), padding=(0, 1, 0))\n",
      "  (4): Conv3d(8, 8, kernel_size=(3, 3, 2), stride=(2, 2, 1))\n",
      "  (5): Conv3d(8, 8, kernel_size=(3, 3, 2), stride=(2, 2, 1), padding=(1, 1, 0))\n",
      "  (6): ConvTranspose3d(8, 8, kernel_size=(3, 3, 2), stride=(2, 2, 1), padding=(1, 1, 0))\n",
      "  (7): ConvTranspose3d(8, 8, kernel_size=(3, 3, 2), stride=(2, 2, 1))\n",
      "  (8): ConvTranspose3d(8, 8, kernel_size=(3, 3, 3), stride=(2, 2, 2), padding=(0, 1, 0))\n",
      "  (9): ConvTranspose3d(8, 8, kernel_size=(3, 3, 3), stride=(2, 2, 2), padding=(1, 1, 0))\n",
      "  (10): ConvTranspose3d(8, 8, kernel_size=(3, 3, 2), stride=(2, 2, 2), padding=(1, 0, 0))\n",
      "  (11): ConvTranspose3d(8, 1, kernel_size=(3, 3, 3), stride=(1, 1, 1))\n",
      ")\n",
      "[1, 8, 8, 8, 8, 8, 8]\n",
      "\n",
      "CAE6\n",
      "ModuleList(\n",
      "  (0): Conv3d(1, 8, kernel_size=(3, 3, 3), stride=(1, 1, 1))\n",
      "  (1): Conv3d(8, 8, kernel_size=(3, 3, 2), stride=(2, 2, 2), padding=(1, 0, 0))\n",
      "  (2): Conv3d(8, 8, kernel_size=(3, 3, 3), stride=(2, 2, 2), padding=(1, 1, 0))\n",
      "  (3): Conv3d(8, 8, kernel_size=(3, 3, 3), stride=(2, 2, 2), padding=(0, 1, 0))\n",
      "  (4): Conv3d(8, 8, kernel_size=(3, 3, 2), stride=(2, 2, 1))\n",
      "  (5): Conv3d(8, 8, kernel_size=(3, 3, 2), stride=(2, 2, 1), padding=(1, 1, 0))\n",
      "  (6): ConvTranspose3d(8, 8, kernel_size=(3, 3, 2), stride=(2, 2, 1), padding=(1, 1, 0))\n",
      "  (7): ConvTranspose3d(8, 8, kernel_size=(3, 3, 2), stride=(2, 2, 1))\n",
      "  (8): ConvTranspose3d(8, 8, kernel_size=(3, 3, 3), stride=(2, 2, 2), padding=(0, 1, 0))\n",
      "  (9): ConvTranspose3d(8, 8, kernel_size=(3, 3, 3), stride=(2, 2, 2), padding=(1, 1, 0))\n",
      "  (10): ConvTranspose3d(8, 8, kernel_size=(3, 3, 2), stride=(2, 2, 2), padding=(1, 0, 0))\n",
      "  (11): ConvTranspose3d(8, 1, kernel_size=(3, 3, 3), stride=(1, 1, 1))\n",
      ")\n",
      "[1, 8, 8, 8, 8, 8, 8]\n"
     ]
    }
   ],
   "source": [
    "#eg1: /data/home/jfm1118/DA/experiments/CAE_zoo2/32 and /data/home/jfm1118/DA/experiments/CAE_zoo2/12\n",
    "#eg2: /data/home/jfm1118/DA/experiments/CAE_zoo2/31 and /data/home/jfm1118/DA/experiments/CAE_zoo2/27\n",
    "def get_data_from_path(path):\n",
    "    for res in results:\n",
    "        if res[\"path\"] == path:\n",
    "            return res\n",
    "    else:\n",
    "        raise ValueError(\"No path = {} in 'results' list\".format(path))\n",
    "def print_model(settings):\n",
    "    model = settings.AE_MODEL_TYPE(**settings.get_kwargs())\n",
    "    print(settings.__class__.__name__)\n",
    "    print(model.layers)\n",
    "    print(settings.CHANNELS)\n",
    "    \n",
    "base_exp =  \"/data/home/jfm1118/DA/experiments/CAE_zoo2/\" \n",
    "exp_32 = get_data_from_path(base_exp + \"32\")[\"settings\"]\n",
    "exp_12 = get_data_from_path(base_exp + \"12\")[\"settings\"]\n",
    "\n",
    "print_model(exp_32)\n",
    "print()\n",
    "print_model(exp_12)\n"
   ]
  },
  {
   "cell_type": "code",
   "execution_count": 60,
   "metadata": {},
   "outputs": [
    {
     "name": "stdout",
     "output_type": "stream",
     "text": [
      "CAE2\n",
      "ModuleList(\n",
      "  (0): Conv3d(1, 8, kernel_size=(3, 3, 3), stride=(1, 1, 1))\n",
      "  (1): Conv3d(8, 8, kernel_size=(3, 3, 2), stride=(2, 2, 2), padding=(1, 0, 0))\n",
      "  (2): Conv3d(8, 8, kernel_size=(3, 3, 3), stride=(2, 2, 2), padding=(1, 1, 0))\n",
      "  (3): Conv3d(8, 8, kernel_size=(3, 3, 3), stride=(2, 2, 2), padding=(0, 1, 0))\n",
      "  (4): Conv3d(8, 8, kernel_size=(3, 3, 2), stride=(2, 2, 1))\n",
      "  (5): Conv3d(8, 4, kernel_size=(3, 3, 2), stride=(2, 2, 1), padding=(1, 1, 0))\n",
      "  (6): ConvTranspose3d(4, 8, kernel_size=(3, 3, 2), stride=(2, 2, 1), padding=(1, 1, 0))\n",
      "  (7): ConvTranspose3d(8, 8, kernel_size=(3, 3, 2), stride=(2, 2, 1))\n",
      "  (8): ConvTranspose3d(8, 8, kernel_size=(3, 3, 3), stride=(2, 2, 2), padding=(0, 1, 0))\n",
      "  (9): ConvTranspose3d(8, 8, kernel_size=(3, 3, 3), stride=(2, 2, 2), padding=(1, 1, 0))\n",
      "  (10): ConvTranspose3d(8, 8, kernel_size=(3, 3, 2), stride=(2, 2, 2), padding=(1, 0, 0))\n",
      "  (11): ConvTranspose3d(8, 1, kernel_size=(3, 3, 3), stride=(1, 1, 1))\n",
      ")\n",
      "[1, 8, 8, 8, 8, 8, 4]\n",
      "\n",
      "CAE3\n",
      "ModuleList(\n",
      "  (0): Conv3d(1, 8, kernel_size=(3, 3, 3), stride=(1, 1, 1))\n",
      "  (1): Conv3d(8, 8, kernel_size=(3, 3, 2), stride=(2, 2, 2), padding=(1, 0, 0))\n",
      "  (2): Conv3d(8, 8, kernel_size=(3, 3, 3), stride=(2, 2, 2), padding=(1, 1, 0))\n",
      "  (3): Conv3d(8, 8, kernel_size=(3, 3, 3), stride=(2, 2, 2), padding=(0, 1, 0))\n",
      "  (4): Conv3d(8, 8, kernel_size=(3, 3, 2), stride=(2, 2, 1))\n",
      "  (5): Conv3d(8, 4, kernel_size=(3, 3, 2), stride=(2, 2, 1), padding=(1, 1, 0))\n",
      "  (6): ConvTranspose3d(4, 8, kernel_size=(3, 3, 2), stride=(2, 2, 1), padding=(1, 1, 0))\n",
      "  (7): ConvTranspose3d(8, 8, kernel_size=(3, 3, 2), stride=(2, 2, 1))\n",
      "  (8): ConvTranspose3d(8, 8, kernel_size=(3, 3, 3), stride=(2, 2, 2), padding=(0, 1, 0))\n",
      "  (9): ConvTranspose3d(8, 8, kernel_size=(3, 3, 3), stride=(2, 2, 2), padding=(1, 1, 0))\n",
      "  (10): ConvTranspose3d(8, 8, kernel_size=(3, 3, 2), stride=(2, 2, 2), padding=(1, 0, 0))\n",
      "  (11): ConvTranspose3d(8, 1, kernel_size=(3, 3, 3), stride=(1, 1, 1))\n",
      ")\n",
      "[1, 8, 8, 8, 8, 8, 4]\n",
      "[1, 3, 5, 7, 9, 11, 13]\n"
     ]
    }
   ],
   "source": [
    "base_exp =  \"/data/home/jfm1118/DA/experiments/CAE_zoo2/\" \n",
    "exp_1 = get_data_from_path(base_exp + \"31\")[\"settings\"]\n",
    "exp_2 = get_data_from_path(base_exp + \"27\")[\"settings\"]\n",
    "\n",
    "print_model(exp_1)\n",
    "print()\n",
    "print_model(exp_2)\n",
    "print(list(range(1, 2*(exp_1.get_num_layers_decode() + 1) + 1, 2)))"
   ]
  },
  {
   "cell_type": "markdown",
   "metadata": {},
   "source": [
    "## Investigate Best"
   ]
  },
  {
   "cell_type": "code",
   "execution_count": 87,
   "metadata": {},
   "outputs": [
    {
     "name": "stdout",
     "output_type": "stream",
     "text": [
      "CAE2\n",
      "ModuleList(\n",
      "  (0): Conv3d(1, 8, kernel_size=(3, 3, 3), stride=(1, 1, 1))\n",
      "  (1): Conv3d(8, 8, kernel_size=(3, 3, 2), stride=(2, 2, 2), padding=(1, 0, 0))\n",
      "  (2): Conv3d(8, 8, kernel_size=(3, 3, 3), stride=(2, 2, 2), padding=(1, 1, 0))\n",
      "  (3): Conv3d(8, 8, kernel_size=(3, 3, 3), stride=(2, 2, 2), padding=(0, 1, 0))\n",
      "  (4): Conv3d(8, 8, kernel_size=(3, 3, 2), stride=(2, 2, 1))\n",
      "  (5): Conv3d(8, 4, kernel_size=(3, 3, 2), stride=(2, 2, 1), padding=(1, 1, 0))\n",
      "  (6): ConvTranspose3d(4, 8, kernel_size=(3, 3, 2), stride=(2, 2, 1), padding=(1, 1, 0))\n",
      "  (7): ConvTranspose3d(8, 8, kernel_size=(3, 3, 2), stride=(2, 2, 1))\n",
      "  (8): ConvTranspose3d(8, 8, kernel_size=(3, 3, 3), stride=(2, 2, 2), padding=(0, 1, 0))\n",
      "  (9): ConvTranspose3d(8, 8, kernel_size=(3, 3, 3), stride=(2, 2, 2), padding=(1, 1, 0))\n",
      "  (10): ConvTranspose3d(8, 8, kernel_size=(3, 3, 2), stride=(2, 2, 2), padding=(1, 0, 0))\n",
      "  (11): ConvTranspose3d(8, 1, kernel_size=(3, 3, 3), stride=(1, 1, 1))\n",
      ")\n",
      "[1, 8, 8, 8, 8, 8, 4]\n"
     ]
    }
   ],
   "source": [
    "path = \"/data/home/jfm1118/DA/experiments/CAE_zoo2/17\"\n",
    "exp = get_data_from_path(base_exp + str(17))[\"settings\"]\n",
    "\n",
    "print_model(exp_1)"
   ]
  },
  {
   "cell_type": "code",
   "execution_count": null,
   "metadata": {},
   "outputs": [],
   "source": []
  }
 ],
 "metadata": {
  "kernelspec": {
   "display_name": "Python 3",
   "language": "python",
   "name": "python3"
  },
  "language_info": {
   "codemirror_mode": {
    "name": "ipython",
    "version": 3
   },
   "file_extension": ".py",
   "mimetype": "text/x-python",
   "name": "python",
   "nbconvert_exporter": "python",
   "pygments_lexer": "ipython3",
   "version": "3.6.7"
  },
  "toc": {
   "base_numbering": 1,
   "nav_menu": {},
   "number_sections": true,
   "sideBar": true,
   "skip_h1_title": false,
   "title_cell": "Table of Contents",
   "title_sidebar": "Contents",
   "toc_cell": true,
   "toc_position": {},
   "toc_section_display": true,
   "toc_window_display": true
  }
 },
 "nbformat": 4,
 "nbformat_minor": 2
}
