{
 "cells": [
  {
   "cell_type": "markdown",
   "metadata": {
    "toc": true
   },
   "source": [
    "<h1>Table of Contents<span class=\"tocSkip\"></span></h1>\n",
    "<div class=\"toc\"><ul class=\"toc-item\"><li><span><a href=\"#Plot-Validation-and-Train-loss\" data-toc-modified-id=\"Plot-Validation-and-Train-loss-1\"><span class=\"toc-item-num\">1&nbsp;&nbsp;</span>Plot Validation and Train loss</a></span></li><li><span><a href=\"#Extract-relevant-Data-to-df\" data-toc-modified-id=\"Extract-relevant-Data-to-df-2\"><span class=\"toc-item-num\">2&nbsp;&nbsp;</span>Extract relevant Data to df</a></span><ul class=\"toc-item\"><li><span><a href=\"#Get-best-result\" data-toc-modified-id=\"Get-best-result-2.1\"><span class=\"toc-item-num\">2.1&nbsp;&nbsp;</span>Get best result</a></span></li><li><span><a href=\"#Consider-Outliers\" data-toc-modified-id=\"Consider-Outliers-2.2\"><span class=\"toc-item-num\">2.2&nbsp;&nbsp;</span>Consider Outliers</a></span></li></ul></li><li><span><a href=\"#Results-by-model\" data-toc-modified-id=\"Results-by-model-3\"><span class=\"toc-item-num\">3&nbsp;&nbsp;</span>Results by model</a></span><ul class=\"toc-item\"><li><span><a href=\"#Remove-Duplicates\" data-toc-modified-id=\"Remove-Duplicates-3.1\"><span class=\"toc-item-num\">3.1&nbsp;&nbsp;</span>Remove Duplicates</a></span></li></ul></li><li><span><a href=\"#Each-variable-plotted-against-loss:\" data-toc-modified-id=\"Each-variable-plotted-against-loss:-4\"><span class=\"toc-item-num\">4&nbsp;&nbsp;</span>Each variable plotted against loss:</a></span></li><li><span><a href=\"#Investigate-&quot;band&quot;-in-loss-model-plot\" data-toc-modified-id=\"Investigate-&quot;band&quot;-in-loss-model-plot-5\"><span class=\"toc-item-num\">5&nbsp;&nbsp;</span>Investigate \"band\" in loss-model plot</a></span><ul class=\"toc-item\"><li><span><a href=\"#Extract-the-different-bands-and-inpsect\" data-toc-modified-id=\"Extract-the-different-bands-and-inpsect-5.1\"><span class=\"toc-item-num\">5.1&nbsp;&nbsp;</span>Extract the different bands and inpsect</a></span></li></ul></li><li><span><a href=\"#Investigate-Duplicates\" data-toc-modified-id=\"Investigate-Duplicates-6\"><span class=\"toc-item-num\">6&nbsp;&nbsp;</span>Investigate Duplicates</a></span></li><li><span><a href=\"#Investigate-Best\" data-toc-modified-id=\"Investigate-Best-7\"><span class=\"toc-item-num\">7&nbsp;&nbsp;</span>Investigate Best</a></span></li></ul></div>"
   ]
  },
  {
   "cell_type": "code",
   "execution_count": 16,
   "metadata": {},
   "outputs": [
    {
     "name": "stdout",
     "output_type": "stream",
     "text": [
      "The autoreload extension is already loaded. To reload it, use:\n",
      "  %reload_ext autoreload\n"
     ]
    }
   ],
   "source": [
    "%load_ext autoreload\n",
    "%autoreload 2"
   ]
  },
  {
   "cell_type": "code",
   "execution_count": 14,
   "metadata": {},
   "outputs": [
    {
     "name": "stdout",
     "output_type": "stream",
     "text": [
      "/data/home/jfm1118/DA\n"
     ]
    }
   ],
   "source": [
    "%cd DA"
   ]
  },
  {
   "cell_type": "code",
   "execution_count": 86,
   "metadata": {},
   "outputs": [],
   "source": [
    "import os\n",
    "import sys\n",
    "import utils\n",
    "from matplotlib import pyplot as plt\n",
    "%matplotlib inline\n",
    "\n",
    "#import pipeline\n",
    "parent_dir = os.path.abspath(os.path.join(os.getcwd(), os.pardir))\n",
    "sys.path.append(parent_dir) #to import pipeline\n",
    "import pipeline\n",
    "import utils\n",
    "\n"
   ]
  },
  {
   "cell_type": "code",
   "execution_count": null,
   "metadata": {},
   "outputs": [],
   "source": []
  },
  {
   "cell_type": "markdown",
   "metadata": {},
   "source": [
    "## Plot Validation and Train loss"
   ]
  },
  {
   "cell_type": "code",
   "execution_count": 87,
   "metadata": {
    "scrolled": false
   },
   "outputs": [
    {
     "name": "stdout",
     "output_type": "stream",
     "text": [
      "kwargs {'activation_constructor': <function NNBuilder.act_constr.<locals>.<lambda> at 0x7f35ae721c80>, 'dense_layers': 3, 'Cin': 32, 'Csmall': 64, 'encode': True, 'Block': <class 'pipeline.nn.res.ResNextBlock'>, 'growth_rate': 16}\n",
      "<class 'pipeline.nn.densenet._DenseBlock'>\n"
     ]
    },
    {
     "ename": "TypeError",
     "evalue": "super(type, obj): obj must be an instance or subtype of type",
     "output_type": "error",
     "traceback": [
      "\u001b[0;31m---------------------------------------------------------------------------\u001b[0m",
      "\u001b[0;31mTypeError\u001b[0m                                 Traceback (most recent call last)",
      "\u001b[0;32m<ipython-input-87-57f357725315>\u001b[0m in \u001b[0;36m<module>\u001b[0;34m()\u001b[0m\n\u001b[1;32m      8\u001b[0m \u001b[0mylim2\u001b[0m \u001b[0;34m=\u001b[0m \u001b[0;34m(\u001b[0m\u001b[0;36m60\u001b[0m\u001b[0;34m,\u001b[0m\u001b[0;36m100\u001b[0m\u001b[0;34m)\u001b[0m\u001b[0;34m\u001b[0m\u001b[0m\n\u001b[1;32m      9\u001b[0m \u001b[0;34m\u001b[0m\u001b[0m\n\u001b[0;32m---> 10\u001b[0;31m \u001b[0mresults\u001b[0m \u001b[0;34m=\u001b[0m \u001b[0mutils\u001b[0m\u001b[0;34m.\u001b[0m\u001b[0mextract_res_from_files\u001b[0m\u001b[0;34m(\u001b[0m\u001b[0mexp_dirs\u001b[0m\u001b[0;34m)\u001b[0m\u001b[0;34m\u001b[0m\u001b[0m\n\u001b[0m\u001b[1;32m     11\u001b[0m \u001b[0mutils\u001b[0m\u001b[0;34m.\u001b[0m\u001b[0mplot_results_loss_epochs\u001b[0m\u001b[0;34m(\u001b[0m\u001b[0mresults\u001b[0m\u001b[0;34m,\u001b[0m \u001b[0mylim1\u001b[0m\u001b[0;34m=\u001b[0m\u001b[0mylim\u001b[0m\u001b[0;34m,\u001b[0m \u001b[0mylim2\u001b[0m\u001b[0;34m=\u001b[0m\u001b[0mylim2\u001b[0m\u001b[0;34m)\u001b[0m\u001b[0;34m\u001b[0m\u001b[0m\n",
      "\u001b[0;32m/data/home/jfm1118/DA/notebooks/utils.py\u001b[0m in \u001b[0;36mextract_res_from_files\u001b[0;34m(exp_dir_base)\u001b[0m\n\u001b[1;32m     90\u001b[0m                 \u001b[0mtest_DA_df\u001b[0m \u001b[0;34m=\u001b[0m \u001b[0mget_DA_info\u001b[0m\u001b[0;34m(\u001b[0m\u001b[0mpath\u001b[0m\u001b[0;34m)\u001b[0m\u001b[0;34m\u001b[0m\u001b[0m\n\u001b[1;32m     91\u001b[0m \u001b[0;34m\u001b[0m\u001b[0m\n\u001b[0;32m---> 92\u001b[0;31m                 \u001b[0mmodel_data\u001b[0m \u001b[0;34m=\u001b[0m \u001b[0mget_model_specific_data\u001b[0m\u001b[0;34m(\u001b[0m\u001b[0msettings\u001b[0m\u001b[0;34m,\u001b[0m \u001b[0mpath\u001b[0m\u001b[0;34m)\u001b[0m\u001b[0;34m\u001b[0m\u001b[0m\n\u001b[0m\u001b[1;32m     93\u001b[0m \u001b[0;34m\u001b[0m\u001b[0m\n\u001b[1;32m     94\u001b[0m                 \u001b[0mDA_data\u001b[0m\u001b[0;34m,\u001b[0m \u001b[0mmean_DF\u001b[0m\u001b[0;34m,\u001b[0m \u001b[0mlast_df\u001b[0m \u001b[0;34m=\u001b[0m \u001b[0mget_DA_info\u001b[0m\u001b[0;34m(\u001b[0m\u001b[0mpath\u001b[0m\u001b[0;34m)\u001b[0m\u001b[0;34m\u001b[0m\u001b[0m\n",
      "\u001b[0;32m/data/home/jfm1118/DA/notebooks/utils.py\u001b[0m in \u001b[0;36mget_model_specific_data\u001b[0;34m(settings, path)\u001b[0m\n\u001b[1;32m    326\u001b[0m \u001b[0;34m\u001b[0m\u001b[0m\n\u001b[1;32m    327\u001b[0m     \u001b[0;32mif\u001b[0m \u001b[0mcls_name\u001b[0m \u001b[0;32min\u001b[0m \u001b[0;34m[\u001b[0m\u001b[0;34m\"ResStack3\"\u001b[0m\u001b[0;34m,\u001b[0m \u001b[0;34m\"ResNeXt\"\u001b[0m\u001b[0;34m]\u001b[0m \u001b[0;32mand\u001b[0m \u001b[0mparams\u001b[0m\u001b[0;34m.\u001b[0m\u001b[0mget\u001b[0m\u001b[0;34m(\u001b[0m\u001b[0;34m\"attenuation\"\u001b[0m\u001b[0;34m)\u001b[0m \u001b[0;32min\u001b[0m \u001b[0;34m[\u001b[0m\u001b[0;32mNone\u001b[0m\u001b[0;34m,\u001b[0m \u001b[0;32mTrue\u001b[0m\u001b[0;34m]\u001b[0m\u001b[0;34m:\u001b[0m\u001b[0;34m\u001b[0m\u001b[0m\n\u001b[0;32m--> 328\u001b[0;31m         \u001b[0mencode_att\u001b[0m\u001b[0;34m,\u001b[0m \u001b[0mdecode_att\u001b[0m \u001b[0;34m=\u001b[0m \u001b[0mget_attenuation_from_dir\u001b[0m\u001b[0;34m(\u001b[0m\u001b[0mpath\u001b[0m\u001b[0;34m)\u001b[0m\u001b[0;34m\u001b[0m\u001b[0m\n\u001b[0m\u001b[1;32m    329\u001b[0m         \u001b[0;32mif\u001b[0m \u001b[0mencode_att\u001b[0m\u001b[0;34m:\u001b[0m\u001b[0;34m\u001b[0m\u001b[0m\n\u001b[1;32m    330\u001b[0m             \u001b[0mresults\u001b[0m\u001b[0;34m[\u001b[0m\u001b[0;34m\"enc\"\u001b[0m\u001b[0;34m]\u001b[0m\u001b[0;34m,\u001b[0m \u001b[0mresults\u001b[0m\u001b[0;34m[\u001b[0m\u001b[0;34m\"dec\"\u001b[0m\u001b[0;34m]\u001b[0m \u001b[0;34m=\u001b[0m \u001b[0mencode_att\u001b[0m\u001b[0;34m,\u001b[0m \u001b[0mdecode_att\u001b[0m\u001b[0;34m\u001b[0m\u001b[0m\n",
      "\u001b[0;32m/data/home/jfm1118/DA/notebooks/utils.py\u001b[0m in \u001b[0;36mget_attenuation_from_dir\u001b[0;34m(dir)\u001b[0m\n\u001b[1;32m    288\u001b[0m \u001b[0;34m\u001b[0m\u001b[0m\n\u001b[1;32m    289\u001b[0m \u001b[0;32mdef\u001b[0m \u001b[0mget_attenuation_from_dir\u001b[0m\u001b[0;34m(\u001b[0m\u001b[0mdir\u001b[0m\u001b[0;34m)\u001b[0m\u001b[0;34m:\u001b[0m\u001b[0;34m\u001b[0m\u001b[0m\n\u001b[0;32m--> 290\u001b[0;31m     \u001b[0mmodel\u001b[0m\u001b[0;34m,\u001b[0m \u001b[0msettings\u001b[0m \u001b[0;34m=\u001b[0m \u001b[0mML_utils\u001b[0m\u001b[0;34m.\u001b[0m\u001b[0mload_model_and_settings_from_dir\u001b[0m\u001b[0;34m(\u001b[0m\u001b[0mdir\u001b[0m\u001b[0;34m)\u001b[0m\u001b[0;34m\u001b[0m\u001b[0m\n\u001b[0m\u001b[1;32m    291\u001b[0m     \u001b[0mencode\u001b[0m\u001b[0;34m,\u001b[0m \u001b[0mdecode\u001b[0m \u001b[0;34m=\u001b[0m \u001b[0;32mNone\u001b[0m\u001b[0;34m,\u001b[0m \u001b[0;32mNone\u001b[0m\u001b[0;34m\u001b[0m\u001b[0m\n\u001b[1;32m    292\u001b[0m     \u001b[0;32mfor\u001b[0m \u001b[0mk\u001b[0m\u001b[0;34m,\u001b[0m \u001b[0mv\u001b[0m \u001b[0;32min\u001b[0m \u001b[0mmodel\u001b[0m\u001b[0;34m.\u001b[0m\u001b[0mnamed_parameters\u001b[0m\u001b[0;34m(\u001b[0m\u001b[0;34m)\u001b[0m\u001b[0;34m:\u001b[0m\u001b[0;34m\u001b[0m\u001b[0m\n",
      "\u001b[0;32m/data/home/jfm1118/DA/pipeline/ML_utils/helpers.py\u001b[0m in \u001b[0;36mload_model_and_settings_from_dir\u001b[0;34m(dir)\u001b[0m\n\u001b[1;32m     79\u001b[0m     \u001b[0msettings\u001b[0m\u001b[0;34m.\u001b[0m\u001b[0mexport_env_vars\u001b[0m\u001b[0;34m(\u001b[0m\u001b[0;34m)\u001b[0m\u001b[0;34m\u001b[0m\u001b[0m\n\u001b[1;32m     80\u001b[0m     \u001b[0msettings\u001b[0m\u001b[0;34m.\u001b[0m\u001b[0mAE_MODEL_FP\u001b[0m \u001b[0;34m=\u001b[0m \u001b[0mbest_fp\u001b[0m\u001b[0;34m\u001b[0m\u001b[0m\n\u001b[0;32m---> 81\u001b[0;31m     \u001b[0mmodel\u001b[0m \u001b[0;34m=\u001b[0m \u001b[0mload_model_from_settings\u001b[0m\u001b[0;34m(\u001b[0m\u001b[0msettings\u001b[0m\u001b[0;34m)\u001b[0m\u001b[0;34m\u001b[0m\u001b[0m\n\u001b[0m\u001b[1;32m     82\u001b[0m \u001b[0;34m\u001b[0m\u001b[0m\n\u001b[1;32m     83\u001b[0m     \u001b[0;32mreturn\u001b[0m \u001b[0mmodel\u001b[0m\u001b[0;34m,\u001b[0m \u001b[0msettings\u001b[0m\u001b[0;34m\u001b[0m\u001b[0m\n",
      "\u001b[0;32m/data/home/jfm1118/DA/pipeline/ML_utils/helpers.py\u001b[0m in \u001b[0;36mload_model_from_settings\u001b[0;34m(settings, device)\u001b[0m\n\u001b[1;32m     43\u001b[0m     \u001b[0mset_seeds\u001b[0m\u001b[0;34m(\u001b[0m\u001b[0;34m)\u001b[0m\u001b[0;34m\u001b[0m\u001b[0m\n\u001b[1;32m     44\u001b[0m \u001b[0;34m\u001b[0m\u001b[0m\n\u001b[0;32m---> 45\u001b[0;31m     \u001b[0mmodel\u001b[0m \u001b[0;34m=\u001b[0m \u001b[0msettings\u001b[0m\u001b[0;34m.\u001b[0m\u001b[0mAE_MODEL_TYPE\u001b[0m\u001b[0;34m(\u001b[0m\u001b[0;34m**\u001b[0m\u001b[0msettings\u001b[0m\u001b[0;34m.\u001b[0m\u001b[0mget_kwargs\u001b[0m\u001b[0;34m(\u001b[0m\u001b[0;34m)\u001b[0m\u001b[0;34m)\u001b[0m\u001b[0;34m\u001b[0m\u001b[0m\n\u001b[0m\u001b[1;32m     46\u001b[0m     \u001b[0;32mif\u001b[0m \u001b[0mhasattr\u001b[0m\u001b[0;34m(\u001b[0m\u001b[0msettings\u001b[0m\u001b[0;34m,\u001b[0m \u001b[0;34m\"AE_MODEL_FP\"\u001b[0m\u001b[0;34m)\u001b[0m\u001b[0;34m:\u001b[0m\u001b[0;34m\u001b[0m\u001b[0m\n\u001b[1;32m     47\u001b[0m \u001b[0;34m\u001b[0m\u001b[0m\n",
      "\u001b[0;32m/data/home/jfm1118/DA/pipeline/AEs/AE_general.py\u001b[0m in \u001b[0;36m__init__\u001b[0;34m(self, blocks, activation, latent_sz, rem_final)\u001b[0m\n\u001b[1;32m     50\u001b[0m         \u001b[0mself\u001b[0m\u001b[0;34m.\u001b[0m\u001b[0m__init_activation\u001b[0m\u001b[0;34m(\u001b[0m\u001b[0mactivation\u001b[0m\u001b[0;34m)\u001b[0m\u001b[0;34m\u001b[0m\u001b[0m\n\u001b[1;32m     51\u001b[0m \u001b[0;34m\u001b[0m\u001b[0m\n\u001b[0;32m---> 52\u001b[0;31m         \u001b[0mself\u001b[0m\u001b[0;34m.\u001b[0m\u001b[0mlayers_encode\u001b[0m \u001b[0;34m=\u001b[0m \u001b[0mself\u001b[0m\u001b[0;34m.\u001b[0m\u001b[0mparse_blocks\u001b[0m\u001b[0;34m(\u001b[0m\u001b[0mblocks\u001b[0m\u001b[0;34m,\u001b[0m \u001b[0mencode\u001b[0m\u001b[0;34m=\u001b[0m\u001b[0;32mTrue\u001b[0m\u001b[0;34m)\u001b[0m\u001b[0;34m\u001b[0m\u001b[0m\n\u001b[0m\u001b[1;32m     53\u001b[0m \u001b[0;34m\u001b[0m\u001b[0m\n\u001b[1;32m     54\u001b[0m         \u001b[0mself\u001b[0m\u001b[0;34m.\u001b[0m\u001b[0mlayers_encode\u001b[0m \u001b[0;34m=\u001b[0m \u001b[0mself\u001b[0m\u001b[0;34m.\u001b[0m\u001b[0mremove_final_activation\u001b[0m\u001b[0;34m(\u001b[0m\u001b[0mself\u001b[0m\u001b[0;34m.\u001b[0m\u001b[0mlayers_encode\u001b[0m\u001b[0;34m,\u001b[0m \u001b[0mrem_final\u001b[0m\u001b[0;34m)\u001b[0m\u001b[0;34m\u001b[0m\u001b[0m\n",
      "\u001b[0;32m/data/home/jfm1118/DA/pipeline/AEs/AE_general.py\u001b[0m in \u001b[0;36mparse_blocks\u001b[0;34m(self, blocks, encode, kwargs_ls)\u001b[0m\n\u001b[1;32m     96\u001b[0m                 \u001b[0;32mfor\u001b[0m \u001b[0mi\u001b[0m \u001b[0;32min\u001b[0m \u001b[0mrange\u001b[0m\u001b[0;34m(\u001b[0m\u001b[0mnum\u001b[0m\u001b[0;34m)\u001b[0m\u001b[0;34m:\u001b[0m\u001b[0;34m\u001b[0m\u001b[0m\n\u001b[1;32m     97\u001b[0m                     \u001b[0;32mif\u001b[0m \u001b[0mkwargs_ls\u001b[0m\u001b[0;34m:\u001b[0m\u001b[0;34m\u001b[0m\u001b[0m\n\u001b[0;32m---> 98\u001b[0;31m                         \u001b[0mlayers_lower\u001b[0m \u001b[0;34m=\u001b[0m \u001b[0mself\u001b[0m\u001b[0;34m.\u001b[0m\u001b[0mparse_blocks\u001b[0m\u001b[0;34m(\u001b[0m\u001b[0mblocks_\u001b[0m\u001b[0;34m,\u001b[0m \u001b[0mencode\u001b[0m\u001b[0;34m,\u001b[0m \u001b[0mkwargs_ls\u001b[0m\u001b[0;34m[\u001b[0m\u001b[0mi\u001b[0m\u001b[0;34m]\u001b[0m\u001b[0;34m)\u001b[0m \u001b[0;31m#nn.module\u001b[0m\u001b[0;34m\u001b[0m\u001b[0m\n\u001b[0m\u001b[1;32m     99\u001b[0m                     \u001b[0;32melse\u001b[0m\u001b[0;34m:\u001b[0m\u001b[0;34m\u001b[0m\u001b[0m\n\u001b[1;32m    100\u001b[0m                         \u001b[0mlayers_lower\u001b[0m \u001b[0;34m=\u001b[0m \u001b[0mself\u001b[0m\u001b[0;34m.\u001b[0m\u001b[0mparse_blocks\u001b[0m\u001b[0;34m(\u001b[0m\u001b[0mblocks_\u001b[0m\u001b[0;34m,\u001b[0m \u001b[0mencode\u001b[0m\u001b[0;34m)\u001b[0m\u001b[0;34m\u001b[0m\u001b[0m\n",
      "\u001b[0;32m/data/home/jfm1118/DA/pipeline/AEs/AE_general.py\u001b[0m in \u001b[0;36mparse_blocks\u001b[0;34m(self, blocks, encode, kwargs_ls)\u001b[0m\n\u001b[1;32m     63\u001b[0m     \u001b[0;32mdef\u001b[0m \u001b[0mparse_blocks\u001b[0m\u001b[0;34m(\u001b[0m\u001b[0mself\u001b[0m\u001b[0;34m,\u001b[0m \u001b[0mblocks\u001b[0m\u001b[0;34m,\u001b[0m \u001b[0mencode\u001b[0m\u001b[0;34m,\u001b[0m \u001b[0mkwargs_ls\u001b[0m\u001b[0;34m=\u001b[0m\u001b[0;32mNone\u001b[0m\u001b[0;34m)\u001b[0m\u001b[0;34m:\u001b[0m\u001b[0;34m\u001b[0m\u001b[0m\n\u001b[1;32m     64\u001b[0m         \u001b[0;32mif\u001b[0m \u001b[0misinstance\u001b[0m\u001b[0;34m(\u001b[0m\u001b[0mblocks\u001b[0m\u001b[0;34m,\u001b[0m \u001b[0mstr\u001b[0m\u001b[0;34m)\u001b[0m\u001b[0;34m:\u001b[0m\u001b[0;34m\u001b[0m\u001b[0m\n\u001b[0;32m---> 65\u001b[0;31m             \u001b[0;32mreturn\u001b[0m \u001b[0mself\u001b[0m\u001b[0;34m.\u001b[0m\u001b[0mparse_blocks_str\u001b[0m\u001b[0;34m(\u001b[0m\u001b[0mblocks\u001b[0m\u001b[0;34m,\u001b[0m \u001b[0mencode\u001b[0m\u001b[0;34m,\u001b[0m \u001b[0mkwargs_ls\u001b[0m\u001b[0;34m)\u001b[0m\u001b[0;34m\u001b[0m\u001b[0m\n\u001b[0m\u001b[1;32m     66\u001b[0m         \u001b[0;32melif\u001b[0m \u001b[0misinstance\u001b[0m\u001b[0;34m(\u001b[0m\u001b[0mblocks\u001b[0m\u001b[0;34m,\u001b[0m \u001b[0mlist\u001b[0m\u001b[0;34m)\u001b[0m\u001b[0;34m:\u001b[0m\u001b[0;34m\u001b[0m\u001b[0m\n\u001b[1;32m     67\u001b[0m             \u001b[0;32massert\u001b[0m \u001b[0mlen\u001b[0m\u001b[0;34m(\u001b[0m\u001b[0mblocks\u001b[0m\u001b[0;34m)\u001b[0m \u001b[0;34m>\u001b[0m \u001b[0;36m1\u001b[0m\u001b[0;34m,\u001b[0m \u001b[0;34m\"blocks must be list of structure [<MODE>, block_1, ...]\"\u001b[0m\u001b[0;34m\u001b[0m\u001b[0m\n",
      "\u001b[0;32m/data/home/jfm1118/DA/pipeline/AEs/AE_general.py\u001b[0m in \u001b[0;36mparse_blocks_str\u001b[0;34m(self, block, encode, layer_kwargs)\u001b[0m\n\u001b[1;32m    143\u001b[0m             \u001b[0;32mreturn\u001b[0m \u001b[0mBuild\u001b[0m\u001b[0;34m.\u001b[0m\u001b[0mResNeXt3\u001b[0m\u001b[0;34m(\u001b[0m\u001b[0mactivation_fn\u001b[0m \u001b[0;34m=\u001b[0m \u001b[0mself\u001b[0m\u001b[0;34m.\u001b[0m\u001b[0mactivation\u001b[0m\u001b[0;34m,\u001b[0m \u001b[0;34m**\u001b[0m\u001b[0mlayer_kwargs\u001b[0m\u001b[0;34m)\u001b[0m\u001b[0;34m\u001b[0m\u001b[0m\n\u001b[1;32m    144\u001b[0m         \u001b[0;32melif\u001b[0m \u001b[0mblock\u001b[0m \u001b[0;34m==\u001b[0m \u001b[0;34m\"RDB3\"\u001b[0m\u001b[0;34m:\u001b[0m\u001b[0;34m\u001b[0m\u001b[0m\n\u001b[0;32m--> 145\u001b[0;31m             \u001b[0;32mreturn\u001b[0m \u001b[0mBuild\u001b[0m\u001b[0;34m.\u001b[0m\u001b[0mResNeXtRDB3\u001b[0m\u001b[0;34m(\u001b[0m\u001b[0mactivation_fn\u001b[0m \u001b[0;34m=\u001b[0m \u001b[0mself\u001b[0m\u001b[0;34m.\u001b[0m\u001b[0mactivation\u001b[0m\u001b[0;34m,\u001b[0m \u001b[0;34m**\u001b[0m\u001b[0mlayer_kwargs\u001b[0m\u001b[0;34m)\u001b[0m\u001b[0;34m\u001b[0m\u001b[0m\n\u001b[0m\u001b[1;32m    146\u001b[0m         \u001b[0;32melif\u001b[0m \u001b[0mblock\u001b[0m \u001b[0;34m==\u001b[0m \u001b[0;34m\"Bespoke\"\u001b[0m\u001b[0;34m:\u001b[0m\u001b[0;34m\u001b[0m\u001b[0m\n\u001b[1;32m    147\u001b[0m             \u001b[0;32mreturn\u001b[0m \u001b[0mBuild\u001b[0m\u001b[0;34m.\u001b[0m\u001b[0mResBespoke\u001b[0m\u001b[0;34m(\u001b[0m\u001b[0mactivation_fn\u001b[0m \u001b[0;34m=\u001b[0m \u001b[0mself\u001b[0m\u001b[0;34m.\u001b[0m\u001b[0mactivation\u001b[0m\u001b[0;34m,\u001b[0m \u001b[0;34m**\u001b[0m\u001b[0mlayer_kwargs\u001b[0m\u001b[0;34m)\u001b[0m\u001b[0;34m\u001b[0m\u001b[0m\n",
      "\u001b[0;32m/data/home/jfm1118/DA/pipeline/nn/builder.py\u001b[0m in \u001b[0;36mResNeXtRDB3\u001b[0;34m(encode, activation_fn, C, N, L, B, CS, k, SB, A, S, final)\u001b[0m\n\u001b[1;32m    108\u001b[0m         module = res_stacked.resOver(encode, act_fn_constructor, C, N,\n\u001b[1;32m    109\u001b[0m                             \u001b[0mresOver_layers\u001b[0m\u001b[0;34m,\u001b[0m \u001b[0mblock\u001b[0m\u001b[0;34m,\u001b[0m \u001b[0mk\u001b[0m\u001b[0;34m,\u001b[0m \u001b[0mCS\u001b[0m\u001b[0;34m,\u001b[0m\u001b[0;34m\u001b[0m\u001b[0m\n\u001b[0;32m--> 110\u001b[0;31m                             res_stacked.RBD3)\n\u001b[0m\u001b[1;32m    111\u001b[0m         \u001b[0;32mreturn\u001b[0m \u001b[0mmodule\u001b[0m\u001b[0;34m\u001b[0m\u001b[0m\n\u001b[1;32m    112\u001b[0m \u001b[0;34m\u001b[0m\u001b[0m\n",
      "\u001b[0;32m/data/home/jfm1118/DA/pipeline/nn/res_stacked.py\u001b[0m in \u001b[0;36m__init__\u001b[0;34m(self, encode, activation_constructor, Cin, cardinality, layers, block, k, Csmall, module, subBlock, attentuation, sigmoid)\u001b[0m\n\u001b[1;32m     87\u001b[0m         \u001b[0;32mfor\u001b[0m \u001b[0mi\u001b[0m \u001b[0;32min\u001b[0m \u001b[0mrange\u001b[0m\u001b[0;34m(\u001b[0m\u001b[0mlayers\u001b[0m\u001b[0;34m)\u001b[0m\u001b[0;34m:\u001b[0m\u001b[0;34m\u001b[0m\u001b[0m\n\u001b[1;32m     88\u001b[0m             res = module(encode, activation_constructor, Cin, cardinality, layers,\n\u001b[0;32m---> 89\u001b[0;31m                             block, k=k, Cs=Csmall, sigmoid=sigmoid, subBlock=subBlock )\n\u001b[0m\u001b[1;32m     90\u001b[0m             \u001b[0mblocks\u001b[0m\u001b[0;34m.\u001b[0m\u001b[0mappend\u001b[0m\u001b[0;34m(\u001b[0m\u001b[0mres\u001b[0m\u001b[0;34m)\u001b[0m\u001b[0;34m\u001b[0m\u001b[0m\n\u001b[1;32m     91\u001b[0m         self.resRes = nn.Sequential(*blocks, activation_constructor(Cin, not encode),\n",
      "\u001b[0;32m/data/home/jfm1118/DA/pipeline/nn/res_stacked.py\u001b[0m in \u001b[0;36m__init__\u001b[0;34m(self, encode, activation_constructor, Cin, cardinality, layers, Block, k, Cs, sigmoid, subBlock)\u001b[0m\n\u001b[1;32m     52\u001b[0m         self.rdb3 = res.ResNeXt(encode, activation_constructor, Cin,\n\u001b[1;32m     53\u001b[0m                                         \u001b[0mcardinality\u001b[0m\u001b[0;34m,\u001b[0m \u001b[0mk\u001b[0m\u001b[0;34m,\u001b[0m \u001b[0mCs\u001b[0m\u001b[0;34m,\u001b[0m \u001b[0mBlock_in_ResNext\u001b[0m\u001b[0;34m,\u001b[0m\u001b[0;34m\u001b[0m\u001b[0m\n\u001b[0;32m---> 54\u001b[0;31m                                         block_kwargs=dense_block_kwargs)\n\u001b[0m\u001b[1;32m     55\u001b[0m     \u001b[0;32mdef\u001b[0m \u001b[0mforward\u001b[0m\u001b[0;34m(\u001b[0m\u001b[0mself\u001b[0m\u001b[0;34m,\u001b[0m \u001b[0mx\u001b[0m\u001b[0;34m)\u001b[0m\u001b[0;34m:\u001b[0m\u001b[0;34m\u001b[0m\u001b[0m\n\u001b[1;32m     56\u001b[0m         \u001b[0mh\u001b[0m \u001b[0;34m=\u001b[0m \u001b[0mself\u001b[0m\u001b[0;34m.\u001b[0m\u001b[0mrdb3\u001b[0m\u001b[0;34m(\u001b[0m\u001b[0mx\u001b[0m\u001b[0;34m)\u001b[0m\u001b[0;34m\u001b[0m\u001b[0m\n",
      "\u001b[0;32m/data/home/jfm1118/DA/pipeline/nn/res.py\u001b[0m in \u001b[0;36m__init__\u001b[0;34m(self, encode, activation_constructor, Cin, cardinality, k, Cs, Block, Cout, block_kwargs)\u001b[0m\n\u001b[1;32m    120\u001b[0m \u001b[0;34m\u001b[0m\u001b[0m\n\u001b[1;32m    121\u001b[0m         init_block = self.__init_block_helper(Block, encode, activation_constructor, Cin, Cs,\n\u001b[0;32m--> 122\u001b[0;31m                                 Cout, block_kwargs)\n\u001b[0m\u001b[1;32m    123\u001b[0m         \u001b[0;32mif\u001b[0m \u001b[0misinstance\u001b[0m\u001b[0;34m(\u001b[0m\u001b[0minit_block\u001b[0m\u001b[0;34m,\u001b[0m \u001b[0mResNextBlock\u001b[0m\u001b[0;34m)\u001b[0m\u001b[0;34m:\u001b[0m\u001b[0;34m\u001b[0m\u001b[0m\n\u001b[1;32m    124\u001b[0m             \u001b[0;32mif\u001b[0m \u001b[0mCs\u001b[0m\u001b[0;34m:\u001b[0m\u001b[0;34m\u001b[0m\u001b[0m\n",
      "\u001b[0;32m/data/home/jfm1118/DA/pipeline/nn/res.py\u001b[0m in \u001b[0;36m__init_block_helper\u001b[0;34m(self, Block, encode, activation_constructor, Cin, Cs, Cout, block_kwargs)\u001b[0m\n\u001b[1;32m    159\u001b[0m                             channel_small=Cs, Cout=Cout)\n\u001b[1;32m    160\u001b[0m         \u001b[0;32melse\u001b[0m\u001b[0;34m:\u001b[0m\u001b[0;34m\u001b[0m\u001b[0m\n\u001b[0;32m--> 161\u001b[0;31m             \u001b[0mresblock\u001b[0m \u001b[0;34m=\u001b[0m \u001b[0mBlock\u001b[0m\u001b[0;34m(\u001b[0m\u001b[0;34m**\u001b[0m\u001b[0mblock_kwargs\u001b[0m\u001b[0;34m)\u001b[0m\u001b[0;34m\u001b[0m\u001b[0m\n\u001b[0m\u001b[1;32m    162\u001b[0m         \u001b[0;32mreturn\u001b[0m \u001b[0mresblock\u001b[0m\u001b[0;34m\u001b[0m\u001b[0m\n\u001b[1;32m    163\u001b[0m \u001b[0;34m\u001b[0m\u001b[0m\n",
      "\u001b[0;32m/data/home/jfm1118/DA/pipeline/nn/densenet.py\u001b[0m in \u001b[0;36m__init__\u001b[0;34m(self, encode, activation_constructor, Cin, growth_rate, Csmall, dense_layers, Block, residual)\u001b[0m\n\u001b[1;32m     28\u001b[0m                     dense_layers, Block=ResNextBlock, residual=False):\n\u001b[1;32m     29\u001b[0m         \u001b[0mprint\u001b[0m\u001b[0;34m(\u001b[0m \u001b[0mtype\u001b[0m\u001b[0;34m(\u001b[0m\u001b[0mself\u001b[0m\u001b[0;34m)\u001b[0m\u001b[0;34m)\u001b[0m\u001b[0;34m\u001b[0m\u001b[0m\n\u001b[0;32m---> 30\u001b[0;31m         \u001b[0msuper\u001b[0m\u001b[0;34m(\u001b[0m\u001b[0m_DenseBlock\u001b[0m\u001b[0;34m,\u001b[0m \u001b[0mself\u001b[0m\u001b[0;34m)\u001b[0m\u001b[0;34m.\u001b[0m\u001b[0m__init__\u001b[0m\u001b[0;34m(\u001b[0m\u001b[0;34m)\u001b[0m\u001b[0;34m\u001b[0m\u001b[0m\n\u001b[0m\u001b[1;32m     31\u001b[0m         \u001b[0mself\u001b[0m\u001b[0;34m.\u001b[0m\u001b[0mresidual\u001b[0m \u001b[0;34m=\u001b[0m \u001b[0mresidual\u001b[0m\u001b[0;34m\u001b[0m\u001b[0m\n\u001b[1;32m     32\u001b[0m         \u001b[0;32mfor\u001b[0m \u001b[0mi\u001b[0m \u001b[0;32min\u001b[0m \u001b[0mrange\u001b[0m\u001b[0;34m(\u001b[0m\u001b[0mdense_layers\u001b[0m\u001b[0;34m)\u001b[0m\u001b[0;34m:\u001b[0m\u001b[0;34m\u001b[0m\u001b[0m\n",
      "\u001b[0;31mTypeError\u001b[0m: super(type, obj): obj must be an instance or subtype of type"
     ]
    }
   ],
   "source": [
    "###CHANGE THIS FILE TO THE SUBDIRECTORY OF INTEREST:\n",
    "#exp_dir_base = \"/data/home/jfm1118/DA/experiments/train/baseline_0b/\"\n",
    "exp_base = \"/data/home/jfm1118/DA/experiments/train/\"\n",
    "exp_dirs = [exp_base + \"06a/\", exp_base + \"06a2/\", exp_base + \"06a3/\"] #tucodec\n",
    "exp_dirs = [exp_base + \"02a/0/\" ] #exp_base + \"02b/\"] #ResNeXt block types\n",
    "\n",
    "ylim = (0, 5000)\n",
    "ylim2 = (60,100)\n",
    "\n",
    "results = utils.extract_res_from_files(exp_dirs)\n",
    "utils.plot_results_loss_epochs(results, ylim1=ylim, ylim2=ylim2)\n"
   ]
  },
  {
   "cell_type": "markdown",
   "metadata": {},
   "source": [
    "## Extract relevant Data to df\n",
    "Use minimum validation loss as criterion.  \n",
    "\n",
    "In theory (if we had it) it would be better to use DA MAE\n"
   ]
  },
  {
   "cell_type": "code",
   "execution_count": 8,
   "metadata": {},
   "outputs": [
    {
     "data": {
      "text/html": [
       "<div>\n",
       "<style scoped>\n",
       "    .dataframe tbody tr th:only-of-type {\n",
       "        vertical-align: middle;\n",
       "    }\n",
       "\n",
       "    .dataframe tbody tr th {\n",
       "        vertical-align: top;\n",
       "    }\n",
       "\n",
       "    .dataframe thead th {\n",
       "        text-align: right;\n",
       "    }\n",
       "</style>\n",
       "<table border=\"1\" class=\"dataframe\">\n",
       "  <thead>\n",
       "    <tr style=\"text-align: right;\">\n",
       "      <th></th>\n",
       "      <th>model</th>\n",
       "      <th>valid_loss</th>\n",
       "      <th>activation</th>\n",
       "      <th>latent_dims</th>\n",
       "      <th>num_layers</th>\n",
       "      <th>total_channels</th>\n",
       "      <th>channels/layer</th>\n",
       "      <th>augmentation</th>\n",
       "      <th>batch_norm</th>\n",
       "      <th>channels</th>\n",
       "      <th>conv_changeover</th>\n",
       "      <th>dropout</th>\n",
       "      <th>first_channel</th>\n",
       "      <th>learning_rate</th>\n",
       "      <th>path</th>\n",
       "    </tr>\n",
       "  </thead>\n",
       "  <tbody>\n",
       "    <tr>\n",
       "      <th>0</th>\n",
       "      <td>Baseline1</td>\n",
       "      <td>3630.292473</td>\n",
       "      <td>lrelu</td>\n",
       "      <td>288</td>\n",
       "      <td>7</td>\n",
       "      <td>210</td>\n",
       "      <td>30</td>\n",
       "      <td>0.0</td>\n",
       "      <td>0.0</td>\n",
       "      <td>[1, 1, 16, 64, 32, 32, 32, 32]</td>\n",
       "      <td>2.0</td>\n",
       "      <td>0.0</td>\n",
       "      <td>1.0</td>\n",
       "      <td>0.0003</td>\n",
       "      <td>/data/home/jfm1118/DA/experiments/train/baseli...</td>\n",
       "    </tr>\n",
       "    <tr>\n",
       "      <th>1</th>\n",
       "      <td>Baseline1</td>\n",
       "      <td>3761.785731</td>\n",
       "      <td>lrelu</td>\n",
       "      <td>288</td>\n",
       "      <td>7</td>\n",
       "      <td>210</td>\n",
       "      <td>30</td>\n",
       "      <td>1.0</td>\n",
       "      <td>0.0</td>\n",
       "      <td>[1, 1, 16, 64, 32, 32, 32, 32]</td>\n",
       "      <td>2.0</td>\n",
       "      <td>0.0</td>\n",
       "      <td>1.0</td>\n",
       "      <td>0.0003</td>\n",
       "      <td>/data/home/jfm1118/DA/experiments/train/baseli...</td>\n",
       "    </tr>\n",
       "    <tr>\n",
       "      <th>2</th>\n",
       "      <td>BaselineBlock</td>\n",
       "      <td>2699.590523</td>\n",
       "      <td>lrelu</td>\n",
       "      <td>2</td>\n",
       "      <td>??</td>\n",
       "      <td>337</td>\n",
       "      <td>??</td>\n",
       "      <td>0.0</td>\n",
       "      <td>0.0</td>\n",
       "      <td>[1, 16, 32, 64, 64, 32, 32, 32, 32, 32]</td>\n",
       "      <td>10.0</td>\n",
       "      <td>0.0</td>\n",
       "      <td>16.0</td>\n",
       "      <td>0.0003</td>\n",
       "      <td>/data/home/jfm1118/DA/experiments/train/baseli...</td>\n",
       "    </tr>\n",
       "    <tr>\n",
       "      <th>3</th>\n",
       "      <td>Baseline2</td>\n",
       "      <td>2259.066530</td>\n",
       "      <td>lrelu</td>\n",
       "      <td>288</td>\n",
       "      <td>6</td>\n",
       "      <td>177</td>\n",
       "      <td>29.5</td>\n",
       "      <td>0.0</td>\n",
       "      <td>0.0</td>\n",
       "      <td>[1, 16, 32, 32, 32, 32, 32]</td>\n",
       "      <td>0.0</td>\n",
       "      <td>0.0</td>\n",
       "      <td>16.0</td>\n",
       "      <td>0.0003</td>\n",
       "      <td>/data/home/jfm1118/DA/experiments/train/baseli...</td>\n",
       "    </tr>\n",
       "    <tr>\n",
       "      <th>4</th>\n",
       "      <td>Baseline2</td>\n",
       "      <td>2288.777706</td>\n",
       "      <td>lrelu</td>\n",
       "      <td>288</td>\n",
       "      <td>6</td>\n",
       "      <td>177</td>\n",
       "      <td>29.5</td>\n",
       "      <td>1.0</td>\n",
       "      <td>0.0</td>\n",
       "      <td>[1, 16, 32, 32, 32, 32, 32]</td>\n",
       "      <td>0.0</td>\n",
       "      <td>0.0</td>\n",
       "      <td>16.0</td>\n",
       "      <td>0.0003</td>\n",
       "      <td>/data/home/jfm1118/DA/experiments/train/baseli...</td>\n",
       "    </tr>\n",
       "    <tr>\n",
       "      <th>5</th>\n",
       "      <td>BaselineBlock</td>\n",
       "      <td>3073.610158</td>\n",
       "      <td>lrelu</td>\n",
       "      <td>2</td>\n",
       "      <td>??</td>\n",
       "      <td>337</td>\n",
       "      <td>??</td>\n",
       "      <td>1.0</td>\n",
       "      <td>0.0</td>\n",
       "      <td>[1, 16, 32, 64, 64, 32, 32, 32, 32, 32]</td>\n",
       "      <td>10.0</td>\n",
       "      <td>0.0</td>\n",
       "      <td>16.0</td>\n",
       "      <td>0.0003</td>\n",
       "      <td>/data/home/jfm1118/DA/experiments/train/baseli...</td>\n",
       "    </tr>\n",
       "  </tbody>\n",
       "</table>\n",
       "</div>"
      ],
      "text/plain": [
       "           model   valid_loss activation latent_dims num_layers  \\\n",
       "0      Baseline1  3630.292473      lrelu         288          7   \n",
       "1      Baseline1  3761.785731      lrelu         288          7   \n",
       "2  BaselineBlock  2699.590523      lrelu           2         ??   \n",
       "3      Baseline2  2259.066530      lrelu         288          6   \n",
       "4      Baseline2  2288.777706      lrelu         288          6   \n",
       "5  BaselineBlock  3073.610158      lrelu           2         ??   \n",
       "\n",
       "  total_channels channels/layer  augmentation  batch_norm  \\\n",
       "0            210             30           0.0         0.0   \n",
       "1            210             30           1.0         0.0   \n",
       "2            337             ??           0.0         0.0   \n",
       "3            177           29.5           0.0         0.0   \n",
       "4            177           29.5           1.0         0.0   \n",
       "5            337             ??           1.0         0.0   \n",
       "\n",
       "                                  channels  conv_changeover  dropout  \\\n",
       "0           [1, 1, 16, 64, 32, 32, 32, 32]              2.0      0.0   \n",
       "1           [1, 1, 16, 64, 32, 32, 32, 32]              2.0      0.0   \n",
       "2  [1, 16, 32, 64, 64, 32, 32, 32, 32, 32]             10.0      0.0   \n",
       "3              [1, 16, 32, 32, 32, 32, 32]              0.0      0.0   \n",
       "4              [1, 16, 32, 32, 32, 32, 32]              0.0      0.0   \n",
       "5  [1, 16, 32, 64, 64, 32, 32, 32, 32, 32]             10.0      0.0   \n",
       "\n",
       "   first_channel  learning_rate  \\\n",
       "0            1.0         0.0003   \n",
       "1            1.0         0.0003   \n",
       "2           16.0         0.0003   \n",
       "3           16.0         0.0003   \n",
       "4           16.0         0.0003   \n",
       "5           16.0         0.0003   \n",
       "\n",
       "                                                path  \n",
       "0  /data/home/jfm1118/DA/experiments/train/baseli...  \n",
       "1  /data/home/jfm1118/DA/experiments/train/baseli...  \n",
       "2  /data/home/jfm1118/DA/experiments/train/baseli...  \n",
       "3  /data/home/jfm1118/DA/experiments/train/baseli...  \n",
       "4  /data/home/jfm1118/DA/experiments/train/baseli...  \n",
       "5  /data/home/jfm1118/DA/experiments/train/baseli...  "
      ]
     },
     "execution_count": 8,
     "metadata": {},
     "output_type": "execute_result"
    }
   ],
   "source": [
    "df_res = utils.create_res_df(results)\n",
    "df_res_original = df_res.copy() #save original (in case you substitute out)\n",
    "df_res"
   ]
  },
  {
   "cell_type": "markdown",
   "metadata": {},
   "source": [
    "### Get best result"
   ]
  },
  {
   "cell_type": "code",
   "execution_count": 10,
   "metadata": {},
   "outputs": [
    {
     "name": "stdout",
     "output_type": "stream",
     "text": [
      "model                                                      Baseline2\n",
      "valid_loss                                                   2259.07\n",
      "activation                                                     lrelu\n",
      "latent_dims                                                      288\n",
      "num_layers                                                         6\n",
      "total_channels                                                   177\n",
      "channels/layer                                                  29.5\n",
      "augmentation                                                       0\n",
      "batch_norm                                                         0\n",
      "channels                                 [1, 16, 32, 32, 32, 32, 32]\n",
      "conv_changeover                                                    0\n",
      "dropout                                                            0\n",
      "first_channel                                                     16\n",
      "learning_rate                                                 0.0003\n",
      "path               /data/home/jfm1118/DA/experiments/train/baseli...\n",
      "Name: 3, dtype: object\n"
     ]
    },
    {
     "data": {
      "text/plain": [
       "'/data/home/jfm1118/DA/experiments/train/baseline_0b/4'"
      ]
     },
     "execution_count": 10,
     "metadata": {},
     "output_type": "execute_result"
    }
   ],
   "source": [
    "df_res[\"valid_loss\"].idxmin()\n",
    "\n",
    "print(df_res.loc[df_res[\"valid_loss\"].idxmin()])\n",
    "df_res.loc[df_res[\"valid_loss\"].idxmin()][\"path\"]\n"
   ]
  },
  {
   "cell_type": "markdown",
   "metadata": {},
   "source": [
    "### Consider Outliers"
   ]
  },
  {
   "cell_type": "code",
   "execution_count": 10,
   "metadata": {},
   "outputs": [
    {
     "data": {
      "text/html": [
       "<div>\n",
       "<style scoped>\n",
       "    .dataframe tbody tr th:only-of-type {\n",
       "        vertical-align: middle;\n",
       "    }\n",
       "\n",
       "    .dataframe tbody tr th {\n",
       "        vertical-align: top;\n",
       "    }\n",
       "\n",
       "    .dataframe thead th {\n",
       "        text-align: right;\n",
       "    }\n",
       "</style>\n",
       "<table border=\"1\" class=\"dataframe\">\n",
       "  <thead>\n",
       "    <tr style=\"text-align: right;\">\n",
       "      <th></th>\n",
       "      <th>model</th>\n",
       "      <th>valid_loss</th>\n",
       "      <th>activation</th>\n",
       "      <th>latent_dims</th>\n",
       "      <th>num_layers</th>\n",
       "      <th>total_channels</th>\n",
       "      <th>channels/layer</th>\n",
       "      <th>batch_norm</th>\n",
       "      <th>channels</th>\n",
       "      <th>conv_changeover</th>\n",
       "      <th>first_channel</th>\n",
       "      <th>learning_rate</th>\n",
       "      <th>path</th>\n",
       "    </tr>\n",
       "  </thead>\n",
       "  <tbody>\n",
       "  </tbody>\n",
       "</table>\n",
       "</div>"
      ],
      "text/plain": [
       "Empty DataFrame\n",
       "Columns: [model, valid_loss, activation, latent_dims, num_layers, total_channels, channels/layer, batch_norm, channels, conv_changeover, first_channel, learning_rate, path]\n",
       "Index: []"
      ]
     },
     "execution_count": 10,
     "metadata": {},
     "output_type": "execute_result"
    }
   ],
   "source": [
    "#consider third experiment run (lots of outliers)\n",
    "df3 = df_res[df_res[\"path\"].str.contains(\"CAE_zoo3\")]\n",
    "\n",
    "df_outlier =  df_res[df_res[\"valid_loss\"] > 150000]\n",
    "\n",
    "df_outlier"
   ]
  },
  {
   "cell_type": "markdown",
   "metadata": {},
   "source": [
    "## Results by model"
   ]
  },
  {
   "cell_type": "code",
   "execution_count": 5,
   "metadata": {},
   "outputs": [
    {
     "data": {
      "image/png": "[encoded data removed]",
      "text/plain": [
       "<Figure size 432x288 with 1 Axes>"
      ]
     },
     "metadata": {},
     "output_type": "display_data"
    }
   ],
   "source": [
    "relu = df_res[df_res.activation == \"relu\"]\n",
    "lrelu = df_res[df_res.activation == \"lrelu\"]\n",
    "\n",
    "plt.scatter('model', \"valid_loss\", data=relu,  marker=\"+\", color='r')\n",
    "plt.scatter('model', \"valid_loss\", data=lrelu,  marker=\"+\", color='g')\n",
    "\n",
    "plt.ylabel(\"Loss\")\n",
    "plt.xlabel(\"Model\")\n",
    "plt.ylim(16000, 70000)\n",
    "plt.legend(labels=[\"relu\", \"lrelu\"])\n",
    "plt.show()"
   ]
  },
  {
   "cell_type": "code",
   "execution_count": 6,
   "metadata": {
    "scrolled": true
   },
   "outputs": [
    {
     "data": {
      "image/png": "[encoded data removed]",
      "text/plain": [
       "<Figure size 432x288 with 1 Axes>"
      ]
     },
     "metadata": {},
     "output_type": "display_data"
    }
   ],
   "source": [
    "#investigate number of layers\n",
    "eps = 1e-5\n",
    "\n",
    "reluNBN = df_res[(df_res.activation == \"relu\") & (abs(df_res.batch_norm - 0.) < eps)]\n",
    "reluBN = df_res[(df_res.activation == \"relu\") & (abs(df_res.batch_norm - 1.) < eps)]\n",
    "lreluNBN = df_res[(df_res.activation == \"lrelu\") & (abs(df_res.batch_norm - 0.0) < eps)]\n",
    "lreluBN = df_res[(df_res.activation == \"lrelu\") & (abs(df_res.batch_norm - 1.) < eps)]\n",
    "\n",
    "\n",
    "plt.scatter('model', \"valid_loss\", data=reluNBN,  marker=\"+\", color='r')\n",
    "plt.scatter('model', \"valid_loss\", data=reluBN,  marker=\"+\", color='g')\n",
    "plt.scatter('model', \"valid_loss\", data=lreluNBN,  marker=\"o\", color='r')\n",
    "plt.scatter('model', \"valid_loss\", data=lreluBN,  marker=\"o\", color='g')\n",
    "\n",
    "plt.ylabel(\"Loss\")\n",
    "plt.xlabel(\"Model\")\n",
    "plt.ylim(16000, 70000)\n",
    "plt.legend(labels=[\"relu, NBN\", \"relu, BN\", \"lrelu, NBN\", \"lrelu, BN\"])\n",
    "plt.show()"
   ]
  },
  {
   "cell_type": "markdown",
   "metadata": {},
   "source": [
    "It turns out that there are lots of duplicates in the above data (as a result of a bug in my code that was giving all models the same number of channels). So remove duplicates and go again: "
   ]
  },
  {
   "cell_type": "markdown",
   "metadata": {},
   "source": [
    "### Remove Duplicates"
   ]
  },
  {
   "cell_type": "code",
   "execution_count": 7,
   "metadata": {},
   "outputs": [
    {
     "name": "stdout",
     "output_type": "stream",
     "text": [
      "['valid_loss', 'activation', 'latent_dims', 'num_layers', 'total_channels', 'channels/layer', 'batch_norm', 'channels', 'conv_changeover', 'first_channel', 'learning_rate']\n"
     ]
    },
    {
     "data": {
      "text/plain": [
       "(136, 13)"
      ]
     },
     "execution_count": 7,
     "metadata": {},
     "output_type": "execute_result"
    }
   ],
   "source": [
    "#remove duplicates\n",
    "columns = list(df_res_original.columns)\n",
    "columns.remove(\"model\")\n",
    "columns.remove(\"path\")\n",
    "print(columns)\n",
    "df_res_new = df_res_original.loc[df_res_original.astype(str).drop_duplicates(subset=columns, keep=\"last\").index]\n",
    "#df_res_new = df_res_original.drop_duplicates(subset=columns, keep=\"last\")\n",
    "df_res_new.shape\n",
    "df_res = df_res_new\n",
    "df_res.shape"
   ]
  },
  {
   "cell_type": "code",
   "execution_count": 9,
   "metadata": {},
   "outputs": [
    {
     "data": {
      "image/png": "[encoded data removed]",
      "text/plain": [
       "<Figure size 432x288 with 1 Axes>"
      ]
     },
     "metadata": {},
     "output_type": "display_data"
    }
   ],
   "source": [
    "##Plot same graph again:\n",
    "#investigate number of layers\n",
    "relu6 = df_res[(df_res.activation == \"relu\") & (df_res.num_layers == 6)]\n",
    "relu11 = df_res[(df_res.activation == \"relu\") & (df_res.num_layers != 6)]\n",
    "lrelu6 = df_res[(df_res.activation == \"lrelu\") & (df_res.num_layers == 6)]\n",
    "lrelu11 = df_res[(df_res.activation == \"lrelu\") & (df_res.num_layers != 6)]\n",
    "\n",
    "\n",
    "plt.scatter('model', \"valid_loss\", data=relu6,  marker=\"+\", color='r')\n",
    "plt.scatter('model', \"valid_loss\", data=lrelu6,  marker=\"+\", color='g')\n",
    "plt.scatter('model', \"valid_loss\", data=relu11,  marker=\"o\", color='r')\n",
    "plt.scatter('model', \"valid_loss\", data=lrelu11,  marker=\"o\", color='g')\n",
    "\n",
    "plt.ylabel(\"Loss\")\n",
    "plt.xlabel(\"Model\")\n",
    "plt.ylim(16000, 60000)\n",
    "plt.legend(labels=[\"relu, 6\", \"lrelu, 6\", \"relu, not 6\", \"lrelu, not 6\"])\n",
    "plt.show()"
   ]
  },
  {
   "cell_type": "markdown",
   "metadata": {},
   "source": [
    "## Each variable plotted against loss:"
   ]
  },
  {
   "cell_type": "code",
   "execution_count": 11,
   "metadata": {},
   "outputs": [
    {
     "data": {
      "text/plain": [
       "(16000, 70000)"
      ]
     },
     "execution_count": 11,
     "metadata": {},
     "output_type": "execute_result"
    },
    {
     "data": {
      "image/png": "[encoded data removed]",
      "text/plain": [
       "<Figure size 432x288 with 1 Axes>"
      ]
     },
     "metadata": {},
     "output_type": "display_data"
    }
   ],
   "source": [
    "plt.scatter('latent_dims', \"valid_loss\", data=df_res, marker=\"+\", color='r')\n",
    "plt.ylabel(\"Loss\")\n",
    "plt.xlabel(\"latent dimensions\")\n",
    "plt.ylim(16000, 70000)"
   ]
  },
  {
   "cell_type": "code",
   "execution_count": 13,
   "metadata": {},
   "outputs": [
    {
     "data": {
      "text/plain": [
       "(16000, 80000)"
      ]
     },
     "execution_count": 13,
     "metadata": {},
     "output_type": "execute_result"
    },
    {
     "data": {
      "image/png": "[encoded data removed]",
      "text/plain": [
       "<Figure size 432x288 with 1 Axes>"
      ]
     },
     "metadata": {},
     "output_type": "display_data"
    }
   ],
   "source": [
    "plt.scatter('first_channel', \"valid_loss\", data=df_res, marker=\"+\", color='r')\n",
    "plt.ylabel(\"Loss\")\n",
    "plt.xlabel(\"First channel\")\n",
    "plt.ylim(16000, 80000)"
   ]
  },
  {
   "cell_type": "code",
   "execution_count": 14,
   "metadata": {
    "scrolled": true
   },
   "outputs": [
    {
     "data": {
      "text/plain": [
       "(16000, 80000)"
      ]
     },
     "execution_count": 14,
     "metadata": {},
     "output_type": "execute_result"
    },
    {
     "data": {
      "image/png": "[encoded data removed]",
      "text/plain": [
       "<Figure size 432x288 with 1 Axes>"
      ]
     },
     "metadata": {},
     "output_type": "display_data"
    }
   ],
   "source": [
    "plt.scatter('batch_norm', \"valid_loss\", data=df_res,  marker=\"+\", color='r')\n",
    "plt.ylabel(\"Loss\")\n",
    "plt.xlabel(\"Batch Norm\")\n",
    "plt.xlim(-0.1, 1.1)\n",
    "plt.ylim(16000, 80000)"
   ]
  },
  {
   "cell_type": "code",
   "execution_count": 15,
   "metadata": {},
   "outputs": [
    {
     "data": {
      "text/plain": [
       "(16000, 70000)"
      ]
     },
     "execution_count": 15,
     "metadata": {},
     "output_type": "execute_result"
    },
    {
     "data": {
      "image/png": "[encoded data removed]",
      "text/plain": [
       "<Figure size 432x288 with 1 Axes>"
      ]
     },
     "metadata": {},
     "output_type": "display_data"
    }
   ],
   "source": [
    "plt.scatter('activation', \"valid_loss\", data=df_res,  marker=\"+\", color='r')\n",
    "plt.ylabel(\"Loss\")\n",
    "plt.xlabel(\"Activation\")\n",
    "plt.ylim(16000, 70000)"
   ]
  },
  {
   "cell_type": "code",
   "execution_count": 18,
   "metadata": {},
   "outputs": [
    {
     "data": {
      "text/plain": [
       "(16000, 80000)"
      ]
     },
     "execution_count": 18,
     "metadata": {},
     "output_type": "execute_result"
    },
    {
     "data": {
      "image/png": "[encoded data removed]",
      "text/plain": [
       "<Figure size 432x288 with 1 Axes>"
      ]
     },
     "metadata": {},
     "output_type": "display_data"
    }
   ],
   "source": [
    "plt.scatter('model', \"valid_loss\", data=df_res,  marker=\"+\", color='r')\n",
    "plt.ylabel(\"Loss\")\n",
    "plt.xlabel(\"Model\")\n",
    "plt.ylim(16000, 80000)"
   ]
  },
  {
   "cell_type": "code",
   "execution_count": 20,
   "metadata": {},
   "outputs": [
    {
     "data": {
      "text/plain": [
       "(16000, 80000)"
      ]
     },
     "execution_count": 20,
     "metadata": {},
     "output_type": "execute_result"
    },
    {
     "data": {
      "image/png": "[encoded data removed]",
      "text/plain": [
       "<Figure size 432x288 with 1 Axes>"
      ]
     },
     "metadata": {},
     "output_type": "display_data"
    }
   ],
   "source": [
    "plt.scatter('num_layers', \"valid_loss\", data=df_res,  marker=\"+\", color='r')\n",
    "plt.ylabel(\"Loss\")\n",
    "plt.xlabel(\"Number of layers in Decoder/Encoder\")\n",
    "plt.ylim(16000, 80000)"
   ]
  },
  {
   "cell_type": "code",
   "execution_count": 21,
   "metadata": {},
   "outputs": [
    {
     "data": {
      "text/plain": [
       "(16000, 80000)"
      ]
     },
     "execution_count": 21,
     "metadata": {},
     "output_type": "execute_result"
    },
    {
     "data": {
      "image/png": "[encoded data removed]",
      "text/plain": [
       "<Figure size 432x288 with 1 Axes>"
      ]
     },
     "metadata": {},
     "output_type": "display_data"
    }
   ],
   "source": [
    "plt.scatter('total_channels', \"valid_loss\", data=df_res,  marker=\"+\", color='r')\n",
    "plt.ylabel(\"Loss\")\n",
    "plt.xlabel(\"Total Channels\")\n",
    "plt.ylim(16000, 80000)"
   ]
  },
  {
   "cell_type": "code",
   "execution_count": 22,
   "metadata": {},
   "outputs": [
    {
     "data": {
      "text/plain": [
       "(16000, 80000)"
      ]
     },
     "execution_count": 22,
     "metadata": {},
     "output_type": "execute_result"
    },
    {
     "data": {
      "image/png": "[encoded data removed]",
      "text/plain": [
       "<Figure size 432x288 with 1 Axes>"
      ]
     },
     "metadata": {},
     "output_type": "display_data"
    }
   ],
   "source": [
    "plt.scatter('channels/layer', \"valid_loss\", data=df_res,  marker=\"+\", color='r')\n",
    "plt.ylabel(\"Loss\")\n",
    "plt.xlabel(\"Channels/Layer\")\n",
    "plt.ylim(16000, 80000)"
   ]
  },
  {
   "cell_type": "code",
   "execution_count": 23,
   "metadata": {},
   "outputs": [
    {
     "data": {
      "text/plain": [
       "(16000, 80000)"
      ]
     },
     "execution_count": 23,
     "metadata": {},
     "output_type": "execute_result"
    },
    {
     "data": {
      "image/png": "[encoded data removed]",
      "text/plain": [
       "<Figure size 432x288 with 1 Axes>"
      ]
     },
     "metadata": {},
     "output_type": "display_data"
    }
   ],
   "source": [
    "plt.scatter('first_channel', \"valid_loss\", data=df_res,  marker=\"+\", color='r')\n",
    "plt.ylabel(\"Loss\")\n",
    "plt.xlabel(\"First_channel\")\n",
    "plt.ylim(16000, 80000)"
   ]
  },
  {
   "cell_type": "code",
   "execution_count": 24,
   "metadata": {},
   "outputs": [
    {
     "data": {
      "text/plain": [
       "(16000, 80000)"
      ]
     },
     "execution_count": 24,
     "metadata": {},
     "output_type": "execute_result"
    },
    {
     "data": {
      "image/png": "[encoded data removed]",
      "text/plain": [
       "<Figure size 432x288 with 1 Axes>"
      ]
     },
     "metadata": {},
     "output_type": "display_data"
    }
   ],
   "source": [
    "plt.scatter('conv_changeover', \"valid_loss\", data=df_res,  marker=\"+\", color='r')\n",
    "plt.ylabel(\"Loss\")\n",
    "plt.xlabel(\"Input size decrease at which to change to start downsampling (via transposed convolution)\")\n",
    "plt.ylim(16000, 80000)"
   ]
  },
  {
   "cell_type": "markdown",
   "metadata": {},
   "source": [
    "## Investigate \"band\" in loss-model plot"
   ]
  },
  {
   "cell_type": "markdown",
   "metadata": {},
   "source": [
    "### Extract the different bands and inpsect"
   ]
  },
  {
   "cell_type": "code",
   "execution_count": 78,
   "metadata": {},
   "outputs": [
    {
     "data": {
      "text/html": [
       "<div>\n",
       "<style scoped>\n",
       "    .dataframe tbody tr th:only-of-type {\n",
       "        vertical-align: middle;\n",
       "    }\n",
       "\n",
       "    .dataframe tbody tr th {\n",
       "        vertical-align: top;\n",
       "    }\n",
       "\n",
       "    .dataframe thead th {\n",
       "        text-align: right;\n",
       "    }\n",
       "</style>\n",
       "<table border=\"1\" class=\"dataframe\">\n",
       "  <thead>\n",
       "    <tr style=\"text-align: right;\">\n",
       "      <th></th>\n",
       "      <th>model</th>\n",
       "      <th>valid_loss</th>\n",
       "      <th>activation</th>\n",
       "      <th>latent_dims</th>\n",
       "      <th>num_layers</th>\n",
       "      <th>total_channels</th>\n",
       "      <th>channels/layer</th>\n",
       "      <th>conv_changeover</th>\n",
       "      <th>path</th>\n",
       "    </tr>\n",
       "  </thead>\n",
       "  <tbody>\n",
       "    <tr>\n",
       "      <th>4</th>\n",
       "      <td>CAE1B</td>\n",
       "      <td>18792.643163</td>\n",
       "      <td>lrelu</td>\n",
       "      <td>36</td>\n",
       "      <td>6</td>\n",
       "      <td>45</td>\n",
       "      <td>7.500000</td>\n",
       "      <td>1.0</td>\n",
       "      <td>/data/home/jfm1118/DA/experiments/CAE_zoo2/5</td>\n",
       "    </tr>\n",
       "    <tr>\n",
       "      <th>5</th>\n",
       "      <td>CAE3</td>\n",
       "      <td>18792.643163</td>\n",
       "      <td>lrelu</td>\n",
       "      <td>36</td>\n",
       "      <td>6</td>\n",
       "      <td>45</td>\n",
       "      <td>7.500000</td>\n",
       "      <td>1.0</td>\n",
       "      <td>/data/home/jfm1118/DA/experiments/CAE_zoo2/25</td>\n",
       "    </tr>\n",
       "    <tr>\n",
       "      <th>7</th>\n",
       "      <td>CAE3</td>\n",
       "      <td>18846.080346</td>\n",
       "      <td>lrelu</td>\n",
       "      <td>72</td>\n",
       "      <td>6</td>\n",
       "      <td>49</td>\n",
       "      <td>8.166667</td>\n",
       "      <td>1.0</td>\n",
       "      <td>/data/home/jfm1118/DA/experiments/CAE_zoo2/24</td>\n",
       "    </tr>\n",
       "    <tr>\n",
       "      <th>9</th>\n",
       "      <td>CAE2</td>\n",
       "      <td>18846.080346</td>\n",
       "      <td>lrelu</td>\n",
       "      <td>72</td>\n",
       "      <td>6</td>\n",
       "      <td>49</td>\n",
       "      <td>8.166667</td>\n",
       "      <td>1.0</td>\n",
       "      <td>/data/home/jfm1118/DA/experiments/CAE_zoo2/28</td>\n",
       "    </tr>\n",
       "    <tr>\n",
       "      <th>11</th>\n",
       "      <td>CAE1</td>\n",
       "      <td>18792.643163</td>\n",
       "      <td>lrelu</td>\n",
       "      <td>36</td>\n",
       "      <td>6</td>\n",
       "      <td>45</td>\n",
       "      <td>7.500000</td>\n",
       "      <td>1.0</td>\n",
       "      <td>/data/home/jfm1118/DA/experiments/CAE_zoo2/33</td>\n",
       "    </tr>\n",
       "  </tbody>\n",
       "</table>\n",
       "</div>"
      ],
      "text/plain": [
       "    model    valid_loss activation latent_dims num_layers total_channels  \\\n",
       "4   CAE1B  18792.643163      lrelu          36          6             45   \n",
       "5    CAE3  18792.643163      lrelu          36          6             45   \n",
       "7    CAE3  18846.080346      lrelu          72          6             49   \n",
       "9    CAE2  18846.080346      lrelu          72          6             49   \n",
       "11   CAE1  18792.643163      lrelu          36          6             45   \n",
       "\n",
       "    channels/layer  conv_changeover  \\\n",
       "4         7.500000              1.0   \n",
       "5         7.500000              1.0   \n",
       "7         8.166667              1.0   \n",
       "9         8.166667              1.0   \n",
       "11        7.500000              1.0   \n",
       "\n",
       "                                             path  \n",
       "4    /data/home/jfm1118/DA/experiments/CAE_zoo2/5  \n",
       "5   /data/home/jfm1118/DA/experiments/CAE_zoo2/25  \n",
       "7   /data/home/jfm1118/DA/experiments/CAE_zoo2/24  \n",
       "9   /data/home/jfm1118/DA/experiments/CAE_zoo2/28  \n",
       "11  /data/home/jfm1118/DA/experiments/CAE_zoo2/33  "
      ]
     },
     "execution_count": 78,
     "metadata": {},
     "output_type": "execute_result"
    }
   ],
   "source": [
    "band1 = df_res[df_res.valid_loss <  20000]\n",
    "band2 = df_res[(df_res.valid_loss >  20000) & (df_res.valid_loss < 23000)]\n",
    "band3 = df_res[(df_res.valid_loss >  23000) & (df_res.valid_loss < 26000)]\n",
    "band1.head()"
   ]
  },
  {
   "cell_type": "code",
   "execution_count": 65,
   "metadata": {
    "scrolled": false
   },
   "outputs": [
    {
     "data": {
      "text/html": [
       "<div>\n",
       "<style scoped>\n",
       "    .dataframe tbody tr th:only-of-type {\n",
       "        vertical-align: middle;\n",
       "    }\n",
       "\n",
       "    .dataframe tbody tr th {\n",
       "        vertical-align: top;\n",
       "    }\n",
       "\n",
       "    .dataframe thead th {\n",
       "        text-align: right;\n",
       "    }\n",
       "</style>\n",
       "<table border=\"1\" class=\"dataframe\">\n",
       "  <thead>\n",
       "    <tr style=\"text-align: right;\">\n",
       "      <th></th>\n",
       "      <th>model</th>\n",
       "      <th>valid_loss</th>\n",
       "      <th>activation</th>\n",
       "      <th>latent_dims</th>\n",
       "      <th>num_layers</th>\n",
       "      <th>total_channels</th>\n",
       "      <th>channels/layer</th>\n",
       "      <th>conv_changeover</th>\n",
       "      <th>path</th>\n",
       "    </tr>\n",
       "  </thead>\n",
       "  <tbody>\n",
       "    <tr>\n",
       "      <th>1</th>\n",
       "      <td>CAE1</td>\n",
       "      <td>24912.661643</td>\n",
       "      <td>relu</td>\n",
       "      <td>54</td>\n",
       "      <td>11</td>\n",
       "      <td>72</td>\n",
       "      <td>6.545455</td>\n",
       "      <td>10.0</td>\n",
       "      <td>/data/home/jfm1118/DA/experiments/CAE_zoo/3</td>\n",
       "    </tr>\n",
       "    <tr>\n",
       "      <th>3</th>\n",
       "      <td>CAE1</td>\n",
       "      <td>24307.036286</td>\n",
       "      <td>lrelu</td>\n",
       "      <td>108</td>\n",
       "      <td>11</td>\n",
       "      <td>78</td>\n",
       "      <td>7.090909</td>\n",
       "      <td>10.0</td>\n",
       "      <td>/data/home/jfm1118/DA/experiments/CAE_zoo/0</td>\n",
       "    </tr>\n",
       "    <tr>\n",
       "      <th>10</th>\n",
       "      <td>CAE3</td>\n",
       "      <td>25226.951578</td>\n",
       "      <td>relu</td>\n",
       "      <td>72</td>\n",
       "      <td>6</td>\n",
       "      <td>49</td>\n",
       "      <td>8.166667</td>\n",
       "      <td>1.0</td>\n",
       "      <td>/data/home/jfm1118/DA/experiments/CAE_zoo2/26</td>\n",
       "    </tr>\n",
       "    <tr>\n",
       "      <th>32</th>\n",
       "      <td>CAE1</td>\n",
       "      <td>24041.000436</td>\n",
       "      <td>relu</td>\n",
       "      <td>72</td>\n",
       "      <td>6</td>\n",
       "      <td>49</td>\n",
       "      <td>8.166667</td>\n",
       "      <td>1.0</td>\n",
       "      <td>/data/home/jfm1118/DA/experiments/CAE_zoo2/34</td>\n",
       "    </tr>\n",
       "  </tbody>\n",
       "</table>\n",
       "</div>"
      ],
      "text/plain": [
       "   model    valid_loss activation latent_dims num_layers total_channels  \\\n",
       "1   CAE1  24912.661643       relu          54         11             72   \n",
       "3   CAE1  24307.036286      lrelu         108         11             78   \n",
       "10  CAE3  25226.951578       relu          72          6             49   \n",
       "32  CAE1  24041.000436       relu          72          6             49   \n",
       "\n",
       "    channels/layer  conv_changeover  \\\n",
       "1         6.545455             10.0   \n",
       "3         7.090909             10.0   \n",
       "10        8.166667              1.0   \n",
       "32        8.166667              1.0   \n",
       "\n",
       "                                             path  \n",
       "1     /data/home/jfm1118/DA/experiments/CAE_zoo/3  \n",
       "3     /data/home/jfm1118/DA/experiments/CAE_zoo/0  \n",
       "10  /data/home/jfm1118/DA/experiments/CAE_zoo2/26  \n",
       "32  /data/home/jfm1118/DA/experiments/CAE_zoo2/34  "
      ]
     },
     "execution_count": 65,
     "metadata": {},
     "output_type": "execute_result"
    }
   ],
   "source": [
    "band3.head()"
   ]
  },
  {
   "cell_type": "code",
   "execution_count": null,
   "metadata": {},
   "outputs": [],
   "source": []
  },
  {
   "cell_type": "markdown",
   "metadata": {},
   "source": [
    "## Investigate Duplicates\n"
   ]
  },
  {
   "cell_type": "code",
   "execution_count": 59,
   "metadata": {
    "scrolled": true
   },
   "outputs": [
    {
     "name": "stdout",
     "output_type": "stream",
     "text": [
      "CAE1\n",
      "ModuleList(\n",
      "  (0): Conv3d(1, 8, kernel_size=(3, 3, 3), stride=(1, 1, 1))\n",
      "  (1): Conv3d(8, 8, kernel_size=(3, 3, 2), stride=(2, 2, 2), padding=(1, 0, 0))\n",
      "  (2): Conv3d(8, 8, kernel_size=(3, 3, 3), stride=(2, 2, 2), padding=(1, 1, 0))\n",
      "  (3): Conv3d(8, 8, kernel_size=(3, 3, 3), stride=(2, 2, 2), padding=(0, 1, 0))\n",
      "  (4): Conv3d(8, 8, kernel_size=(3, 3, 2), stride=(2, 2, 1))\n",
      "  (5): Conv3d(8, 8, kernel_size=(3, 3, 2), stride=(2, 2, 1), padding=(1, 1, 0))\n",
      "  (6): ConvTranspose3d(8, 8, kernel_size=(3, 3, 2), stride=(2, 2, 1), padding=(1, 1, 0))\n",
      "  (7): ConvTranspose3d(8, 8, kernel_size=(3, 3, 2), stride=(2, 2, 1))\n",
      "  (8): ConvTranspose3d(8, 8, kernel_size=(3, 3, 3), stride=(2, 2, 2), padding=(0, 1, 0))\n",
      "  (9): ConvTranspose3d(8, 8, kernel_size=(3, 3, 3), stride=(2, 2, 2), padding=(1, 1, 0))\n",
      "  (10): ConvTranspose3d(8, 8, kernel_size=(3, 3, 2), stride=(2, 2, 2), padding=(1, 0, 0))\n",
      "  (11): ConvTranspose3d(8, 1, kernel_size=(3, 3, 3), stride=(1, 1, 1))\n",
      ")\n",
      "[1, 8, 8, 8, 8, 8, 8]\n",
      "\n",
      "CAE6\n",
      "ModuleList(\n",
      "  (0): Conv3d(1, 8, kernel_size=(3, 3, 3), stride=(1, 1, 1))\n",
      "  (1): Conv3d(8, 8, kernel_size=(3, 3, 2), stride=(2, 2, 2), padding=(1, 0, 0))\n",
      "  (2): Conv3d(8, 8, kernel_size=(3, 3, 3), stride=(2, 2, 2), padding=(1, 1, 0))\n",
      "  (3): Conv3d(8, 8, kernel_size=(3, 3, 3), stride=(2, 2, 2), padding=(0, 1, 0))\n",
      "  (4): Conv3d(8, 8, kernel_size=(3, 3, 2), stride=(2, 2, 1))\n",
      "  (5): Conv3d(8, 8, kernel_size=(3, 3, 2), stride=(2, 2, 1), padding=(1, 1, 0))\n",
      "  (6): ConvTranspose3d(8, 8, kernel_size=(3, 3, 2), stride=(2, 2, 1), padding=(1, 1, 0))\n",
      "  (7): ConvTranspose3d(8, 8, kernel_size=(3, 3, 2), stride=(2, 2, 1))\n",
      "  (8): ConvTranspose3d(8, 8, kernel_size=(3, 3, 3), stride=(2, 2, 2), padding=(0, 1, 0))\n",
      "  (9): ConvTranspose3d(8, 8, kernel_size=(3, 3, 3), stride=(2, 2, 2), padding=(1, 1, 0))\n",
      "  (10): ConvTranspose3d(8, 8, kernel_size=(3, 3, 2), stride=(2, 2, 2), padding=(1, 0, 0))\n",
      "  (11): ConvTranspose3d(8, 1, kernel_size=(3, 3, 3), stride=(1, 1, 1))\n",
      ")\n",
      "[1, 8, 8, 8, 8, 8, 8]\n"
     ]
    }
   ],
   "source": [
    "#eg1: /data/home/jfm1118/DA/experiments/CAE_zoo2/32 and /data/home/jfm1118/DA/experiments/CAE_zoo2/12\n",
    "#eg2: /data/home/jfm1118/DA/experiments/CAE_zoo2/31 and /data/home/jfm1118/DA/experiments/CAE_zoo2/27\n",
    "def get_data_from_path(path):\n",
    "    for res in results:\n",
    "        if res[\"path\"] == path:\n",
    "            return res\n",
    "    else:\n",
    "        raise ValueError(\"No path = {} in 'results' list\".format(path))\n",
    "def print_model(settings):\n",
    "    model = settings.AE_MODEL_TYPE(**settings.get_kwargs())\n",
    "    print(settings.__class__.__name__)\n",
    "    print(model.layers)\n",
    "    print(settings.CHANNELS)\n",
    "    \n",
    "base_exp =  \"/data/home/jfm1118/DA/experiments/CAE_zoo2/\" \n",
    "exp_32 = get_data_from_path(base_exp + \"32\")[\"settings\"]\n",
    "exp_12 = get_data_from_path(base_exp + \"12\")[\"settings\"]\n",
    "\n",
    "print_model(exp_32)\n",
    "print()\n",
    "print_model(exp_12)\n"
   ]
  },
  {
   "cell_type": "code",
   "execution_count": 60,
   "metadata": {},
   "outputs": [
    {
     "name": "stdout",
     "output_type": "stream",
     "text": [
      "CAE2\n",
      "ModuleList(\n",
      "  (0): Conv3d(1, 8, kernel_size=(3, 3, 3), stride=(1, 1, 1))\n",
      "  (1): Conv3d(8, 8, kernel_size=(3, 3, 2), stride=(2, 2, 2), padding=(1, 0, 0))\n",
      "  (2): Conv3d(8, 8, kernel_size=(3, 3, 3), stride=(2, 2, 2), padding=(1, 1, 0))\n",
      "  (3): Conv3d(8, 8, kernel_size=(3, 3, 3), stride=(2, 2, 2), padding=(0, 1, 0))\n",
      "  (4): Conv3d(8, 8, kernel_size=(3, 3, 2), stride=(2, 2, 1))\n",
      "  (5): Conv3d(8, 4, kernel_size=(3, 3, 2), stride=(2, 2, 1), padding=(1, 1, 0))\n",
      "  (6): ConvTranspose3d(4, 8, kernel_size=(3, 3, 2), stride=(2, 2, 1), padding=(1, 1, 0))\n",
      "  (7): ConvTranspose3d(8, 8, kernel_size=(3, 3, 2), stride=(2, 2, 1))\n",
      "  (8): ConvTranspose3d(8, 8, kernel_size=(3, 3, 3), stride=(2, 2, 2), padding=(0, 1, 0))\n",
      "  (9): ConvTranspose3d(8, 8, kernel_size=(3, 3, 3), stride=(2, 2, 2), padding=(1, 1, 0))\n",
      "  (10): ConvTranspose3d(8, 8, kernel_size=(3, 3, 2), stride=(2, 2, 2), padding=(1, 0, 0))\n",
      "  (11): ConvTranspose3d(8, 1, kernel_size=(3, 3, 3), stride=(1, 1, 1))\n",
      ")\n",
      "[1, 8, 8, 8, 8, 8, 4]\n",
      "\n",
      "CAE3\n",
      "ModuleList(\n",
      "  (0): Conv3d(1, 8, kernel_size=(3, 3, 3), stride=(1, 1, 1))\n",
      "  (1): Conv3d(8, 8, kernel_size=(3, 3, 2), stride=(2, 2, 2), padding=(1, 0, 0))\n",
      "  (2): Conv3d(8, 8, kernel_size=(3, 3, 3), stride=(2, 2, 2), padding=(1, 1, 0))\n",
      "  (3): Conv3d(8, 8, kernel_size=(3, 3, 3), stride=(2, 2, 2), padding=(0, 1, 0))\n",
      "  (4): Conv3d(8, 8, kernel_size=(3, 3, 2), stride=(2, 2, 1))\n",
      "  (5): Conv3d(8, 4, kernel_size=(3, 3, 2), stride=(2, 2, 1), padding=(1, 1, 0))\n",
      "  (6): ConvTranspose3d(4, 8, kernel_size=(3, 3, 2), stride=(2, 2, 1), padding=(1, 1, 0))\n",
      "  (7): ConvTranspose3d(8, 8, kernel_size=(3, 3, 2), stride=(2, 2, 1))\n",
      "  (8): ConvTranspose3d(8, 8, kernel_size=(3, 3, 3), stride=(2, 2, 2), padding=(0, 1, 0))\n",
      "  (9): ConvTranspose3d(8, 8, kernel_size=(3, 3, 3), stride=(2, 2, 2), padding=(1, 1, 0))\n",
      "  (10): ConvTranspose3d(8, 8, kernel_size=(3, 3, 2), stride=(2, 2, 2), padding=(1, 0, 0))\n",
      "  (11): ConvTranspose3d(8, 1, kernel_size=(3, 3, 3), stride=(1, 1, 1))\n",
      ")\n",
      "[1, 8, 8, 8, 8, 8, 4]\n",
      "[1, 3, 5, 7, 9, 11, 13]\n"
     ]
    }
   ],
   "source": [
    "base_exp =  \"/data/home/jfm1118/DA/experiments/CAE_zoo2/\" \n",
    "exp_1 = get_data_from_path(base_exp + \"31\")[\"settings\"]\n",
    "exp_2 = get_data_from_path(base_exp + \"27\")[\"settings\"]\n",
    "\n",
    "print_model(exp_1)\n",
    "print()\n",
    "print_model(exp_2)\n",
    "print(list(range(1, 2*(exp_1.get_num_layers_decode() + 1) + 1, 2)))"
   ]
  },
  {
   "cell_type": "markdown",
   "metadata": {},
   "source": [
    "## Investigate Best"
   ]
  },
  {
   "cell_type": "code",
   "execution_count": 87,
   "metadata": {},
   "outputs": [
    {
     "name": "stdout",
     "output_type": "stream",
     "text": [
      "CAE2\n",
      "ModuleList(\n",
      "  (0): Conv3d(1, 8, kernel_size=(3, 3, 3), stride=(1, 1, 1))\n",
      "  (1): Conv3d(8, 8, kernel_size=(3, 3, 2), stride=(2, 2, 2), padding=(1, 0, 0))\n",
      "  (2): Conv3d(8, 8, kernel_size=(3, 3, 3), stride=(2, 2, 2), padding=(1, 1, 0))\n",
      "  (3): Conv3d(8, 8, kernel_size=(3, 3, 3), stride=(2, 2, 2), padding=(0, 1, 0))\n",
      "  (4): Conv3d(8, 8, kernel_size=(3, 3, 2), stride=(2, 2, 1))\n",
      "  (5): Conv3d(8, 4, kernel_size=(3, 3, 2), stride=(2, 2, 1), padding=(1, 1, 0))\n",
      "  (6): ConvTranspose3d(4, 8, kernel_size=(3, 3, 2), stride=(2, 2, 1), padding=(1, 1, 0))\n",
      "  (7): ConvTranspose3d(8, 8, kernel_size=(3, 3, 2), stride=(2, 2, 1))\n",
      "  (8): ConvTranspose3d(8, 8, kernel_size=(3, 3, 3), stride=(2, 2, 2), padding=(0, 1, 0))\n",
      "  (9): ConvTranspose3d(8, 8, kernel_size=(3, 3, 3), stride=(2, 2, 2), padding=(1, 1, 0))\n",
      "  (10): ConvTranspose3d(8, 8, kernel_size=(3, 3, 2), stride=(2, 2, 2), padding=(1, 0, 0))\n",
      "  (11): ConvTranspose3d(8, 1, kernel_size=(3, 3, 3), stride=(1, 1, 1))\n",
      ")\n",
      "[1, 8, 8, 8, 8, 8, 4]\n"
     ]
    }
   ],
   "source": [
    "path = \"/data/home/jfm1118/DA/experiments/CAE_zoo2/17\"\n",
    "exp = get_data_from_path(base_exp + str(17))[\"settings\"]\n",
    "\n",
    "print_model(exp_1)"
   ]
  },
  {
   "cell_type": "code",
   "execution_count": null,
   "metadata": {},
   "outputs": [],
   "source": []
  }
 ],
 "metadata": {
  "kernelspec": {
   "display_name": "Python [default]",
   "language": "python",
   "name": "python3"
  },
  "language_info": {
   "codemirror_mode": {
    "name": "ipython",
    "version": 3
   },
   "file_extension": ".py",
   "mimetype": "text/x-python",
   "name": "python",
   "nbconvert_exporter": "python",
   "pygments_lexer": "ipython3",
   "version": "3.5.5"
  },
  "toc": {
   "base_numbering": 1,
   "nav_menu": {},
   "number_sections": true,
   "sideBar": true,
   "skip_h1_title": false,
   "title_cell": "Table of Contents",
   "title_sidebar": "Contents",
   "toc_cell": true,
   "toc_position": {},
   "toc_section_display": true,
   "toc_window_display": true
  }
 },
 "nbformat": 4,
 "nbformat_minor": 2
}
