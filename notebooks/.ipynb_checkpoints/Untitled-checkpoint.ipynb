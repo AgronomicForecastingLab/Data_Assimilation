{
 "cells": [
  {
   "cell_type": "code",
   "execution_count": 19,
   "metadata": {},
   "outputs": [
    {
     "name": "stdout",
     "output_type": "stream",
     "text": [
      "The autoreload extension is already loaded. To reload it, use:\n",
      "  %reload_ext autoreload\n"
     ]
    }
   ],
   "source": [
    "%load_ext autoreload\n",
    "%autoreload 2"
   ]
  },
  {
   "cell_type": "code",
   "execution_count": 20,
   "metadata": {},
   "outputs": [],
   "source": [
    "import os, sys"
   ]
  },
  {
   "cell_type": "code",
   "execution_count": 21,
   "metadata": {},
   "outputs": [],
   "source": [
    "#import pipelin\n",
    "parent_dir = os.path.abspath(os.path.join(os.getcwd(), os.pardir))\n",
    "sys.path.append(parent_dir) #to import pipeline\n",
    "import pipeline"
   ]
  },
  {
   "cell_type": "code",
   "execution_count": 22,
   "metadata": {},
   "outputs": [],
   "source": [
    "from pipeline import ML_utils"
   ]
  },
  {
   "cell_type": "code",
   "execution_count": 6,
   "metadata": {},
   "outputs": [
    {
     "name": "stdout",
     "output_type": "stream",
     "text": [
      "0.pth\t       110_train.csv  149_test.csv   50.pth\t   80_train.csv\r\n",
      "0_test.csv     120.pth\t      149_train.csv  50_test.csv   90.pth\r\n",
      "0_train.csv    120_test.csv   20.pth\t     50_train.csv  90_test.csv\r\n",
      "100.pth        120_train.csv  20_test.csv    60.pth\t   90_train.csv\r\n",
      "100_test.csv   130.pth\t      20_train.csv   60_test.csv   settings.txt\r\n",
      "100_train.csv  130_test.csv   30.pth\t     60_train.csv  test.csv\r\n",
      "10.pth\t       130_train.csv  30_test.csv    70.pth\t   train.csv\r\n",
      "10_test.csv    140.pth\t      30_train.csv   70_test.csv\r\n",
      "10_train.csv   140_test.csv   40.pth\t     70_train.csv\r\n",
      "110.pth        140_train.csv  40_test.csv    80.pth\r\n",
      "110_test.csv   149.pth\t      40_train.csv   80_test.csv\r\n"
     ]
    }
   ],
   "source": [
    "!ls \"../experiments/train/01_resNeXt_3/0/\""
   ]
  },
  {
   "cell_type": "code",
   "execution_count": 23,
   "metadata": {},
   "outputs": [],
   "source": [
    "PATH = \"../experiments/train/01_resNeXt_3/0/0/\"\n"
   ]
  },
  {
   "cell_type": "code",
   "execution_count": 24,
   "metadata": {},
   "outputs": [],
   "source": [
    "model, settings = ML_utils.load_model_and_settings_from_dir(PATH)"
   ]
  },
  {
   "cell_type": "code",
   "execution_count": 25,
   "metadata": {},
   "outputs": [
    {
     "name": "stdout",
     "output_type": "stream",
     "text": [
      "Parameter containing:\n",
      "tensor([0.0660], device='cuda:0', requires_grad=True)\n"
     ]
    }
   ],
   "source": [
    "for k, v in model.named_parameters():\n",
    "    if k == \"layers_encode.1.attenuate_res\":\n",
    "        print(\"encode:\", v)\n",
    "    if k == \"layers_decode.1.attenuate_res\":\n",
    "        print(\"decode:\", v)\n"
   ]
  },
  {
   "cell_type": "code",
   "execution_count": 18,
   "metadata": {},
   "outputs": [
    {
     "data": {
      "text/plain": [
       "['SEQENTIAL',\n",
       " (5, 'conv'),\n",
       " (1, 'resResNeXt', {'C': 32, 'L': 3, 'N': 32}),\n",
       " (2, 'conv')]"
      ]
     },
     "execution_count": 18,
     "metadata": {},
     "output_type": "execute_result"
    }
   ],
   "source": [
    "\n",
    "            "
   ]
  },
  {
   "cell_type": "code",
   "execution_count": null,
   "metadata": {},
   "outputs": [],
   "source": []
  }
 ],
 "metadata": {
  "kernelspec": {
   "display_name": "Python [default]",
   "language": "python",
   "name": "python3"
  },
  "language_info": {
   "codemirror_mode": {
    "name": "ipython",
    "version": 3
   },
   "file_extension": ".py",
   "mimetype": "text/x-python",
   "name": "python",
   "nbconvert_exporter": "python",
   "pygments_lexer": "ipython3",
   "version": "3.5.5"
  }
 },
 "nbformat": 4,
 "nbformat_minor": 2
}
